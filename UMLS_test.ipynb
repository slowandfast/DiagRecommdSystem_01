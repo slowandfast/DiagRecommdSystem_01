{
  "nbformat": 4,
  "nbformat_minor": 0,
  "metadata": {
    "colab": {
      "provenance": [],
      "authorship_tag": "ABX9TyPgJx/qYx7Bo4Obkx3WT1kA",
      "include_colab_link": true
    },
    "kernelspec": {
      "name": "python3",
      "display_name": "Python 3"
    },
    "language_info": {
      "name": "python"
    }
  },
  "cells": [
    {
      "cell_type": "markdown",
      "metadata": {
        "id": "view-in-github",
        "colab_type": "text"
      },
      "source": [
        "<a href=\"https://colab.research.google.com/github/slowandfast/DiagRecommdSystem_01/blob/main/UMLS_test.ipynb\" target=\"_parent\"><img src=\"https://colab.research.google.com/assets/colab-badge.svg\" alt=\"Open In Colab\"/></a>"
      ]
    },
    {
      "cell_type": "code",
      "execution_count": 1,
      "metadata": {
        "colab": {
          "base_uri": "https://localhost:8080/",
          "height": 410
        },
        "id": "_4iQ8RJoCw8Y",
        "outputId": "1ef07045-d423-4350-f26c-ef500fa7713f"
      },
      "outputs": [
        {
          "output_type": "error",
          "ename": "ModuleNotFoundError",
          "evalue": "No module named 'umls'",
          "traceback": [
            "\u001b[0;31m---------------------------------------------------------------------------\u001b[0m",
            "\u001b[0;31mModuleNotFoundError\u001b[0m                       Traceback (most recent call last)",
            "\u001b[0;32m<ipython-input-1-4fc7fd90011c>\u001b[0m in \u001b[0;36m<cell line: 1>\u001b[0;34m()\u001b[0m\n\u001b[0;32m----> 1\u001b[0;31m \u001b[0;32mfrom\u001b[0m \u001b[0mumls\u001b[0m \u001b[0;32mimport\u001b[0m \u001b[0mumls_api\u001b[0m\u001b[0;34m\u001b[0m\u001b[0;34m\u001b[0m\u001b[0m\n\u001b[0m\u001b[1;32m      2\u001b[0m \u001b[0;34m\u001b[0m\u001b[0m\n\u001b[1;32m      3\u001b[0m \u001b[0;31m# UMLS API 연결 설정\u001b[0m\u001b[0;34m\u001b[0m\u001b[0;34m\u001b[0m\u001b[0m\n\u001b[1;32m      4\u001b[0m \u001b[0mumls_api\u001b[0m\u001b[0;34m.\u001b[0m\u001b[0mapi_key\u001b[0m \u001b[0;34m=\u001b[0m \u001b[0;34m'1d89f4a3-97b8-4951-90f1-021a355aa6d4'\u001b[0m  \u001b[0;31m# UMLS API 키 설정\u001b[0m\u001b[0;34m\u001b[0m\u001b[0;34m\u001b[0m\u001b[0m\n\u001b[1;32m      5\u001b[0m \u001b[0;34m\u001b[0m\u001b[0m\n",
            "\u001b[0;31mModuleNotFoundError\u001b[0m: No module named 'umls'",
            "",
            "\u001b[0;31m---------------------------------------------------------------------------\u001b[0;32m\nNOTE: If your import is failing due to a missing package, you can\nmanually install dependencies using either !pip or !apt.\n\nTo view examples of installing some common dependencies, click the\n\"Open Examples\" button below.\n\u001b[0;31m---------------------------------------------------------------------------\u001b[0m\n"
          ],
          "errorDetails": {
            "actions": [
              {
                "action": "open_url",
                "actionText": "Open Examples",
                "url": "/notebooks/snippets/importing_libraries.ipynb"
              }
            ]
          }
        }
      ],
      "source": [
        "from umls import umls_api\n",
        "\n",
        "# UMLS API 연결 설정\n",
        "umls_api.api_key = '1d89f4a3-97b8-4951-90f1-021a355aa6d4'  # UMLS API 키 설정\n",
        "\n",
        "# 용어 리스트 정의\n",
        "terms = [\"headache\", \"headaches\", \"cranial pain\", \"cephalgia\", \"head pain\"]\n",
        "\n",
        "# 용어에 대한 CUI 조회\n",
        "for term in terms:\n",
        "    cui_info = umls_api.get_cui(term)\n",
        "    print(f\"Term: {term}\")\n",
        "    if cui_info:\n",
        "        print(f\"CUI: {cui_info['cui']}\")\n",
        "    else:\n",
        "        print(\"No CUI found\")\n",
        "    print(\"\\n\")"
      ]
    },
    {
      "cell_type": "code",
      "source": [
        "import requests\n",
        "\n",
        "def get_cui(api_key, term):\n",
        "    base_url = \"https://uts-ws.nlm.nih.gov/rest\"\n",
        "    service = \"search\"\n",
        "    version = \"current\"\n",
        "    term = term.replace(\" \", \"%20\")\n",
        "\n",
        "    url = f\"{base_url}/{service}/{version}?string={term}&apiKey={api_key}\"\n",
        "\n",
        "    response = requests.get(url)\n",
        "    if response.status_code == 200:\n",
        "        data = response.json()\n",
        "\n",
        "        results = data[\"result\"]\n",
        "        if results[\"results\"]:\n",
        "            cui = results[\"results\"][0][\"ui\"]\n",
        "            return cui\n",
        "        else:\n",
        "            print(\"No results found.\")\n",
        "    else:\n",
        "        print(f\"Error: {response.status_code}\")\n",
        "\n",
        "def get_preferred_term(api_key, cui):\n",
        "    base_url = \"https://uts-ws.nlm.nih.gov/rest\"\n",
        "    service = \"content\"\n",
        "    version = \"current\"\n",
        "    action = \"CUI\"\n",
        "    print(cui)\n",
        "\n",
        "    url = f\"{base_url}/{service}/{version}/{action}/{cui}/atoms?sabs=SNOMEDCT_US&ttys=PT&apiKey={api_key}\"\n",
        "\n",
        "    response = requests.get(url)\n",
        "    if response.status_code == 200:\n",
        "        data = response.json()\n",
        "        print(type(data))\n",
        "\n",
        "        for item in data:\n",
        "            if colnm in item:\n",
        "                if item[colnm] == 'name':\n",
        "                    print(f\"The value of {column_name} is: {target_value}\")\n",
        "                    break\n",
        "        else:\n",
        "            print(f\"No matching value found for {column_name}: {target_value}\")\n",
        "\n",
        "        return preferred_term\n",
        "    else:\n",
        "        print(f\"Error: {response.status_code}\")\n",
        "\n",
        "def get_preferred_term_for_terms(api_key, terms):\n",
        "    cui_dict = {}\n",
        "    for term in terms:\n",
        "        cui = get_cui(api_key, term)\n",
        "        print(f'cui : {cui}')\n",
        "        if cui:\n",
        "            cui_dict[cui] = term\n",
        "\n",
        "    print('>>> ', list(cui_dict.keys()))\n",
        "\n",
        "    preferred_term = []\n",
        "\n",
        "    if cui_dict:\n",
        "        for key in list(cui_dict.keys()):\n",
        "          preferred_term.append(get_preferred_term(api_key, key))\n",
        "        return preferred_term\n",
        "    else:\n",
        "        return \"No preferred term found.\"\n",
        "\n",
        "# UMLS API 키\n",
        "api_key = \"1d89f4a3-97b8-4951-90f1-021a355aa6d4\"\n",
        "# 검색할 용어 리스트\n",
        "terms = [\"headache\", \"headaches\", \"cranial pain\"]\n",
        "\n",
        "preferred_term = get_preferred_term_for_terms(api_key, terms)\n",
        "\n",
        "print(f\"The preferred term is: {preferred_term}\")"
      ],
      "metadata": {
        "colab": {
          "base_uri": "https://localhost:8080/"
        },
        "id": "Vs-85WFQltXz",
        "outputId": "d89ef8b3-dad1-4272-fb81-1673f5ec1e9d"
      },
      "execution_count": 28,
      "outputs": [
        {
          "output_type": "stream",
          "name": "stdout",
          "text": [
            "cui : C0018681\n",
            "cui : C0018681\n",
            "cui : C0018681\n",
            ">>>  ['C0018681']\n",
            "C0018681\n",
            "<class 'dict'>\n",
            "The preferred term is: [{'classType': 'Atom', 'ui': 'A2882197', 'sourceDescriptor': 'NONE', 'sourceConcept': 'https://uts-ws.nlm.nih.gov/rest/content/2024AA/source/SNOMEDCT_US/25064002', 'concept': 'https://uts-ws.nlm.nih.gov/rest/content/2024AA/CUI/C0018681', 'suppressible': 'false', 'obsolete': 'false', 'rootSource': 'SNOMEDCT_US', 'termType': 'PT', 'code': 'https://uts-ws.nlm.nih.gov/rest/content/2024AA/source/SNOMEDCT_US/25064002', 'language': 'ENG', 'name': 'Headache', 'ancestors': 'NONE', 'descendants': 'NONE', 'attributes': 'https://uts-ws.nlm.nih.gov/rest/content/2024AA/AUI/A2882197/attributes', 'relations': 'NONE', 'children': 'NONE', 'parents': 'NONE'}]\n"
          ]
        }
      ]
    }
  ]
}