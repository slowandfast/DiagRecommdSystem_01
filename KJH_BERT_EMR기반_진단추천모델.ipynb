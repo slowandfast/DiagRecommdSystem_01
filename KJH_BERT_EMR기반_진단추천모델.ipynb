{
  "nbformat": 4,
  "nbformat_minor": 0,
  "metadata": {
    "colab": {
      "provenance": [],
      "gpuType": "T4",
      "include_colab_link": true
    },
    "kernelspec": {
      "name": "python3",
      "display_name": "Python 3"
    },
    "language_info": {
      "name": "python"
    },
    "accelerator": "GPU",
    "widgets": {
      "application/vnd.jupyter.widget-state+json": {
        "e823800f98064ad7913e97fd39e0fc7f": {
          "model_module": "@jupyter-widgets/controls",
          "model_name": "HBoxModel",
          "model_module_version": "1.5.0",
          "state": {
            "_dom_classes": [],
            "_model_module": "@jupyter-widgets/controls",
            "_model_module_version": "1.5.0",
            "_model_name": "HBoxModel",
            "_view_count": null,
            "_view_module": "@jupyter-widgets/controls",
            "_view_module_version": "1.5.0",
            "_view_name": "HBoxView",
            "box_style": "",
            "children": [
              "IPY_MODEL_a60c3f4e507d46eba8baee221a6b3437",
              "IPY_MODEL_7e15bfbe952041e69c8e3527de96575c",
              "IPY_MODEL_2a638b91f0ab4302b2095c558f49a841"
            ],
            "layout": "IPY_MODEL_7e2fb2b3c8fb4e389608459c4ee20fdb"
          }
        },
        "a60c3f4e507d46eba8baee221a6b3437": {
          "model_module": "@jupyter-widgets/controls",
          "model_name": "HTMLModel",
          "model_module_version": "1.5.0",
          "state": {
            "_dom_classes": [],
            "_model_module": "@jupyter-widgets/controls",
            "_model_module_version": "1.5.0",
            "_model_name": "HTMLModel",
            "_view_count": null,
            "_view_module": "@jupyter-widgets/controls",
            "_view_module_version": "1.5.0",
            "_view_name": "HTMLView",
            "description": "",
            "description_tooltip": null,
            "layout": "IPY_MODEL_8bfa842bf5b6419782beefa914e193f7",
            "placeholder": "​",
            "style": "IPY_MODEL_285df378ba2145db97419903561ec1b7",
            "value": "model.safetensors: 100%"
          }
        },
        "7e15bfbe952041e69c8e3527de96575c": {
          "model_module": "@jupyter-widgets/controls",
          "model_name": "FloatProgressModel",
          "model_module_version": "1.5.0",
          "state": {
            "_dom_classes": [],
            "_model_module": "@jupyter-widgets/controls",
            "_model_module_version": "1.5.0",
            "_model_name": "FloatProgressModel",
            "_view_count": null,
            "_view_module": "@jupyter-widgets/controls",
            "_view_module_version": "1.5.0",
            "_view_name": "ProgressView",
            "bar_style": "success",
            "description": "",
            "description_tooltip": null,
            "layout": "IPY_MODEL_301b9ddeacfa40e79c49715c36c20f34",
            "max": 1334372264,
            "min": 0,
            "orientation": "horizontal",
            "style": "IPY_MODEL_99a697a0dbe94e36b8394c6b9093f478",
            "value": 1334372264
          }
        },
        "2a638b91f0ab4302b2095c558f49a841": {
          "model_module": "@jupyter-widgets/controls",
          "model_name": "HTMLModel",
          "model_module_version": "1.5.0",
          "state": {
            "_dom_classes": [],
            "_model_module": "@jupyter-widgets/controls",
            "_model_module_version": "1.5.0",
            "_model_name": "HTMLModel",
            "_view_count": null,
            "_view_module": "@jupyter-widgets/controls",
            "_view_module_version": "1.5.0",
            "_view_name": "HTMLView",
            "description": "",
            "description_tooltip": null,
            "layout": "IPY_MODEL_b05038c9933844499cd8a91d15fe0eb8",
            "placeholder": "​",
            "style": "IPY_MODEL_3896b584b5dd440e8a1b295c1bebc421",
            "value": " 1.33G/1.33G [00:09&lt;00:00, 108MB/s]"
          }
        },
        "7e2fb2b3c8fb4e389608459c4ee20fdb": {
          "model_module": "@jupyter-widgets/base",
          "model_name": "LayoutModel",
          "model_module_version": "1.2.0",
          "state": {
            "_model_module": "@jupyter-widgets/base",
            "_model_module_version": "1.2.0",
            "_model_name": "LayoutModel",
            "_view_count": null,
            "_view_module": "@jupyter-widgets/base",
            "_view_module_version": "1.2.0",
            "_view_name": "LayoutView",
            "align_content": null,
            "align_items": null,
            "align_self": null,
            "border": null,
            "bottom": null,
            "display": null,
            "flex": null,
            "flex_flow": null,
            "grid_area": null,
            "grid_auto_columns": null,
            "grid_auto_flow": null,
            "grid_auto_rows": null,
            "grid_column": null,
            "grid_gap": null,
            "grid_row": null,
            "grid_template_areas": null,
            "grid_template_columns": null,
            "grid_template_rows": null,
            "height": null,
            "justify_content": null,
            "justify_items": null,
            "left": null,
            "margin": null,
            "max_height": null,
            "max_width": null,
            "min_height": null,
            "min_width": null,
            "object_fit": null,
            "object_position": null,
            "order": null,
            "overflow": null,
            "overflow_x": null,
            "overflow_y": null,
            "padding": null,
            "right": null,
            "top": null,
            "visibility": null,
            "width": null
          }
        },
        "8bfa842bf5b6419782beefa914e193f7": {
          "model_module": "@jupyter-widgets/base",
          "model_name": "LayoutModel",
          "model_module_version": "1.2.0",
          "state": {
            "_model_module": "@jupyter-widgets/base",
            "_model_module_version": "1.2.0",
            "_model_name": "LayoutModel",
            "_view_count": null,
            "_view_module": "@jupyter-widgets/base",
            "_view_module_version": "1.2.0",
            "_view_name": "LayoutView",
            "align_content": null,
            "align_items": null,
            "align_self": null,
            "border": null,
            "bottom": null,
            "display": null,
            "flex": null,
            "flex_flow": null,
            "grid_area": null,
            "grid_auto_columns": null,
            "grid_auto_flow": null,
            "grid_auto_rows": null,
            "grid_column": null,
            "grid_gap": null,
            "grid_row": null,
            "grid_template_areas": null,
            "grid_template_columns": null,
            "grid_template_rows": null,
            "height": null,
            "justify_content": null,
            "justify_items": null,
            "left": null,
            "margin": null,
            "max_height": null,
            "max_width": null,
            "min_height": null,
            "min_width": null,
            "object_fit": null,
            "object_position": null,
            "order": null,
            "overflow": null,
            "overflow_x": null,
            "overflow_y": null,
            "padding": null,
            "right": null,
            "top": null,
            "visibility": null,
            "width": null
          }
        },
        "285df378ba2145db97419903561ec1b7": {
          "model_module": "@jupyter-widgets/controls",
          "model_name": "DescriptionStyleModel",
          "model_module_version": "1.5.0",
          "state": {
            "_model_module": "@jupyter-widgets/controls",
            "_model_module_version": "1.5.0",
            "_model_name": "DescriptionStyleModel",
            "_view_count": null,
            "_view_module": "@jupyter-widgets/base",
            "_view_module_version": "1.2.0",
            "_view_name": "StyleView",
            "description_width": ""
          }
        },
        "301b9ddeacfa40e79c49715c36c20f34": {
          "model_module": "@jupyter-widgets/base",
          "model_name": "LayoutModel",
          "model_module_version": "1.2.0",
          "state": {
            "_model_module": "@jupyter-widgets/base",
            "_model_module_version": "1.2.0",
            "_model_name": "LayoutModel",
            "_view_count": null,
            "_view_module": "@jupyter-widgets/base",
            "_view_module_version": "1.2.0",
            "_view_name": "LayoutView",
            "align_content": null,
            "align_items": null,
            "align_self": null,
            "border": null,
            "bottom": null,
            "display": null,
            "flex": null,
            "flex_flow": null,
            "grid_area": null,
            "grid_auto_columns": null,
            "grid_auto_flow": null,
            "grid_auto_rows": null,
            "grid_column": null,
            "grid_gap": null,
            "grid_row": null,
            "grid_template_areas": null,
            "grid_template_columns": null,
            "grid_template_rows": null,
            "height": null,
            "justify_content": null,
            "justify_items": null,
            "left": null,
            "margin": null,
            "max_height": null,
            "max_width": null,
            "min_height": null,
            "min_width": null,
            "object_fit": null,
            "object_position": null,
            "order": null,
            "overflow": null,
            "overflow_x": null,
            "overflow_y": null,
            "padding": null,
            "right": null,
            "top": null,
            "visibility": null,
            "width": null
          }
        },
        "99a697a0dbe94e36b8394c6b9093f478": {
          "model_module": "@jupyter-widgets/controls",
          "model_name": "ProgressStyleModel",
          "model_module_version": "1.5.0",
          "state": {
            "_model_module": "@jupyter-widgets/controls",
            "_model_module_version": "1.5.0",
            "_model_name": "ProgressStyleModel",
            "_view_count": null,
            "_view_module": "@jupyter-widgets/base",
            "_view_module_version": "1.2.0",
            "_view_name": "StyleView",
            "bar_color": null,
            "description_width": ""
          }
        },
        "b05038c9933844499cd8a91d15fe0eb8": {
          "model_module": "@jupyter-widgets/base",
          "model_name": "LayoutModel",
          "model_module_version": "1.2.0",
          "state": {
            "_model_module": "@jupyter-widgets/base",
            "_model_module_version": "1.2.0",
            "_model_name": "LayoutModel",
            "_view_count": null,
            "_view_module": "@jupyter-widgets/base",
            "_view_module_version": "1.2.0",
            "_view_name": "LayoutView",
            "align_content": null,
            "align_items": null,
            "align_self": null,
            "border": null,
            "bottom": null,
            "display": null,
            "flex": null,
            "flex_flow": null,
            "grid_area": null,
            "grid_auto_columns": null,
            "grid_auto_flow": null,
            "grid_auto_rows": null,
            "grid_column": null,
            "grid_gap": null,
            "grid_row": null,
            "grid_template_areas": null,
            "grid_template_columns": null,
            "grid_template_rows": null,
            "height": null,
            "justify_content": null,
            "justify_items": null,
            "left": null,
            "margin": null,
            "max_height": null,
            "max_width": null,
            "min_height": null,
            "min_width": null,
            "object_fit": null,
            "object_position": null,
            "order": null,
            "overflow": null,
            "overflow_x": null,
            "overflow_y": null,
            "padding": null,
            "right": null,
            "top": null,
            "visibility": null,
            "width": null
          }
        },
        "3896b584b5dd440e8a1b295c1bebc421": {
          "model_module": "@jupyter-widgets/controls",
          "model_name": "DescriptionStyleModel",
          "model_module_version": "1.5.0",
          "state": {
            "_model_module": "@jupyter-widgets/controls",
            "_model_module_version": "1.5.0",
            "_model_name": "DescriptionStyleModel",
            "_view_count": null,
            "_view_module": "@jupyter-widgets/base",
            "_view_module_version": "1.2.0",
            "_view_name": "StyleView",
            "description_width": ""
          }
        }
      }
    }
  },
  "cells": [
    {
      "cell_type": "markdown",
      "metadata": {
        "id": "view-in-github",
        "colab_type": "text"
      },
      "source": [
        "<a href=\"https://colab.research.google.com/github/slowandfast/DiagRecommdSystem_01/blob/main/KJH_BERT_EMR%EA%B8%B0%EB%B0%98_%EC%A7%84%EB%8B%A8%EC%B6%94%EC%B2%9C%EB%AA%A8%EB%8D%B8.ipynb\" target=\"_parent\"><img src=\"https://colab.research.google.com/assets/colab-badge.svg\" alt=\"Open In Colab\"/></a>"
      ]
    },
    {
      "cell_type": "code",
      "execution_count": 1,
      "metadata": {
        "colab": {
          "base_uri": "https://localhost:8080/"
        },
        "id": "maG93-lmxLF-",
        "outputId": "452fa4a9-303b-4640-ca3c-353febddddc7"
      },
      "outputs": [
        {
          "output_type": "stream",
          "name": "stdout",
          "text": [
            "Requirement already satisfied: torch in /usr/local/lib/python3.10/dist-packages (2.2.1+cu121)\n",
            "Requirement already satisfied: filelock in /usr/local/lib/python3.10/dist-packages (from torch) (3.14.0)\n",
            "Requirement already satisfied: typing-extensions>=4.8.0 in /usr/local/lib/python3.10/dist-packages (from torch) (4.11.0)\n",
            "Requirement already satisfied: sympy in /usr/local/lib/python3.10/dist-packages (from torch) (1.12)\n",
            "Requirement already satisfied: networkx in /usr/local/lib/python3.10/dist-packages (from torch) (3.3)\n",
            "Requirement already satisfied: jinja2 in /usr/local/lib/python3.10/dist-packages (from torch) (3.1.4)\n",
            "Requirement already satisfied: fsspec in /usr/local/lib/python3.10/dist-packages (from torch) (2023.6.0)\n",
            "Collecting nvidia-cuda-nvrtc-cu12==12.1.105 (from torch)\n",
            "  Using cached nvidia_cuda_nvrtc_cu12-12.1.105-py3-none-manylinux1_x86_64.whl (23.7 MB)\n",
            "Collecting nvidia-cuda-runtime-cu12==12.1.105 (from torch)\n",
            "  Using cached nvidia_cuda_runtime_cu12-12.1.105-py3-none-manylinux1_x86_64.whl (823 kB)\n",
            "Collecting nvidia-cuda-cupti-cu12==12.1.105 (from torch)\n",
            "  Using cached nvidia_cuda_cupti_cu12-12.1.105-py3-none-manylinux1_x86_64.whl (14.1 MB)\n",
            "Collecting nvidia-cudnn-cu12==8.9.2.26 (from torch)\n",
            "  Using cached nvidia_cudnn_cu12-8.9.2.26-py3-none-manylinux1_x86_64.whl (731.7 MB)\n",
            "Collecting nvidia-cublas-cu12==12.1.3.1 (from torch)\n",
            "  Using cached nvidia_cublas_cu12-12.1.3.1-py3-none-manylinux1_x86_64.whl (410.6 MB)\n",
            "Collecting nvidia-cufft-cu12==11.0.2.54 (from torch)\n",
            "  Using cached nvidia_cufft_cu12-11.0.2.54-py3-none-manylinux1_x86_64.whl (121.6 MB)\n",
            "Collecting nvidia-curand-cu12==10.3.2.106 (from torch)\n",
            "  Using cached nvidia_curand_cu12-10.3.2.106-py3-none-manylinux1_x86_64.whl (56.5 MB)\n",
            "Collecting nvidia-cusolver-cu12==11.4.5.107 (from torch)\n",
            "  Using cached nvidia_cusolver_cu12-11.4.5.107-py3-none-manylinux1_x86_64.whl (124.2 MB)\n",
            "Collecting nvidia-cusparse-cu12==12.1.0.106 (from torch)\n",
            "  Using cached nvidia_cusparse_cu12-12.1.0.106-py3-none-manylinux1_x86_64.whl (196.0 MB)\n",
            "Collecting nvidia-nccl-cu12==2.19.3 (from torch)\n",
            "  Using cached nvidia_nccl_cu12-2.19.3-py3-none-manylinux1_x86_64.whl (166.0 MB)\n",
            "Collecting nvidia-nvtx-cu12==12.1.105 (from torch)\n",
            "  Using cached nvidia_nvtx_cu12-12.1.105-py3-none-manylinux1_x86_64.whl (99 kB)\n",
            "Requirement already satisfied: triton==2.2.0 in /usr/local/lib/python3.10/dist-packages (from torch) (2.2.0)\n",
            "Collecting nvidia-nvjitlink-cu12 (from nvidia-cusolver-cu12==11.4.5.107->torch)\n",
            "  Using cached nvidia_nvjitlink_cu12-12.4.127-py3-none-manylinux2014_x86_64.whl (21.1 MB)\n",
            "Requirement already satisfied: MarkupSafe>=2.0 in /usr/local/lib/python3.10/dist-packages (from jinja2->torch) (2.1.5)\n",
            "Requirement already satisfied: mpmath>=0.19 in /usr/local/lib/python3.10/dist-packages (from sympy->torch) (1.3.0)\n",
            "Installing collected packages: nvidia-nvtx-cu12, nvidia-nvjitlink-cu12, nvidia-nccl-cu12, nvidia-curand-cu12, nvidia-cufft-cu12, nvidia-cuda-runtime-cu12, nvidia-cuda-nvrtc-cu12, nvidia-cuda-cupti-cu12, nvidia-cublas-cu12, nvidia-cusparse-cu12, nvidia-cudnn-cu12, nvidia-cusolver-cu12\n",
            "Successfully installed nvidia-cublas-cu12-12.1.3.1 nvidia-cuda-cupti-cu12-12.1.105 nvidia-cuda-nvrtc-cu12-12.1.105 nvidia-cuda-runtime-cu12-12.1.105 nvidia-cudnn-cu12-8.9.2.26 nvidia-cufft-cu12-11.0.2.54 nvidia-curand-cu12-10.3.2.106 nvidia-cusolver-cu12-11.4.5.107 nvidia-cusparse-cu12-12.1.0.106 nvidia-nccl-cu12-2.19.3 nvidia-nvjitlink-cu12-12.4.127 nvidia-nvtx-cu12-12.1.105\n",
            "Requirement already satisfied: transformers in /usr/local/lib/python3.10/dist-packages (4.40.2)\n",
            "Requirement already satisfied: filelock in /usr/local/lib/python3.10/dist-packages (from transformers) (3.14.0)\n",
            "Requirement already satisfied: huggingface-hub<1.0,>=0.19.3 in /usr/local/lib/python3.10/dist-packages (from transformers) (0.20.3)\n",
            "Requirement already satisfied: numpy>=1.17 in /usr/local/lib/python3.10/dist-packages (from transformers) (1.25.2)\n",
            "Requirement already satisfied: packaging>=20.0 in /usr/local/lib/python3.10/dist-packages (from transformers) (24.0)\n",
            "Requirement already satisfied: pyyaml>=5.1 in /usr/local/lib/python3.10/dist-packages (from transformers) (6.0.1)\n",
            "Requirement already satisfied: regex!=2019.12.17 in /usr/local/lib/python3.10/dist-packages (from transformers) (2023.12.25)\n",
            "Requirement already satisfied: requests in /usr/local/lib/python3.10/dist-packages (from transformers) (2.31.0)\n",
            "Requirement already satisfied: tokenizers<0.20,>=0.19 in /usr/local/lib/python3.10/dist-packages (from transformers) (0.19.1)\n",
            "Requirement already satisfied: safetensors>=0.4.1 in /usr/local/lib/python3.10/dist-packages (from transformers) (0.4.3)\n",
            "Requirement already satisfied: tqdm>=4.27 in /usr/local/lib/python3.10/dist-packages (from transformers) (4.66.4)\n",
            "Requirement already satisfied: fsspec>=2023.5.0 in /usr/local/lib/python3.10/dist-packages (from huggingface-hub<1.0,>=0.19.3->transformers) (2023.6.0)\n",
            "Requirement already satisfied: typing-extensions>=3.7.4.3 in /usr/local/lib/python3.10/dist-packages (from huggingface-hub<1.0,>=0.19.3->transformers) (4.11.0)\n",
            "Requirement already satisfied: charset-normalizer<4,>=2 in /usr/local/lib/python3.10/dist-packages (from requests->transformers) (3.3.2)\n",
            "Requirement already satisfied: idna<4,>=2.5 in /usr/local/lib/python3.10/dist-packages (from requests->transformers) (3.7)\n",
            "Requirement already satisfied: urllib3<3,>=1.21.1 in /usr/local/lib/python3.10/dist-packages (from requests->transformers) (2.0.7)\n",
            "Requirement already satisfied: certifi>=2017.4.17 in /usr/local/lib/python3.10/dist-packages (from requests->transformers) (2024.2.2)\n"
          ]
        }
      ],
      "source": [
        "!pip install torch\n",
        "!pip install transformers"
      ]
    },
    {
      "cell_type": "code",
      "source": [
        "import numpy as np\n",
        "import pandas as pd\n",
        "import torch\n",
        "import torch.nn.functional as F\n",
        "from torch.utils.data import Dataset, DataLoader\n",
        "from torch.optim import Adam\n",
        "from transformers import AutoTokenizer, AutoModelForSequenceClassification\n",
        "from sklearn.model_selection import train_test_split\n",
        "from sklearn.preprocessing import LabelEncoder"
      ],
      "metadata": {
        "id": "7V1aSw5m2w9o"
      },
      "execution_count": 2,
      "outputs": []
    },
    {
      "cell_type": "code",
      "source": [
        "file_path = '/content/신장내과_본원_외래_20230701_20231231_filtered.xlsx'\n",
        "\n",
        "selected_columns = ['ICD10', 'transstr']\n",
        "df = pd.read_excel(file_path, usecols=selected_columns)\n",
        "\n",
        "print('전체 데이터 수 :',len(df))\n",
        "df.head(5)"
      ],
      "metadata": {
        "colab": {
          "base_uri": "https://localhost:8080/",
          "height": 224
        },
        "id": "JGjdysN041BS",
        "outputId": "197a19d1-5031-4f6a-ad36-03683ef503f2"
      },
      "execution_count": 3,
      "outputs": [
        {
          "output_type": "stream",
          "name": "stdout",
          "text": [
            "전체 데이터 수 : 826\n"
          ]
        },
        {
          "output_type": "execute_result",
          "data": {
            "text/plain": [
              "  ICD10                                           transstr\n",
              "0  N391  115-61-61 2023.5.10.Suspicion of proteinuria i...\n",
              "1  N184  130/61/69 Symptoms (-), edema (-), urbanic sym...\n",
              "2  N184  153/75/85 osophy (-), edema (-), urinary sympt...\n",
              "3  N185  148/90/64 Idema Mild CKD D/T ADPKD has been tr...\n",
              "4  N183  Hello teacher, I am a patient who is being hos..."
            ],
            "text/html": [
              "\n",
              "  <div id=\"df-cc35c424-ba6a-4d01-a7f5-1caa2c9bd5aa\" class=\"colab-df-container\">\n",
              "    <div>\n",
              "<style scoped>\n",
              "    .dataframe tbody tr th:only-of-type {\n",
              "        vertical-align: middle;\n",
              "    }\n",
              "\n",
              "    .dataframe tbody tr th {\n",
              "        vertical-align: top;\n",
              "    }\n",
              "\n",
              "    .dataframe thead th {\n",
              "        text-align: right;\n",
              "    }\n",
              "</style>\n",
              "<table border=\"1\" class=\"dataframe\">\n",
              "  <thead>\n",
              "    <tr style=\"text-align: right;\">\n",
              "      <th></th>\n",
              "      <th>ICD10</th>\n",
              "      <th>transstr</th>\n",
              "    </tr>\n",
              "  </thead>\n",
              "  <tbody>\n",
              "    <tr>\n",
              "      <th>0</th>\n",
              "      <td>N391</td>\n",
              "      <td>115-61-61 2023.5.10.Suspicion of proteinuria i...</td>\n",
              "    </tr>\n",
              "    <tr>\n",
              "      <th>1</th>\n",
              "      <td>N184</td>\n",
              "      <td>130/61/69 Symptoms (-), edema (-), urbanic sym...</td>\n",
              "    </tr>\n",
              "    <tr>\n",
              "      <th>2</th>\n",
              "      <td>N184</td>\n",
              "      <td>153/75/85 osophy (-), edema (-), urinary sympt...</td>\n",
              "    </tr>\n",
              "    <tr>\n",
              "      <th>3</th>\n",
              "      <td>N185</td>\n",
              "      <td>148/90/64 Idema Mild CKD D/T ADPKD has been tr...</td>\n",
              "    </tr>\n",
              "    <tr>\n",
              "      <th>4</th>\n",
              "      <td>N183</td>\n",
              "      <td>Hello teacher, I am a patient who is being hos...</td>\n",
              "    </tr>\n",
              "  </tbody>\n",
              "</table>\n",
              "</div>\n",
              "    <div class=\"colab-df-buttons\">\n",
              "\n",
              "  <div class=\"colab-df-container\">\n",
              "    <button class=\"colab-df-convert\" onclick=\"convertToInteractive('df-cc35c424-ba6a-4d01-a7f5-1caa2c9bd5aa')\"\n",
              "            title=\"Convert this dataframe to an interactive table.\"\n",
              "            style=\"display:none;\">\n",
              "\n",
              "  <svg xmlns=\"http://www.w3.org/2000/svg\" height=\"24px\" viewBox=\"0 -960 960 960\">\n",
              "    <path d=\"M120-120v-720h720v720H120Zm60-500h600v-160H180v160Zm220 220h160v-160H400v160Zm0 220h160v-160H400v160ZM180-400h160v-160H180v160Zm440 0h160v-160H620v160ZM180-180h160v-160H180v160Zm440 0h160v-160H620v160Z\"/>\n",
              "  </svg>\n",
              "    </button>\n",
              "\n",
              "  <style>\n",
              "    .colab-df-container {\n",
              "      display:flex;\n",
              "      gap: 12px;\n",
              "    }\n",
              "\n",
              "    .colab-df-convert {\n",
              "      background-color: #E8F0FE;\n",
              "      border: none;\n",
              "      border-radius: 50%;\n",
              "      cursor: pointer;\n",
              "      display: none;\n",
              "      fill: #1967D2;\n",
              "      height: 32px;\n",
              "      padding: 0 0 0 0;\n",
              "      width: 32px;\n",
              "    }\n",
              "\n",
              "    .colab-df-convert:hover {\n",
              "      background-color: #E2EBFA;\n",
              "      box-shadow: 0px 1px 2px rgba(60, 64, 67, 0.3), 0px 1px 3px 1px rgba(60, 64, 67, 0.15);\n",
              "      fill: #174EA6;\n",
              "    }\n",
              "\n",
              "    .colab-df-buttons div {\n",
              "      margin-bottom: 4px;\n",
              "    }\n",
              "\n",
              "    [theme=dark] .colab-df-convert {\n",
              "      background-color: #3B4455;\n",
              "      fill: #D2E3FC;\n",
              "    }\n",
              "\n",
              "    [theme=dark] .colab-df-convert:hover {\n",
              "      background-color: #434B5C;\n",
              "      box-shadow: 0px 1px 3px 1px rgba(0, 0, 0, 0.15);\n",
              "      filter: drop-shadow(0px 1px 2px rgba(0, 0, 0, 0.3));\n",
              "      fill: #FFFFFF;\n",
              "    }\n",
              "  </style>\n",
              "\n",
              "    <script>\n",
              "      const buttonEl =\n",
              "        document.querySelector('#df-cc35c424-ba6a-4d01-a7f5-1caa2c9bd5aa button.colab-df-convert');\n",
              "      buttonEl.style.display =\n",
              "        google.colab.kernel.accessAllowed ? 'block' : 'none';\n",
              "\n",
              "      async function convertToInteractive(key) {\n",
              "        const element = document.querySelector('#df-cc35c424-ba6a-4d01-a7f5-1caa2c9bd5aa');\n",
              "        const dataTable =\n",
              "          await google.colab.kernel.invokeFunction('convertToInteractive',\n",
              "                                                    [key], {});\n",
              "        if (!dataTable) return;\n",
              "\n",
              "        const docLinkHtml = 'Like what you see? Visit the ' +\n",
              "          '<a target=\"_blank\" href=https://colab.research.google.com/notebooks/data_table.ipynb>data table notebook</a>'\n",
              "          + ' to learn more about interactive tables.';\n",
              "        element.innerHTML = '';\n",
              "        dataTable['output_type'] = 'display_data';\n",
              "        await google.colab.output.renderOutput(dataTable, element);\n",
              "        const docLink = document.createElement('div');\n",
              "        docLink.innerHTML = docLinkHtml;\n",
              "        element.appendChild(docLink);\n",
              "      }\n",
              "    </script>\n",
              "  </div>\n",
              "\n",
              "\n",
              "<div id=\"df-8b2a034e-a306-4d0d-a8f8-91914dfc1cbd\">\n",
              "  <button class=\"colab-df-quickchart\" onclick=\"quickchart('df-8b2a034e-a306-4d0d-a8f8-91914dfc1cbd')\"\n",
              "            title=\"Suggest charts\"\n",
              "            style=\"display:none;\">\n",
              "\n",
              "<svg xmlns=\"http://www.w3.org/2000/svg\" height=\"24px\"viewBox=\"0 0 24 24\"\n",
              "     width=\"24px\">\n",
              "    <g>\n",
              "        <path d=\"M19 3H5c-1.1 0-2 .9-2 2v14c0 1.1.9 2 2 2h14c1.1 0 2-.9 2-2V5c0-1.1-.9-2-2-2zM9 17H7v-7h2v7zm4 0h-2V7h2v10zm4 0h-2v-4h2v4z\"/>\n",
              "    </g>\n",
              "</svg>\n",
              "  </button>\n",
              "\n",
              "<style>\n",
              "  .colab-df-quickchart {\n",
              "      --bg-color: #E8F0FE;\n",
              "      --fill-color: #1967D2;\n",
              "      --hover-bg-color: #E2EBFA;\n",
              "      --hover-fill-color: #174EA6;\n",
              "      --disabled-fill-color: #AAA;\n",
              "      --disabled-bg-color: #DDD;\n",
              "  }\n",
              "\n",
              "  [theme=dark] .colab-df-quickchart {\n",
              "      --bg-color: #3B4455;\n",
              "      --fill-color: #D2E3FC;\n",
              "      --hover-bg-color: #434B5C;\n",
              "      --hover-fill-color: #FFFFFF;\n",
              "      --disabled-bg-color: #3B4455;\n",
              "      --disabled-fill-color: #666;\n",
              "  }\n",
              "\n",
              "  .colab-df-quickchart {\n",
              "    background-color: var(--bg-color);\n",
              "    border: none;\n",
              "    border-radius: 50%;\n",
              "    cursor: pointer;\n",
              "    display: none;\n",
              "    fill: var(--fill-color);\n",
              "    height: 32px;\n",
              "    padding: 0;\n",
              "    width: 32px;\n",
              "  }\n",
              "\n",
              "  .colab-df-quickchart:hover {\n",
              "    background-color: var(--hover-bg-color);\n",
              "    box-shadow: 0 1px 2px rgba(60, 64, 67, 0.3), 0 1px 3px 1px rgba(60, 64, 67, 0.15);\n",
              "    fill: var(--button-hover-fill-color);\n",
              "  }\n",
              "\n",
              "  .colab-df-quickchart-complete:disabled,\n",
              "  .colab-df-quickchart-complete:disabled:hover {\n",
              "    background-color: var(--disabled-bg-color);\n",
              "    fill: var(--disabled-fill-color);\n",
              "    box-shadow: none;\n",
              "  }\n",
              "\n",
              "  .colab-df-spinner {\n",
              "    border: 2px solid var(--fill-color);\n",
              "    border-color: transparent;\n",
              "    border-bottom-color: var(--fill-color);\n",
              "    animation:\n",
              "      spin 1s steps(1) infinite;\n",
              "  }\n",
              "\n",
              "  @keyframes spin {\n",
              "    0% {\n",
              "      border-color: transparent;\n",
              "      border-bottom-color: var(--fill-color);\n",
              "      border-left-color: var(--fill-color);\n",
              "    }\n",
              "    20% {\n",
              "      border-color: transparent;\n",
              "      border-left-color: var(--fill-color);\n",
              "      border-top-color: var(--fill-color);\n",
              "    }\n",
              "    30% {\n",
              "      border-color: transparent;\n",
              "      border-left-color: var(--fill-color);\n",
              "      border-top-color: var(--fill-color);\n",
              "      border-right-color: var(--fill-color);\n",
              "    }\n",
              "    40% {\n",
              "      border-color: transparent;\n",
              "      border-right-color: var(--fill-color);\n",
              "      border-top-color: var(--fill-color);\n",
              "    }\n",
              "    60% {\n",
              "      border-color: transparent;\n",
              "      border-right-color: var(--fill-color);\n",
              "    }\n",
              "    80% {\n",
              "      border-color: transparent;\n",
              "      border-right-color: var(--fill-color);\n",
              "      border-bottom-color: var(--fill-color);\n",
              "    }\n",
              "    90% {\n",
              "      border-color: transparent;\n",
              "      border-bottom-color: var(--fill-color);\n",
              "    }\n",
              "  }\n",
              "</style>\n",
              "\n",
              "  <script>\n",
              "    async function quickchart(key) {\n",
              "      const quickchartButtonEl =\n",
              "        document.querySelector('#' + key + ' button');\n",
              "      quickchartButtonEl.disabled = true;  // To prevent multiple clicks.\n",
              "      quickchartButtonEl.classList.add('colab-df-spinner');\n",
              "      try {\n",
              "        const charts = await google.colab.kernel.invokeFunction(\n",
              "            'suggestCharts', [key], {});\n",
              "      } catch (error) {\n",
              "        console.error('Error during call to suggestCharts:', error);\n",
              "      }\n",
              "      quickchartButtonEl.classList.remove('colab-df-spinner');\n",
              "      quickchartButtonEl.classList.add('colab-df-quickchart-complete');\n",
              "    }\n",
              "    (() => {\n",
              "      let quickchartButtonEl =\n",
              "        document.querySelector('#df-8b2a034e-a306-4d0d-a8f8-91914dfc1cbd button');\n",
              "      quickchartButtonEl.style.display =\n",
              "        google.colab.kernel.accessAllowed ? 'block' : 'none';\n",
              "    })();\n",
              "  </script>\n",
              "</div>\n",
              "\n",
              "    </div>\n",
              "  </div>\n"
            ],
            "application/vnd.google.colaboratory.intrinsic+json": {
              "type": "dataframe",
              "variable_name": "df",
              "summary": "{\n  \"name\": \"df\",\n  \"rows\": 826,\n  \"fields\": [\n    {\n      \"column\": \"ICD10\",\n      \"properties\": {\n        \"dtype\": \"category\",\n        \"num_unique_values\": 14,\n        \"samples\": [\n          \"R311\",\n          \"Z524\",\n          \"N391\"\n        ],\n        \"semantic_type\": \"\",\n        \"description\": \"\"\n      }\n    },\n    {\n      \"column\": \"transstr\",\n      \"properties\": {\n        \"dtype\": \"string\",\n        \"num_unique_values\": 815,\n        \"samples\": [\n          \"2015.3.30 ECMP CAG and PCI (PLAD) IABP-CPR has been implemented.CR 1.65 --1.7 -1.87 -1.87 -1.87 --1.75 --2.05-2.05-1.83 --1.87 -1.78-1.88- 1.69-1.83 1.78-1.71-1.69-1.9-1.56 --1.48 -1.68 -1.59 -1.64 Requested by lowering new functions CKD -Request Dream AKI SEVERE (HD # 7 in 2015)\",\n          \"I usually take seven to eight supplements for three years, including vitamins.Recently, Pohang St. Mary's Hospital, I heard that it was reduced by reducing renal function, proteinuria.CR 1.48 U/A P 1+ RBC 0-2 Other Hospital Kidney usg+\",\n          \"ANEURYSMAL Clipping from neurosurgery, commissioned to CR 1.34, 2023.10.03, Neurosurgery is hospitalized 141/80-83 height, weight: 168cm/74kg General Condition: GOOD ECOG PS: 0 htn: DM:(+) Recent CR numerical: 23.09.12 CR 1.34, EGFR 54 Recent bubble, hematuria: edema, body weight change: none medical:The last 3-6 months kidney creatrinin results: I heard that there is a renal failure, I heard that the renal function is bad for about 5-10 years ago.None condition is good, I eat well, I usually eat salty\"\n        ],\n        \"semantic_type\": \"\",\n        \"description\": \"\"\n      }\n    }\n  ]\n}"
            }
          },
          "metadata": {},
          "execution_count": 3
        }
      ]
    },
    {
      "cell_type": "code",
      "source": [
        "# 학습용, 테스트용, 검증용 데이터 분할\n",
        "X_train, X_temp, Y_train, Y_temp = train_test_split(df['transstr'], df['ICD10'], test_size=0.2, random_state=5)\n",
        "X_test, X_val, Y_test, Y_val = train_test_split(X_temp, Y_temp, test_size=0.5, random_state=7)\n",
        "\n",
        "print(X_train)\n",
        "print(\"=======================================\\n\")\n",
        "print(X_test)\n",
        "print(\"=======================================\\n\")\n",
        "print(X_val)\n",
        "print(\"=======================================\\n\")\n",
        "print(Y_train)\n",
        "print(\"=======================================\\n\")\n",
        "print(Y_test)\n",
        "print(\"=======================================\\n\")\n",
        "print(Y_val)"
      ],
      "metadata": {
        "colab": {
          "base_uri": "https://localhost:8080/"
        },
        "id": "SxMXKPNg5Jx_",
        "outputId": "beb436fc-0504-42a6-adc5-f71be4c01db9"
      },
      "execution_count": 4,
      "outputs": [
        {
          "output_type": "stream",
          "name": "stdout",
          "text": [
            "443    2021.09 CABG surgery 2023.06 CR 4.0, EGFR 14 2...\n",
            "441    Since 2016, Hematuria had hematuria in 2022 TY...\n",
            "66     23.04 LMC obstetrics and gynecology visits Hem...\n",
            "773    60s HTN Diagnosis 2023.11.21 CR 1.58 BP 121/67...\n",
            "131    I didn't have a previous checkup.2023. CR 1.83...\n",
            "                             ...                        \n",
            "73     156/94/83, HOME BP <130/80, and Type A told fo...\n",
            "400    # HTN, On Medication.Comprehensive Award at th...\n",
            "118    The patient is a patient of 72 years old, curr...\n",
            "701    HTN, DM 25 -year LMC Drug During LMC Pharmaceu...\n",
            "206    The patient is a 69 -year -old (m) patient cur...\n",
            "Name: transstr, Length: 660, dtype: object\n",
            "=======================================\n",
            "\n",
            "278    114-69-88 2 years ago Urology and Browno Holy ...\n",
            "690    97-53-112 Diabetes and Hypertension-more than ...\n",
            "108    145-75-85 2023.4.Microscopic Hematuria 2022.10...\n",
            "499    2023/04 I heard that there is proteinuria duri...\n",
            "755    The patient is a patient of 77 years old, curr...\n",
            "                             ...                        \n",
            "228    The patient is a diagnostic name [Paralysis of...\n",
            "151    # HTN (2022.)2023. CR 1.24 EGFR 41 EGFR K 5.7 ...\n",
            "129    The patient is a diagnostic [DJD] patient of 8...\n",
            "781    We will ask for consultation.The patient is a ...\n",
            "159    20 years ago, DM, HTN diagnosis 10 years ago, ...\n",
            "Name: transstr, Length: 83, dtype: object\n",
            "=======================================\n",
            "\n",
            "286    100/59/83 Known red blood cell symptoms (-), G...\n",
            "654    The patient is the 87 -year -old patient curre...\n",
            "488    The patient is a patient of 85 years old (F) c...\n",
            "774    RT with RCC 20 years ago.Nephrectomy is a COPD...\n",
            "602    In 2021, there has been proteinuria and commis...\n",
            "                             ...                        \n",
            "360    The patient is a 72 -year -old (m) patient cur...\n",
            "406    114/69/105, BW 79kg, HT 167cm, BMI 28 ESRD D/T...\n",
            "483    161/78/59 Knwon HTN, DM, HCC RT.LOBECTOMY Stat...\n",
            "436    Type 2 DM Diagnosis in the late 40s 2023.09.01...\n",
            "273    Vitamins, omega, and other health foods (state...\n",
            "Name: transstr, Length: 83, dtype: object\n",
            "=======================================\n",
            "\n",
            "443    N185\n",
            "441    N183\n",
            "66     R311\n",
            "773    N183\n",
            "131    N183\n",
            "       ... \n",
            "73     Z524\n",
            "400    R311\n",
            "118    N183\n",
            "701    N184\n",
            "206    N183\n",
            "Name: ICD10, Length: 660, dtype: object\n",
            "=======================================\n",
            "\n",
            "278    R311\n",
            "690    N183\n",
            "108    R311\n",
            "499    R311\n",
            "755    N183\n",
            "       ... \n",
            "228    N183\n",
            "151    N183\n",
            "129    N183\n",
            "781    R311\n",
            "159    N183\n",
            "Name: ICD10, Length: 83, dtype: object\n",
            "=======================================\n",
            "\n",
            "286    N028\n",
            "654    N183\n",
            "488    R601\n",
            "774    N183\n",
            "602    N059\n",
            "       ... \n",
            "360    N183\n",
            "406    N185\n",
            "483    N184\n",
            "436    N183\n",
            "273    N178\n",
            "Name: ICD10, Length: 83, dtype: object\n"
          ]
        }
      ]
    },
    {
      "cell_type": "code",
      "source": [
        "#https://zzaebok.github.io/deep_learning/nlp/Bert-for-classification/"
      ],
      "metadata": {
        "id": "XBi6fikpk2H9"
      },
      "execution_count": null,
      "outputs": []
    },
    {
      "cell_type": "code",
      "source": [
        "device_name = \"cuda\" if torch.cuda.is_available() else \"cpu\"\n",
        "device = torch.device(device_name)\n",
        "\n",
        "# Tokenizer\n",
        "tokenizer = AutoTokenizer.from_pretrained('NitzanBar/umls-spanbert')\n",
        "\n",
        "# Model\n",
        "model = AutoModelForSequenceClassification.from_pretrained('NitzanBar/umls-spanbert')\n",
        "model.to(device)"
      ],
      "metadata": {
        "colab": {
          "base_uri": "https://localhost:8080/",
          "height": 857,
          "referenced_widgets": [
            "e823800f98064ad7913e97fd39e0fc7f",
            "a60c3f4e507d46eba8baee221a6b3437",
            "7e15bfbe952041e69c8e3527de96575c",
            "2a638b91f0ab4302b2095c558f49a841",
            "7e2fb2b3c8fb4e389608459c4ee20fdb",
            "8bfa842bf5b6419782beefa914e193f7",
            "285df378ba2145db97419903561ec1b7",
            "301b9ddeacfa40e79c49715c36c20f34",
            "99a697a0dbe94e36b8394c6b9093f478",
            "b05038c9933844499cd8a91d15fe0eb8",
            "3896b584b5dd440e8a1b295c1bebc421"
          ]
        },
        "id": "SYy4tzpDMdXo",
        "outputId": "dfb038f6-0b3a-4c1b-8b91-9e4522f203e6"
      },
      "execution_count": 6,
      "outputs": [
        {
          "output_type": "display_data",
          "data": {
            "text/plain": [
              "model.safetensors:   0%|          | 0.00/1.33G [00:00<?, ?B/s]"
            ],
            "application/vnd.jupyter.widget-view+json": {
              "version_major": 2,
              "version_minor": 0,
              "model_id": "e823800f98064ad7913e97fd39e0fc7f"
            }
          },
          "metadata": {}
        },
        {
          "output_type": "execute_result",
          "data": {
            "text/plain": [
              "BertForSequenceClassification(\n",
              "  (bert): BertModel(\n",
              "    (embeddings): BertEmbeddings(\n",
              "      (word_embeddings): Embedding(28996, 1024, padding_idx=0)\n",
              "      (position_embeddings): Embedding(512, 1024)\n",
              "      (token_type_embeddings): Embedding(2, 1024)\n",
              "      (LayerNorm): LayerNorm((1024,), eps=1e-12, elementwise_affine=True)\n",
              "      (dropout): Dropout(p=0.1, inplace=False)\n",
              "    )\n",
              "    (encoder): BertEncoder(\n",
              "      (layer): ModuleList(\n",
              "        (0-23): 24 x BertLayer(\n",
              "          (attention): BertAttention(\n",
              "            (self): BertSelfAttention(\n",
              "              (query): Linear(in_features=1024, out_features=1024, bias=True)\n",
              "              (key): Linear(in_features=1024, out_features=1024, bias=True)\n",
              "              (value): Linear(in_features=1024, out_features=1024, bias=True)\n",
              "              (dropout): Dropout(p=0.1, inplace=False)\n",
              "            )\n",
              "            (output): BertSelfOutput(\n",
              "              (dense): Linear(in_features=1024, out_features=1024, bias=True)\n",
              "              (LayerNorm): LayerNorm((1024,), eps=1e-12, elementwise_affine=True)\n",
              "              (dropout): Dropout(p=0.1, inplace=False)\n",
              "            )\n",
              "          )\n",
              "          (intermediate): BertIntermediate(\n",
              "            (dense): Linear(in_features=1024, out_features=4096, bias=True)\n",
              "            (intermediate_act_fn): GELUActivation()\n",
              "          )\n",
              "          (output): BertOutput(\n",
              "            (dense): Linear(in_features=4096, out_features=1024, bias=True)\n",
              "            (LayerNorm): LayerNorm((1024,), eps=1e-12, elementwise_affine=True)\n",
              "            (dropout): Dropout(p=0.1, inplace=False)\n",
              "          )\n",
              "        )\n",
              "      )\n",
              "    )\n",
              "    (pooler): BertPooler(\n",
              "      (dense): Linear(in_features=1024, out_features=1024, bias=True)\n",
              "      (activation): Tanh()\n",
              "    )\n",
              "  )\n",
              "  (dropout): Dropout(p=0.1, inplace=False)\n",
              "  (classifier): Linear(in_features=1024, out_features=2, bias=True)\n",
              ")"
            ]
          },
          "metadata": {},
          "execution_count": 6
        }
      ]
    },
    {
      "cell_type": "code",
      "source": [
        "# tokenizer 토큰화 결과 확인\n",
        "result = tokenizer.tokenize(\"130/61/69 Symptoms (-), edema (-), urbanic symptoms (-), doe (-) Known htn (> 10YRS), hypothyroidism, DL patient with LMC inspection CR 2.26, EGFR 29, HB 12.7Visit as.\")\n",
        "print(result)\n",
        "print(tokenizer.vocab['symptoms'])\n",
        "print([tokenizer.encode(token) for token in result])"
      ],
      "metadata": {
        "id": "LgbUPL5fzaYt",
        "outputId": "c0932463-9369-45d4-b3f7-73b8323b0f9a",
        "colab": {
          "base_uri": "https://localhost:8080/"
        }
      },
      "execution_count": 11,
      "outputs": [
        {
          "output_type": "stream",
          "name": "stdout",
          "text": [
            "['130', '/', '61', '/', '69', 'symptoms', '(', '-', ')', ',', 'ed', '##ema', '(', '-', ')', ',', 'urban', '##ic', 'symptoms', '(', '-', ')', ',', 'do', '##e', '(', '-', ')', 'known', 'h', '##t', '##n', '(', '>', '10', '##yr', '##s', ')', ',', 'h', '##y', '##pot', '##hy', '##roid', '##ism', ',', 'd', '##l', 'patient', 'with', 'l', '##m', '##c', 'inspection', 'c', '##r', '2', '.', '26', ',', 'e', '##g', '##f', '##r', '29', ',', 'h', '##b', '12', '.', '7', '##vis', '##it', 'as', '.']\n",
            "8006\n",
            "[[101, 7029, 102], [101, 120, 102], [101, 5391, 102], [101, 120, 102], [101, 5691, 102], [101, 8006, 102], [101, 113, 102], [101, 118, 102], [101, 114, 102], [101, 117, 102], [101, 5048, 102], [101, 108, 108, 9712, 1161, 102], [101, 113, 102], [101, 118, 102], [101, 114, 102], [101, 117, 102], [101, 3953, 102], [101, 108, 108, 178, 1665, 102], [101, 8006, 102], [101, 113, 102], [101, 118, 102], [101, 114, 102], [101, 117, 102], [101, 1202, 102], [101, 108, 108, 174, 102], [101, 113, 102], [101, 118, 102], [101, 114, 102], [101, 1227, 102], [101, 177, 102], [101, 108, 108, 189, 102], [101, 108, 108, 183, 102], [101, 113, 102], [101, 135, 102], [101, 1275, 102], [101, 108, 108, 194, 1197, 102], [101, 108, 108, 188, 102], [101, 114, 102], [101, 117, 102], [101, 177, 102], [101, 108, 108, 194, 102], [101, 108, 108, 9814, 102], [101, 108, 108, 177, 1183, 102], [101, 108, 108, 187, 7874, 102], [101, 108, 108, 1110, 1306, 102], [101, 117, 102], [101, 173, 102], [101, 108, 108, 181, 102], [101, 5351, 102], [101, 1114, 102], [101, 181, 102], [101, 108, 108, 182, 102], [101, 108, 108, 172, 102], [101, 11820, 102], [101, 172, 102], [101, 108, 108, 187, 102], [101, 123, 102], [101, 119, 102], [101, 1744, 102], [101, 117, 102], [101, 174, 102], [101, 108, 108, 176, 102], [101, 108, 108, 175, 102], [101, 108, 108, 187, 102], [101, 1853, 102], [101, 117, 102], [101, 177, 102], [101, 108, 108, 171, 102], [101, 1367, 102], [101, 119, 102], [101, 128, 102], [101, 108, 108, 191, 1548, 102], [101, 108, 108, 1122, 102], [101, 1112, 102], [101, 119, 102]]\n"
          ]
        }
      ]
    },
    {
      "cell_type": "code",
      "source": [
        "class EMRDiagcdDataset(Dataset):\n",
        "\n",
        "    def __init__(self, df):\n",
        "        self.df = df\n",
        "\n",
        "    def __len__(self):\n",
        "        return len(self.df)\n",
        "\n",
        "    def __getitem__(self, index):\n",
        "        record = self.df.iloc[index]['transstr']\n",
        "        # diagcd = self.df.iloc[index]['ICD10']\n",
        "        diagcd = self.df.iloc[index]['encoded_ICD10']\n",
        "\n",
        "        return record, diagcd\n",
        "\n",
        "        # tokens = self.tokenizer(\n",
        "        #     record,\n",
        "        #     return_tensors='pt',\n",
        "        #     truncation=True,\n",
        "        #     padding='max_length')\n",
        "\n",
        "        # input_ids = tokens[input_ids].squeeze(0)\n",
        "        # attention_mask  = tokens[attention_mask ].squeeze(0)\n",
        "        # token_type_ids  = torch.zeros_like(token_type_ids )\n",
        "\n",
        "        # return {\n",
        "        #     'input_ids' : input_ids,\n",
        "        #     'attention_mask' : attention_mask,\n",
        "        #     'token_type_ids' : token_type_ids,\n",
        "        # }, torch.tensor(diagcd)"
      ],
      "metadata": {
        "id": "3oYtGKnFYDhy"
      },
      "execution_count": null,
      "outputs": []
    },
    {
      "cell_type": "code",
      "source": [
        "# label encoding\n",
        "unique_label = Y_train.unique()\n",
        "print(\"1 :\", unique_label)\n",
        "\n",
        "label_encoder = LabelEncoder()\n",
        "label_encoder.fit(unique_label)\n",
        "\n",
        "# print(\"2 : \", label_encoder)\n",
        "\n",
        "temp_df = Y_train.to_frame()\n",
        "temp_df['encoded_ICD10'] = label_encoder.transform(temp_df['ICD10'])\n",
        "Y_train_encoding = pd.Series(temp_df['encoded_ICD10'])\n",
        "# Y_train_encoding = Y_train_encoding.rename('encoded_ICD10')\n",
        "# print(\"2 :\", Y_train_encoding)"
      ],
      "metadata": {
        "colab": {
          "base_uri": "https://localhost:8080/"
        },
        "id": "QEhgUs4FAVnH",
        "outputId": "bc7fd039-3fe8-4754-ff34-fdc31cecd539"
      },
      "execution_count": null,
      "outputs": [
        {
          "output_type": "stream",
          "name": "stdout",
          "text": [
            "1 : ['N185' 'N183' 'R311' 'R601' 'N184' 'N178' 'N391' 'N182' 'N028' 'Z524'\n",
            " 'R808' 'N029' 'N059' 'R798']\n"
          ]
        }
      ]
    },
    {
      "cell_type": "code",
      "source": [
        "print(Y_train)"
      ],
      "metadata": {
        "colab": {
          "base_uri": "https://localhost:8080/"
        },
        "id": "X9xqkT3bp6D6",
        "outputId": "b33f4e0f-a8cf-4771-c35d-44dafc618ff7"
      },
      "execution_count": null,
      "outputs": [
        {
          "output_type": "stream",
          "name": "stdout",
          "text": [
            "443    N185\n",
            "441    N183\n",
            "66     R311\n",
            "773    N183\n",
            "131    N183\n",
            "       ... \n",
            "73     Z524\n",
            "400    R311\n",
            "118    N183\n",
            "701    N184\n",
            "206    N183\n",
            "Name: ICD10, Length: 660, dtype: object\n"
          ]
        }
      ]
    },
    {
      "cell_type": "code",
      "source": [
        "print(Y_train_encoding[:5])"
      ],
      "metadata": {
        "colab": {
          "base_uri": "https://localhost:8080/"
        },
        "id": "_Z0LdrSsh6F2",
        "outputId": "eb9175a2-791c-42be-e6c7-06d4e7dc851d"
      },
      "execution_count": null,
      "outputs": [
        {
          "output_type": "stream",
          "name": "stdout",
          "text": [
            "[7 5 9 5 5]\n"
          ]
        }
      ]
    },
    {
      "cell_type": "code",
      "source": [
        "train_df = pd.concat([X_train, Y_train_encoding, Y_train], axis=1)\n",
        "train_dataset = EMRDiagcdDataset(train_df)\n",
        "train_loader = DataLoader(train_dataset, batch_size=16, shuffle=True)"
      ],
      "metadata": {
        "id": "jHwgAYzlYQ1d"
      },
      "execution_count": null,
      "outputs": []
    },
    {
      "cell_type": "code",
      "source": [
        "train_df.to_excel('/content/train_df.xlsx')"
      ],
      "metadata": {
        "id": "qt09Opa6nu50"
      },
      "execution_count": null,
      "outputs": []
    },
    {
      "cell_type": "code",
      "source": [
        "optimizer = Adam(model.parameters(), lr=1e-2)\n",
        "criterion = torch.nn.Softmax()\n",
        "itr = 1\n",
        "p_itr = 50\n",
        "epochs = 1\n",
        "total_loss = 0\n",
        "total_len = 0\n",
        "total_correct = 0"
      ],
      "metadata": {
        "id": "rBte9blF10bf"
      },
      "execution_count": null,
      "outputs": []
    },
    {
      "cell_type": "code",
      "source": [
        "# train\n",
        "model.train()\n",
        "\n",
        "for epoch in range(epochs):\n",
        "    for record, diagcd in train_loader:\n",
        "        optimizer.zero_grad()\n",
        "        # print(\"record: \", record)\n",
        "        # print(\"diagcd: \", diagcd)\n",
        "        encoded_record = tokenizer(record, padding=True, truncation=True, max_length=512, return_tensors=\"pt\")\n",
        "        # encoded_record = encoded_record.to(device)\n",
        "        # print(type(encoded_record))\n",
        "        diagcd = torch.tensor(diagcd)\n",
        "        # diagcd = torch.tensor(list(diagcd), dim=0).to(device)\n",
        "\n",
        "        outputs = model(**encoded_record, labels=diagcd)\n",
        "\n",
        "        loss = outputs.loss\n",
        "        logits = outputs.logits\n",
        "\n",
        "        predict = torch.argmax(F.softmax(logits), dim=14)\n",
        "        correct = predict.eq(diagcd)\n",
        "\n",
        "        total_correct += correct.sum().item()\n",
        "        total_len += len(diagcd)\n",
        "        total_loss += loss.item()\n",
        "\n",
        "        loss.backward()\n",
        "        optimizer.step()\n",
        "\n",
        "        if itr % p_itr == 0:\n",
        "            print('[Epoch {}/{}] Iteration {} -> Train Loss: {:.4f}, Accuracy: {:.3f}'.format(epoch+1, epochs, itr, total_loss/p_itr, total_correct/total_len))\n",
        "            total_loss = 0\n",
        "            total_len = 0\n",
        "            total_correct = 0\n",
        "\n",
        "        itr += 1"
      ],
      "metadata": {
        "colab": {
          "base_uri": "https://localhost:8080/"
        },
        "id": "TiX8sQaST6S8",
        "outputId": "ff72b1dc-96b2-4856-d5b3-c20035855399"
      },
      "execution_count": null,
      "outputs": [
        {
          "output_type": "stream",
          "name": "stderr",
          "text": [
            "<ipython-input-118-0be101af0015>:12: UserWarning: To copy construct from a tensor, it is recommended to use sourceTensor.clone().detach() or sourceTensor.clone().detach().requires_grad_(True), rather than torch.tensor(sourceTensor).\n",
            "  diagcd = torch.tensor(diagcd)\n"
          ]
        }
      ]
    },
    {
      "cell_type": "code",
      "source": [
        "test_df = pd.concat([X_test, Y_test], axis=1)\n",
        "print(test_df)\n",
        "\n",
        "test_dataset = EMRDiagcdDataset(test_df)\n",
        "test_loader = DataLoader(test_dataset, batch_size=len(test_dataset), shuffle=True)"
      ],
      "metadata": {
        "colab": {
          "base_uri": "https://localhost:8080/"
        },
        "id": "rNjToVkPYNAQ",
        "outputId": "230314fc-8ef4-4026-f84c-545072b5ae9c"
      },
      "execution_count": null,
      "outputs": [
        {
          "output_type": "stream",
          "name": "stdout",
          "text": [
            "                                              transstr ICD10\n",
            "278  114-69-88 2 years ago Urology and Browno Holy ...  R311\n",
            "690  97-53-112 Diabetes and Hypertension-more than ...  N183\n",
            "108  145-75-85 2023.4.Microscopic Hematuria 2022.10...  R311\n",
            "499  2023/04 I heard that there is proteinuria duri...  R311\n",
            "755  The patient is a patient of 77 years old, curr...  N183\n",
            "..                                                 ...   ...\n",
            "228  The patient is a diagnostic name [Paralysis of...  N183\n",
            "151  # HTN (2022.)2023. CR 1.24 EGFR 41 EGFR K 5.7 ...  N183\n",
            "129  The patient is a diagnostic [DJD] patient of 8...  N183\n",
            "781  We will ask for consultation.The patient is a ...  R311\n",
            "159  20 years ago, DM, HTN diagnosis 10 years ago, ...  N183\n",
            "\n",
            "[83 rows x 2 columns]\n"
          ]
        }
      ]
    },
    {
      "cell_type": "code",
      "source": [
        "# evaluation\n",
        "model.eval()\n",
        "\n",
        "total_len = 0\n",
        "total_correct = 0\n",
        "\n",
        "for record, diagcd in test_loader:\n",
        "\n",
        "    encoded_record = tokenizer(record, padding=True, truncation=True, max_length=512, return_tensors=\"pt\")\n",
        "    encoded_record, diagcd = encoded_record.to(device), diagcd.to(device)\n",
        "\n",
        "    outputs = model(**encoded_record, labels=diagcd)\n",
        "\n",
        "    logits = outputs.logits\n",
        "\n",
        "    predict = torch.argmax(F.softmax(logits), dim=14)\n",
        "    correct = predict.eq(diagcd)\n",
        "\n",
        "    total_correct += correct.sum().item()\n",
        "    total_len += len(diagcd)\n",
        "\n",
        "print('Test accuracy: ', total_correct / total_len)"
      ],
      "metadata": {
        "id": "nOFsEw-xXmg5"
      },
      "execution_count": null,
      "outputs": []
    }
  ]
}