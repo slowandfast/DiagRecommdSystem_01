{
  "nbformat": 4,
  "nbformat_minor": 0,
  "metadata": {
    "colab": {
      "provenance": [],
      "gpuType": "T4",
      "include_colab_link": true
    },
    "kernelspec": {
      "name": "python3",
      "display_name": "Python 3"
    },
    "language_info": {
      "name": "python"
    },
    "accelerator": "GPU"
  },
  "cells": [
    {
      "cell_type": "markdown",
      "metadata": {
        "id": "view-in-github",
        "colab_type": "text"
      },
      "source": [
        "<a href=\"https://colab.research.google.com/github/slowandfast/DiagRecommdSystem_01/blob/main/EMR_%ED%85%8D%EC%8A%A4%ED%8A%B8%EA%B8%B0%EB%B0%98_%EC%A7%84%EB%8B%A8%EC%B6%94%EC%B2%9C%EB%AA%A8%EB%8D%B8.ipynb\" target=\"_parent\"><img src=\"https://colab.research.google.com/assets/colab-badge.svg\" alt=\"Open In Colab\"/></a>"
      ]
    },
    {
      "cell_type": "markdown",
      "source": [
        "🧪 사전 작업"
      ],
      "metadata": {
        "id": "i_zDiAmhIhcg"
      }
    },
    {
      "cell_type": "code",
      "source": [
        "!pip install pandas\n",
        "!pip install openpyxl"
      ],
      "metadata": {
        "id": "u8Dw_nSFAPv-",
        "colab": {
          "base_uri": "https://localhost:8080/"
        },
        "outputId": "55df3469-fcfd-4476-86ee-a5a5cebb9fb3"
      },
      "execution_count": null,
      "outputs": [
        {
          "output_type": "stream",
          "name": "stdout",
          "text": [
            "Requirement already satisfied: pandas in /usr/local/lib/python3.10/dist-packages (2.0.3)\n",
            "Requirement already satisfied: python-dateutil>=2.8.2 in /usr/local/lib/python3.10/dist-packages (from pandas) (2.8.2)\n",
            "Requirement already satisfied: pytz>=2020.1 in /usr/local/lib/python3.10/dist-packages (from pandas) (2023.4)\n",
            "Requirement already satisfied: tzdata>=2022.1 in /usr/local/lib/python3.10/dist-packages (from pandas) (2024.1)\n",
            "Requirement already satisfied: numpy>=1.21.0 in /usr/local/lib/python3.10/dist-packages (from pandas) (1.25.2)\n",
            "Requirement already satisfied: six>=1.5 in /usr/local/lib/python3.10/dist-packages (from python-dateutil>=2.8.2->pandas) (1.16.0)\n",
            "Requirement already satisfied: openpyxl in /usr/local/lib/python3.10/dist-packages (3.1.2)\n",
            "Requirement already satisfied: et-xmlfile in /usr/local/lib/python3.10/dist-packages (from openpyxl) (1.1.0)\n"
          ]
        }
      ]
    },
    {
      "cell_type": "code",
      "execution_count": null,
      "metadata": {
        "id": "BYxEyyHodi1L",
        "colab": {
          "base_uri": "https://localhost:8080/",
          "height": 206
        },
        "outputId": "038e35e9-cbc5-4b6a-829e-20245af642ab"
      },
      "outputs": [
        {
          "output_type": "execute_result",
          "data": {
            "text/plain": [
              "                                                 현병력\n",
              "0  115-61-61_x000D_\\n2023.5.10._x000D_\\n_x000D_\\n...\n",
              "1  159/69/53_x000D_\\n요증상(-), edema(-), 요독증상(-), D...\n",
              "2  130/61/69_x000D_\\n요증상(-), edema(-), 요독증상(-), D...\n",
              "3  153/75/85_x000D_\\n요증상(-), edema(-), 요독증상(-), D...\n",
              "4  148/90/64_x000D_\\n요증상(-), edema mild_x000D_\\nC..."
            ],
            "text/html": [
              "\n",
              "  <div id=\"df-08f33d3f-b452-40cd-9b35-bd564bfbbd44\" class=\"colab-df-container\">\n",
              "    <div>\n",
              "<style scoped>\n",
              "    .dataframe tbody tr th:only-of-type {\n",
              "        vertical-align: middle;\n",
              "    }\n",
              "\n",
              "    .dataframe tbody tr th {\n",
              "        vertical-align: top;\n",
              "    }\n",
              "\n",
              "    .dataframe thead th {\n",
              "        text-align: right;\n",
              "    }\n",
              "</style>\n",
              "<table border=\"1\" class=\"dataframe\">\n",
              "  <thead>\n",
              "    <tr style=\"text-align: right;\">\n",
              "      <th></th>\n",
              "      <th>현병력</th>\n",
              "    </tr>\n",
              "  </thead>\n",
              "  <tbody>\n",
              "    <tr>\n",
              "      <th>0</th>\n",
              "      <td>115-61-61_x000D_\\n2023.5.10._x000D_\\n_x000D_\\n...</td>\n",
              "    </tr>\n",
              "    <tr>\n",
              "      <th>1</th>\n",
              "      <td>159/69/53_x000D_\\n요증상(-), edema(-), 요독증상(-), D...</td>\n",
              "    </tr>\n",
              "    <tr>\n",
              "      <th>2</th>\n",
              "      <td>130/61/69_x000D_\\n요증상(-), edema(-), 요독증상(-), D...</td>\n",
              "    </tr>\n",
              "    <tr>\n",
              "      <th>3</th>\n",
              "      <td>153/75/85_x000D_\\n요증상(-), edema(-), 요독증상(-), D...</td>\n",
              "    </tr>\n",
              "    <tr>\n",
              "      <th>4</th>\n",
              "      <td>148/90/64_x000D_\\n요증상(-), edema mild_x000D_\\nC...</td>\n",
              "    </tr>\n",
              "  </tbody>\n",
              "</table>\n",
              "</div>\n",
              "    <div class=\"colab-df-buttons\">\n",
              "\n",
              "  <div class=\"colab-df-container\">\n",
              "    <button class=\"colab-df-convert\" onclick=\"convertToInteractive('df-08f33d3f-b452-40cd-9b35-bd564bfbbd44')\"\n",
              "            title=\"Convert this dataframe to an interactive table.\"\n",
              "            style=\"display:none;\">\n",
              "\n",
              "  <svg xmlns=\"http://www.w3.org/2000/svg\" height=\"24px\" viewBox=\"0 -960 960 960\">\n",
              "    <path d=\"M120-120v-720h720v720H120Zm60-500h600v-160H180v160Zm220 220h160v-160H400v160Zm0 220h160v-160H400v160ZM180-400h160v-160H180v160Zm440 0h160v-160H620v160ZM180-180h160v-160H180v160Zm440 0h160v-160H620v160Z\"/>\n",
              "  </svg>\n",
              "    </button>\n",
              "\n",
              "  <style>\n",
              "    .colab-df-container {\n",
              "      display:flex;\n",
              "      gap: 12px;\n",
              "    }\n",
              "\n",
              "    .colab-df-convert {\n",
              "      background-color: #E8F0FE;\n",
              "      border: none;\n",
              "      border-radius: 50%;\n",
              "      cursor: pointer;\n",
              "      display: none;\n",
              "      fill: #1967D2;\n",
              "      height: 32px;\n",
              "      padding: 0 0 0 0;\n",
              "      width: 32px;\n",
              "    }\n",
              "\n",
              "    .colab-df-convert:hover {\n",
              "      background-color: #E2EBFA;\n",
              "      box-shadow: 0px 1px 2px rgba(60, 64, 67, 0.3), 0px 1px 3px 1px rgba(60, 64, 67, 0.15);\n",
              "      fill: #174EA6;\n",
              "    }\n",
              "\n",
              "    .colab-df-buttons div {\n",
              "      margin-bottom: 4px;\n",
              "    }\n",
              "\n",
              "    [theme=dark] .colab-df-convert {\n",
              "      background-color: #3B4455;\n",
              "      fill: #D2E3FC;\n",
              "    }\n",
              "\n",
              "    [theme=dark] .colab-df-convert:hover {\n",
              "      background-color: #434B5C;\n",
              "      box-shadow: 0px 1px 3px 1px rgba(0, 0, 0, 0.15);\n",
              "      filter: drop-shadow(0px 1px 2px rgba(0, 0, 0, 0.3));\n",
              "      fill: #FFFFFF;\n",
              "    }\n",
              "  </style>\n",
              "\n",
              "    <script>\n",
              "      const buttonEl =\n",
              "        document.querySelector('#df-08f33d3f-b452-40cd-9b35-bd564bfbbd44 button.colab-df-convert');\n",
              "      buttonEl.style.display =\n",
              "        google.colab.kernel.accessAllowed ? 'block' : 'none';\n",
              "\n",
              "      async function convertToInteractive(key) {\n",
              "        const element = document.querySelector('#df-08f33d3f-b452-40cd-9b35-bd564bfbbd44');\n",
              "        const dataTable =\n",
              "          await google.colab.kernel.invokeFunction('convertToInteractive',\n",
              "                                                    [key], {});\n",
              "        if (!dataTable) return;\n",
              "\n",
              "        const docLinkHtml = 'Like what you see? Visit the ' +\n",
              "          '<a target=\"_blank\" href=https://colab.research.google.com/notebooks/data_table.ipynb>data table notebook</a>'\n",
              "          + ' to learn more about interactive tables.';\n",
              "        element.innerHTML = '';\n",
              "        dataTable['output_type'] = 'display_data';\n",
              "        await google.colab.output.renderOutput(dataTable, element);\n",
              "        const docLink = document.createElement('div');\n",
              "        docLink.innerHTML = docLinkHtml;\n",
              "        element.appendChild(docLink);\n",
              "      }\n",
              "    </script>\n",
              "  </div>\n",
              "\n",
              "\n",
              "<div id=\"df-d0bc4a19-4a81-4839-acc0-7982f05c4790\">\n",
              "  <button class=\"colab-df-quickchart\" onclick=\"quickchart('df-d0bc4a19-4a81-4839-acc0-7982f05c4790')\"\n",
              "            title=\"Suggest charts\"\n",
              "            style=\"display:none;\">\n",
              "\n",
              "<svg xmlns=\"http://www.w3.org/2000/svg\" height=\"24px\"viewBox=\"0 0 24 24\"\n",
              "     width=\"24px\">\n",
              "    <g>\n",
              "        <path d=\"M19 3H5c-1.1 0-2 .9-2 2v14c0 1.1.9 2 2 2h14c1.1 0 2-.9 2-2V5c0-1.1-.9-2-2-2zM9 17H7v-7h2v7zm4 0h-2V7h2v10zm4 0h-2v-4h2v4z\"/>\n",
              "    </g>\n",
              "</svg>\n",
              "  </button>\n",
              "\n",
              "<style>\n",
              "  .colab-df-quickchart {\n",
              "      --bg-color: #E8F0FE;\n",
              "      --fill-color: #1967D2;\n",
              "      --hover-bg-color: #E2EBFA;\n",
              "      --hover-fill-color: #174EA6;\n",
              "      --disabled-fill-color: #AAA;\n",
              "      --disabled-bg-color: #DDD;\n",
              "  }\n",
              "\n",
              "  [theme=dark] .colab-df-quickchart {\n",
              "      --bg-color: #3B4455;\n",
              "      --fill-color: #D2E3FC;\n",
              "      --hover-bg-color: #434B5C;\n",
              "      --hover-fill-color: #FFFFFF;\n",
              "      --disabled-bg-color: #3B4455;\n",
              "      --disabled-fill-color: #666;\n",
              "  }\n",
              "\n",
              "  .colab-df-quickchart {\n",
              "    background-color: var(--bg-color);\n",
              "    border: none;\n",
              "    border-radius: 50%;\n",
              "    cursor: pointer;\n",
              "    display: none;\n",
              "    fill: var(--fill-color);\n",
              "    height: 32px;\n",
              "    padding: 0;\n",
              "    width: 32px;\n",
              "  }\n",
              "\n",
              "  .colab-df-quickchart:hover {\n",
              "    background-color: var(--hover-bg-color);\n",
              "    box-shadow: 0 1px 2px rgba(60, 64, 67, 0.3), 0 1px 3px 1px rgba(60, 64, 67, 0.15);\n",
              "    fill: var(--button-hover-fill-color);\n",
              "  }\n",
              "\n",
              "  .colab-df-quickchart-complete:disabled,\n",
              "  .colab-df-quickchart-complete:disabled:hover {\n",
              "    background-color: var(--disabled-bg-color);\n",
              "    fill: var(--disabled-fill-color);\n",
              "    box-shadow: none;\n",
              "  }\n",
              "\n",
              "  .colab-df-spinner {\n",
              "    border: 2px solid var(--fill-color);\n",
              "    border-color: transparent;\n",
              "    border-bottom-color: var(--fill-color);\n",
              "    animation:\n",
              "      spin 1s steps(1) infinite;\n",
              "  }\n",
              "\n",
              "  @keyframes spin {\n",
              "    0% {\n",
              "      border-color: transparent;\n",
              "      border-bottom-color: var(--fill-color);\n",
              "      border-left-color: var(--fill-color);\n",
              "    }\n",
              "    20% {\n",
              "      border-color: transparent;\n",
              "      border-left-color: var(--fill-color);\n",
              "      border-top-color: var(--fill-color);\n",
              "    }\n",
              "    30% {\n",
              "      border-color: transparent;\n",
              "      border-left-color: var(--fill-color);\n",
              "      border-top-color: var(--fill-color);\n",
              "      border-right-color: var(--fill-color);\n",
              "    }\n",
              "    40% {\n",
              "      border-color: transparent;\n",
              "      border-right-color: var(--fill-color);\n",
              "      border-top-color: var(--fill-color);\n",
              "    }\n",
              "    60% {\n",
              "      border-color: transparent;\n",
              "      border-right-color: var(--fill-color);\n",
              "    }\n",
              "    80% {\n",
              "      border-color: transparent;\n",
              "      border-right-color: var(--fill-color);\n",
              "      border-bottom-color: var(--fill-color);\n",
              "    }\n",
              "    90% {\n",
              "      border-color: transparent;\n",
              "      border-bottom-color: var(--fill-color);\n",
              "    }\n",
              "  }\n",
              "</style>\n",
              "\n",
              "  <script>\n",
              "    async function quickchart(key) {\n",
              "      const quickchartButtonEl =\n",
              "        document.querySelector('#' + key + ' button');\n",
              "      quickchartButtonEl.disabled = true;  // To prevent multiple clicks.\n",
              "      quickchartButtonEl.classList.add('colab-df-spinner');\n",
              "      try {\n",
              "        const charts = await google.colab.kernel.invokeFunction(\n",
              "            'suggestCharts', [key], {});\n",
              "      } catch (error) {\n",
              "        console.error('Error during call to suggestCharts:', error);\n",
              "      }\n",
              "      quickchartButtonEl.classList.remove('colab-df-spinner');\n",
              "      quickchartButtonEl.classList.add('colab-df-quickchart-complete');\n",
              "    }\n",
              "    (() => {\n",
              "      let quickchartButtonEl =\n",
              "        document.querySelector('#df-d0bc4a19-4a81-4839-acc0-7982f05c4790 button');\n",
              "      quickchartButtonEl.style.display =\n",
              "        google.colab.kernel.accessAllowed ? 'block' : 'none';\n",
              "    })();\n",
              "  </script>\n",
              "</div>\n",
              "\n",
              "    </div>\n",
              "  </div>\n"
            ],
            "application/vnd.google.colaboratory.intrinsic+json": {
              "type": "dataframe",
              "variable_name": "df",
              "summary": "{\n  \"name\": \"df\",\n  \"rows\": 971,\n  \"fields\": [\n    {\n      \"column\": \"\\ud604\\ubcd1\\ub825\",\n      \"properties\": {\n        \"dtype\": \"string\",\n        \"num_unique_values\": 959,\n        \"samples\": [\n          \"2021. U/A P -_x000D_\\n2022. U/A P P 1+, OB -_x000D_\\n\\uac74\\uac15\\ubcf4\\uc870\\uc2dd\\ud488, \\ube44\\ud0c0\\ubbfc\\uc81c_x000D_\\n2022. \\uc591\\ud30c\\uc999, \\uc7a5\\uc5b4 \\uc561\\uae30\\uc2a4 \\ub4f1 \\ubcf5\\uc6a9 - 2023. \\uc911\\ub2e8_x000D_\\n2023-11-23 U/A P -\",\n          \"2023\\ub144 1\\uc6d4\\ubd80\\ud130 \\ubd80\\uc885 \\ubc1c\\uc0dd\\ud568_x000D_\\n2023.05\\uc6d4\\ubd80\\ud130 \\uc545\\ud654\\ub428_x000D_\\n_x000D_\\n2023.05.16 Cr 0.78, eGFR 98, TSH, LFT \\ubaa8\\ub450 \\uc815\\uc0c1_x000D_\\n_x000D_\\nBW 2kg gain 54.5_x000D_\\nBP 116/68/65\",\n          \"2023\\ub144 \\uad70\\uc2e0\\uac80\\uc5d0\\uc11c \\ucc98\\uc74c\\uc73c\\ub85c \\ub2e8\\ubc31\\ub1e8, \\ud608\\ub1e8 \\uc18c\\uacac_x000D_\\n2023-8-10 U/A P 1+ OB +- R/W 3-5/0-2_x000D_\\n\"\n        ],\n        \"semantic_type\": \"\",\n        \"description\": \"\"\n      }\n    }\n  ]\n}"
            }
          },
          "metadata": {},
          "execution_count": 3
        }
      ],
      "source": [
        "# emr dataset load\n",
        "\n",
        "import pandas as pd\n",
        "\n",
        "#file_path = \"/content/[샘플]외래초진_신장내과_20240101_20240110_자료검토.xlsx\"\n",
        "file_path = \"/content/신장내과_본원_외래_20230701_20231231.xlsx\"\n",
        "\n",
        "# 질병 코드 3개만 추림 (N029, N391, Z524)\n",
        "# file_path = '/content/(샘플)외래초진_신장내과_20240101_20240110_자료검토_질병코드별분류.xlsx'\n",
        "\n",
        "selected_columns = ['현병력'] # PI : 현병력\n",
        "df = pd.read_excel(file_path, usecols=selected_columns)\n",
        "\n",
        "df.head()\n"
      ]
    },
    {
      "cell_type": "code",
      "source": [
        "#!git clone https://github.com/rkiee/project-emrkcd-stopwords.git\n",
        "!git clone https://github.com/rkiee/project-emr2kcd-dataset.git"
      ],
      "metadata": {
        "colab": {
          "base_uri": "https://localhost:8080/"
        },
        "id": "TggQ1ghjeB0z",
        "outputId": "8c00964d-85e2-4644-e03a-eafea7090421"
      },
      "execution_count": null,
      "outputs": [
        {
          "output_type": "stream",
          "name": "stdout",
          "text": [
            "Cloning into 'project-emr2kcd-dataset'...\n",
            "remote: Enumerating objects: 16, done.\u001b[K\n",
            "remote: Counting objects: 100% (16/16), done.\u001b[K\n",
            "remote: Compressing objects: 100% (16/16), done.\u001b[K\n",
            "remote: Total 16 (delta 4), reused 0 (delta 0), pack-reused 0\u001b[K\n",
            "Receiving objects: 100% (16/16), 3.52 MiB | 8.34 MiB/s, done.\n",
            "Resolving deltas: 100% (4/4), done.\n"
          ]
        }
      ]
    },
    {
      "cell_type": "code",
      "source": [
        "# stopwords dataset load\n",
        "sw_path = \"/content/project-emr2kcd-dataset/stopwords.xlsx\"\n",
        "sw_df = pd.read_excel(sw_path)\n",
        "for i in range(len(sw_df)) :\n",
        "  stop_words = sw_df['stop words'].tolist()\n",
        "# print(stop_words)"
      ],
      "metadata": {
        "id": "Y1OsYwL6dzEV"
      },
      "execution_count": null,
      "outputs": []
    },
    {
      "cell_type": "code",
      "source": [
        "!pip install konlpy"
      ],
      "metadata": {
        "id": "kYXKluXDBl6m",
        "colab": {
          "base_uri": "https://localhost:8080/"
        },
        "outputId": "e6785ab9-a136-4768-8c49-e25bda650b64"
      },
      "execution_count": null,
      "outputs": [
        {
          "output_type": "stream",
          "name": "stdout",
          "text": [
            "Requirement already satisfied: konlpy in /usr/local/lib/python3.10/dist-packages (0.6.0)\n",
            "Requirement already satisfied: JPype1>=0.7.0 in /usr/local/lib/python3.10/dist-packages (from konlpy) (1.5.0)\n",
            "Requirement already satisfied: lxml>=4.1.0 in /usr/local/lib/python3.10/dist-packages (from konlpy) (4.9.4)\n",
            "Requirement already satisfied: numpy>=1.6 in /usr/local/lib/python3.10/dist-packages (from konlpy) (1.25.2)\n",
            "Requirement already satisfied: packaging in /usr/local/lib/python3.10/dist-packages (from JPype1>=0.7.0->konlpy) (24.0)\n"
          ]
        }
      ]
    },
    {
      "cell_type": "code",
      "source": [
        "# 품사 빈도 조사\n",
        "from konlpy.tag import Okt\n",
        "okt = Okt()\n",
        "all_parts = []\n",
        "for n in range(len(df)) :\n",
        "  text = df['PI'].iloc[n]\n",
        "  words = okt.pos(text)\n",
        "  parts_arr = []\n",
        "  for i in words:\n",
        "    if i == \"EOS\" or i == \"\" : continue\n",
        "    word_temp = i[0]\n",
        "    part = i[1]\n",
        "    parts_arr.append(part)\n",
        "  all_parts.extend(parts_arr)\n",
        "\n",
        "all_parts_df = pd.DataFrame({\"parts\": all_parts, \"count\": len(all_parts) * [1]})\n",
        "all_parts_df = all_parts_df.groupby(\"parts\").sum()\n",
        "all_parts_df = all_parts_df.sort_values(\"count\", ascending=False)\n",
        "print(all_parts_df)"
      ],
      "metadata": {
        "colab": {
          "base_uri": "https://localhost:8080/"
        },
        "id": "VsvoofIXB300",
        "outputId": "2179ac7e-4673-4d95-9f6a-6257bc73f987"
      },
      "execution_count": null,
      "outputs": [
        {
          "output_type": "stream",
          "name": "stdout",
          "text": [
            "                count\n",
            "parts                \n",
            "Alpha            9396\n",
            "Punctuation      8159\n",
            "Noun             5083\n",
            "Number           4949\n",
            "Foreign          2884\n",
            "Josa              960\n",
            "Verb              727\n",
            "Adjective         360\n",
            "Suffix            322\n",
            "Modifier          200\n",
            "Adverb             82\n",
            "Determiner         73\n",
            "Exclamation        27\n",
            "VerbPrefix         17\n",
            "Hashtag             2\n",
            "URL                 1\n",
            "Eomi                1\n",
            "KoreanParticle      1\n"
          ]
        }
      ]
    },
    {
      "cell_type": "code",
      "source": [
        "from google.colab import drive\n",
        "drive.mount('/content/drive')"
      ],
      "metadata": {
        "id": "j_3ZQpWRdEkx",
        "colab": {
          "base_uri": "https://localhost:8080/"
        },
        "outputId": "b41c91b7-5774-4e7a-c296-96dbbddf89d9"
      },
      "execution_count": null,
      "outputs": [
        {
          "output_type": "stream",
          "name": "stdout",
          "text": [
            "Mounted at /content/drive\n"
          ]
        }
      ]
    },
    {
      "cell_type": "code",
      "source": [
        "# stopwords 필터링 & 영단어(Alpha)와 명사(Noun)에 해당하는 형태소만 추출\n",
        "from konlpy.tag import Okt\n",
        "okt = Okt()\n",
        "\n",
        "parts = ['Alpha', 'Noun']\n",
        "all_words = []\n",
        "\n",
        "for _, text in enumerate(df['PI']):\n",
        "    words = okt.pos(text)  # 형태소, 품사 의 형태로 tokenization\n",
        "    words_arr = []\n",
        "    for i in words:\n",
        "        if i == 'EOS' or i == '':\n",
        "            continue\n",
        "        word = i[0]  # 형태소\n",
        "        part = i[1]  # 품사\n",
        "        if not (part in parts):\n",
        "            continue\n",
        "        if word in stop_words:\n",
        "            continue\n",
        "        if part == 'Alpha':\n",
        "            word = word.lower()\n",
        "        words_arr.append(word)\n",
        "    all_words.extend(words_arr)\n",
        "print(all_words)\n",
        "\n",
        "all_words_df = pd.DataFrame({'words': all_words, 'count': len(all_words) * [1]})\n",
        "all_words_df = all_words_df.groupby('words').sum()\n",
        "all_words_df = all_words_df.sort_values('count', ascending=False)\n",
        "print(all_words_df)\n",
        "\n",
        "# csv out : 단어 및 빈도수 기록\n",
        "# all_words_df.to_csv(\"tokenized_words.csv\", index=True, encoding=\"utf-8-sig\")"
      ],
      "metadata": {
        "colab": {
          "base_uri": "https://localhost:8080/"
        },
        "id": "9P9FOJ1xs0Ne",
        "outputId": "4f77603b-4a29-4e49-952c-2f44cbd875ec"
      },
      "execution_count": null,
      "outputs": [
        {
          "output_type": "stream",
          "name": "stdout",
          "text": [
            "['sudden', 'hearing', 'loss', 'nos', 'unilateral', 'rbc', 'uf', 'crystal', 'general', 'condition', 'good', 'ecog', 'ps', 'htn', 'dm', 'lmc', 'lab', '신장', '레아', '티닌', '수치', '이상', '거품', '뇨', '혈뇨', '부종', 'body', 'weight', 'change', 'uti', 'symptom', 'medication', '순환기', '내과', '류마티스', '내과', '한약', '식품', '인물', '즙', '신부전', '가족', 'ent', 'hearing', 'loss', 'steroid', '청력', '손실', 'ent', '중순', '소변', 'menses', 'period', '옆구리', '통증', 'kidney', 'cyst', 'complicated', 'wbc', 'rbc', '단백뇨', 'general', 'condition', 'good', 'ecog', 'ps', 'htn', 'dm', 'lmc', 'lab', '신장', '레아', '티닌', '수치', '거품', '뇨', '혈뇨', '부종', 'body', 'weight', 'change', 'uti', 'symptom', 'medication', '한약', '식품', '인물', '즙', '생수', '안과', '백내장', '녹내장', 'htn', 'ankylosing', 'spondylitis', 'crohn', 's', 'ds', 'maxnophen', 'nausea', 'tylenol', 'edema', 'fatty', 'liver', '저하', '단백뇨', '진통', '소염제', '복용', 'cr', 'egfr', 'ob', 'edema', '요독증', 'doe', 'known', 'gout', 'lmc', 'cr', 'egfr', 'ml', 'min', 'htn', '혈압', 'tia', 'cr', 'egfr', 'cr', 'egfr', 'cr', 'egfr', '단백뇨', 'dm', 'with', 'dmr', 'ryzodeg', 'htn', 'cr', 'egfr', 'cr', 'egfr', 'cr', 'egfr', '열', '부인', '장공', 'edema', 'htn', 'dl', 'bph', 'asthma', '단백뇨', 'bun', 'cr', 'egfr', 'utp', '한약', '복용', 'edema', '거품', '뇨', 'gh', 'known', 'dm', '부종', '단백뇨', 'lmc', 'cr', 'prot', 'hba', 'nephrotic', 'syndrome', 'mn', '조직검사', 'mgn', 'ii', 'iii', 'cyclosporine', '복용', 'pr', 'state', '약제', '복용', '중단', '재발', 'cipol', '차', 'cipol', '차', 'antiplar', 'ab', 'cipol', 'upcr', '부종', '근육', '경련', 'dm', 'hx', 'dm', 'ckd', 'hd', 'start', '화목', '투석', '뇌사', '이식', '요량', 'ml', 'wt', 'interdialytic', 'wt', 'gain', '신장', '내과', '순환기', '내분비', '소화기', '신경', '안과', '약제', '복용', '처방', '역', '스캔', '검시', '요', '이상', '병', '무용', 'dl', 'proteinuria', '정신과', '문제', '군', '면제', '피부', '여드름', '약제', '복용', '정신과', '복용', '비만', '삭', '사용', 'lmc', 'cr', 'proteinuria', 'no', 'urinary', 'sx', 'frothy', 'urine', 'colon', 'cancer', 'op', '혈뇨', 'ob', 'ct', '단백질', '음식', '섭취', '거품', '뇨', '한약', '복용', '요로결석', 'tiny', 'renal', 'stone', 'ct', 'no', 'stone', 'slice', '혈뇨', 'bp', 'type', 'dm', 'htn', 'cr', 'egfr', 'bp', 'supraspinatus', 'syndrome', '교수', '정형외과', '견', '관절', '통증', '전신', '마취', '수술', 'htn', 'dl', 'hf', 'afib', 'dm', 'ckd', '술전', 'evaluation', 'bun', 'cr', 'egfr', 'abnormal', '수술', 'perioperative', 'evaluation', '수술', 'care', 'management', '정형외과', '배상', '선린', '건강검진', '문제', 'edema', 'free', '건강검진', '간수치', '상승', 'cr', 'egfr', '소화기', '내과', 'sbp', 'egfr', 'cr', '동생', '신장', '기증', 'bp', '단백뇨', '단백뇨', '수원', '아주대병원', 'cr', 'upcr', '김천', '이사', 'bp', '단백뇨', '혈뇨', '혈뇨', '발생', 'ob', 'cr', 'bp', 'distal', 'cbd', 'ca', '외과', 'cr', 'k', '허리', '통증', 'nsaids', '복용', 'edema', '당뇨', '단계', '고혈압', 'rt', 'upj', 'obstruction', 'rt', 'cyst', 'creat', 'dl', 'egfr', 'ml', 'min', 'bsa', '고함', '당뇨', '고혈압', 'home', 'bp', 'mmhg', 'ct', 'chest', 'abdomen', 'creat', 'k', 'urine', 'prot', 'rbc', 'hpf', 'urine', 'albumin', 'upcr', 'g', 'g', 'creat', 'tia', 'pms', 'covert', 'cerebral', 'infarction', 'l', 'mca', 'bdz', 'pica', 'cbll', 'both', 'proximal', 'ica', 'stenosis', 'severe', 'htn', 'hba', 'tc', 'ldl', 'tg', 'bun', 'cr', '질환', 'opd', '내', 'lab', 'cr', 'lmc', '조영제', '사용', 'ct', '고려', '생각', '왼', 'sbp', 'lmc', 'med', 'aspirin', 'plavix', 'atorva', '텔미', '플러스', 'dilat', '디핀', '현미경', '혈뇨', '요도', '염', 'gross', 'hematuria', '비뇨기', '고환', '염', '약제', '복용', '요도', 'bloody', 'discharge', '염증', 'htn', '이상은', '항고', '혈압', '제', '처방', '임의', '중단', 'headache', '신경', 'sbp', '내과', 'norvasc', '복용', 'sbp', '조절', '비뇨기', '약제', '복용', 'dm', 'hx', 'lmc', 'oha', '복용', '주전', 'doe', '원', 'lmc', 'hb', '혈당', '조절', '입맛', '감소', '변비', 'melena', 'epigastric', 'discomfort', '건강검진', '단백뇨', '건강검진', '단백뇨', '순천향', '내', '검', 'urine', 'pcr', 'g', 'g', 'microscopic', 'hematuria', 'bun', 'cr', 'tg', 'alb', 'further', 'evaluation', '대경', 'htn', '초', 'esrd', 'htn', 'hd', 'start', '순천향', '회', '화목', 'hd', '투석', 'k', '조절', '투석', '간의', 'bw', 'gain', '건', '체중', 'residual', 'urine', 'vol', 'ml', 'kidney', 'transplantation', 'hx', 'pregnancy', 'hx', 'transfusion', 'hx', 'infection', 'hx', 'transfusion', 'hx', 'pra', 'i', 'ii', '양성', 'pra', 'hbsag', 'hcv', 'ab', '기타', '동반', '질환', '십이지장', '궤양', '수술', 'esrd', 'due', 'to', 'o', 'dmn', 'avf', 'op', 'hd', 'konos', '원', 'hd', '강', '내과', '투석', 's', 'colon', 'ca', '수술', '외과', '재발', '강', '내과', '투석', 'wt', 'interdialytic', 'wt', 'gain', 'avf', 'op', '수혈', 'essential', 'hypertension', 'with', 'lvh', 'ckd', 'lmc', '내과', 'k', '조절', '콩팥', '저하', '진행', '순환기', '내과', '전임', '과일', '하루', '개', '부종', '약간', 'eskd', 'htn', 'kt', '교수', '상세', '불명', '원인', 'covid', '기타', '감염', 'allograft', 'failure', 'hd', 'start', 'perm', 'cath', 'insertion', '상태', 'perm', 'cath', '삽입', '출혈', '성은', '효', '투석', '변량', '감소', 'bp', '부인', '기증', 'hepatitis', 'viral', 'nos', 'other', 'and', 'unspecified', 'phase', 'chr', 'hepatitis', 'pt', '로서', 'hbs', 'seroconversion', '상태', 'wt', 'loss', 'egfr', '감소', '개', '월간', '식사', '보통', '혈당', '조절', '식전', '식후', 'chf', 'with', 'pulmonary', 'edema', '심장', '저하', '정신과', '신기', '능이', '저하', '붓기', '호흡', '곤란', '소변', 'left', 'leg', 'swelling', '고혈압', '복용', 'cr', 'egfr', 'bp', '당뇨', '고혈압', '이상', '크레아티닌', '전원', 'dm', 'retinopathy', 'neg', 'edema', 'free', 'ct', '조영제', '포함', '처방', 'mdrd', 'egfr', '수치', '미만', '보고', '일자', '값', 'ml', '평가', '처치', 'bun', 'cr', 'egfr', 'bun', 'cr', 'egfr', 'bun', 'cr', 'egfr', '부종', '호흡', '곤란', '소변', '뇌경색', '중환자실', '입원', '크레아티닌', '신장', '악화', '악화', '수치', 'kidney', 'laceration', 'stab', 'wound', 'primary', 'closure', '비뇨기', '강직', '척추', '염', '면역', '억제제', '복용', 'htn', 'dl', 'lmc', '발견', '현미경', '혈뇨', 'ob', 'trace', 'rbc', 'hpf', 'protein', 'trace', 'no', 'urinary', 'sx', 'ct', '혈뇨', 'prot', 'ob', 'protr', 'ob', 'cr', 'egfr', 'uric', 'acid', 'bp', 'creat', 'dl', 'upcr', 'rbc', 'hpf', 'upcr', 'creat', '고혈압', '코', '조절', 'statin', '복용', '부종', '시력', '저하', '혈뇨', 'urine', 'rbc', 'creatine', '전원', '경', '현미경', '혈뇨', '단백뇨', 'painless', 'gross', 'hematuria', 'red', 'colored', 'uri', 'lmc', '내과', 'ct', '이상', '약제', '복용', '요', 'protein', 'ob', 'mild', 'dysuria', '전임', '덕', '원', 'cr', 'egfr', 'cr', 'egfr', 'torem', 'bp', '보훈', 'cr', 'egfr', 'cr', 'egfr', 'bp', 'malignant', 'neoplasm', 'kidney', 'except', 'renal', 'pelvis', 'right', 'cr', 'k', '단백뇨', '비뇨', '의학과', '교수', '소변', '거품', '뇨', 'renal', 'cyst', 'bp', 'thyroid', 'ca', '마취', 'hemithyroidectomy', 'c', 'cnd', 'l', '수술', '신장암', '왼쪽', '신장', '절제', '술', '전신', '마취', '관련', 'pre', 'op', 'evaluation', 'management', 'ent', '어머니', '신장', '기증', '고혈압', '자궁', '종', '수술', '크레아티닌', '단백뇨', '단백뇨', 'supraspinatus', 'tear', 'not', 'specified', 'as', 'traumatic', 'dysfunction', 'op', '계획', '내', 'lab', 'serum', 'serum', 'mdrd', 'egfr', '혈뇨', 'n', '비뇨기', '관련', '보이지', '수술', 'perioperative', 'evaluation', '수술', 'care', 'management', '신기', '능이', '상주', '적십자', '신장', '신장기', '능이', '처방', '신경', '처방', 'nstemi', '순환기', '내과', 'cr', '제주도', '맥주', '잔', '다음', '날', '등산', 'knee', 'joint', 'arthralig', 'and', 'swelling', 'lmc', '정형외과', 'gouty', 'arthritis', '약제', '복용', 'cr', '상승', 'dm', 'htn', 'dl', 'cr', 'egfr', 'cr', 'egfr', 'na', 'k', 'dm', 'htn', 'dl', 'lt', 'kidney', 'atrophy', 'rlq', 'pain', 'cr', '혈뇨', '미지', '불분명', 'wilms', 'tumor', 'rt', 'nephrectomy', '소아과', 'proteinuria', 'hyper', 'uricacidemia', '원', 'cr', 'hd', 'dwt', '투석', '간', '체중', 'residual', 'urine', 'volume', 'l', 'serum', 'k', '조절', 'serum', '조절', '인약', '복용', 'kidney', 'transplantation', 'hx', 'transfusion', 'hx', 'infection', 'hx', 'medication', '오심', 'aspirin', 'plavix', 'medication', 'viral', 'hepatitis', 'hbv', 'hcv', 'pra', 'class', 'i', 'screen', 'class', 'ii', 'screen', 'type', 'dm', 'htn', '신장', '한약', '난', 'azotemia', 'cr', 'egfr', 'bp', '교수', 'ckd', 'lmc', '순환기', '내과', '전임', 'cre', 'edema', 'free', 'hd', 'avf', 'ligation', 'bfr', 'ml', 'min', '투석', '저혈압', 'hb', '허리', '통증', '염', '진통제', '복용', '부종', 'utp', 'ckd', 'fsgs', 'htn', '형', '형', '본인', '형', '생체', '신장', '이식', '수혈', 'renal', 'bx', 'podocytopathy', '전남대', '직장', '전원', 'cr', 'egfr', 'upcr', '유산균', 'bp', 'htn', 'dm', '년', 'mi', '순환기', 'cr', '평가', '삼차', '신경통', '약제', '복용', 'dm', 'hx', 'cr', 'cr', 'cr', '년', '돼지감자', '환약', 'spinal', 'stenosis', '간', 'nsaids', '복용', 'no', 'urinary', 'sx', '당뇨', '망막', '증', '안과', 'lmc', 'lab', 'hba', 'c', 'cr', 'metformin', '중단', '약제', '당뇨', '고혈압', 'dm', 'retinopathy', 'upcr', 'mo', 'ago', 'cataract', 'op', 'hgba', 'pruritus', 'creatinine', 'egfr', 'ml', 'min', 'bsa', 'dm', 'htn', 'copd', 'lung', 'nodules', 'r', 'o', 'benign', 'cva', '이내', '저하', 'cr', 'egfr', 'na', '상주', '내과', '통원', '당뇨', '고혈압', '고지혈증', '파킨슨병', 'spinal', 'stenosis', '수술', '입원', '신장', '악화', '칼륨', '혈증', '전원', '크레아티닌', '칼륨', 'hgb', 'home', 'bp', '고혈압', 'cozaar', '사용', '크레아티닌', '사용', '크레아티닌', '상승', '건강검진', 'proteinuria', 'pcr', 'further', 'evaluation', '원', '식당', '업함', '래서', 'htn', 'dm', '중순', '경', '발목', '통증', 'lmc', '정형외과', '내', '통풍', '관절', '초음파', 'lab', 'uric', 'acid', 'cr', 'crp', 'further', 'evaluation', '원', '통증', '상태', 'bp', '김원섭', '비뇨기', '빈뇨', '통원', '한번', '동안', '소변', '보지', 'bph', 'tx', '강', '미정', '내과', '당뇨', '고혈압', '당뇨', '코로나', '감염', 'dark', 'urine', 'ivp', 'ct', 'normal', '사진', '별', 'cystoscopy', '고려', 'ua', 'prot', 'neg', 'rbc', 'hpf', 'creat', '산부인과', '페', '호르몬', '크레아티닌', '신장', '저하', '원', '사구체', '여과', '율', '피로', '감', '부기', '얼굴', '팔', 'oral', 'ulcer', 'varicocele', 'microscopic', 'hcematuria', 'apn', 'hx', '회', 'frequent', 'cystitis', 'ob', 'trace', 'rbc', 'hpf', 'no', 'urinary', 'sx', 'present', 'no', 'gross', 'hematuria', '단백뇨', 'upcr', 'g', 'hr', 'utp', 'g', '혈압', '상승', 'cozaar', 'bp', 'ua', 'ob', 'prot', 'rbc', 'many', 'hpf', 'sa', 'creat', 'ua', 'prot', 'rbc', 'hpf', '장염', '설사', '혈뇨', 'cola', 'colored', 'urine', '단백뇨', 'usg', 'kidney', 'renal', 'cyst', 'rt', 'gb', 'polyp', 'chronic', 'cholecystitis', 'r', 'o', 'cholecystitis', 'acute', 'cholangitis', 'choledocholithiasis', 'ercp', 'est', 'stone', 'removal', 'erpd', 'spinal', 'stenosis', '전신', '마취', '수술', '수술', 'cr', 'cr', 'elevation', '수술', 'cr', 'egfr', 'hu', 'pu', '허리', '통증', '진통제', 'atypical', 'endometrial', 'hyperplasia', '국', '마취', '수술', '마취', '수술', 'lt', 'nephrectomy', 'renal', 'ca', '미국', '대학', '수술', 'serum', 'dl', 'serum', 'dl', 'egfr', 'idms', 'ml', 'min', 'bsa', 'egfr', 'ml', 'min', 'bsa', 'perioperative', 'risk', '평가', '수술', '주의', '사항', 'cr', 'egfr', 'ptn', 'rbc', 'many', 'cerebral', 'aneurysm', 'nonruptured', 'uia', 'rt', 'mcab', 'dsa', 'r', 'o', 'ckd', 'bun', 'cr', '관', 'evaluation', 'management', 'vessel', 'vessel', '만', '조영제', '사용', '혈압', 'ra', 'cox', 'hcq', '복용', '혈뇨', 'bp', 'lmc', 'ct', 'series', 'wedge', 'shaped', 'perfusion', 'defect', 'ct', '찍기', 'ruq', 'pain', 'ct', 'left', 'kindey', '다른', 'series', 'defect', '보이지', 'series', '도', 'bp', 'cr', 'egfr', 'cr', 'bp', 'creat', '고혈압', '당뇨', 'dm', 'retinopathy', 'neg', 'microscopic', 'hematuria', '비뇨기', '순환기', 'af', 'xarelto', '사용', 'creat', 'egfr', '소변', '한적', '방광염', '신우', '염', 'flank', 'pain', 'cr', 'egfr', 'cr', 'egfr', '전신', '마취', '관절', '수술', 'ckd', '술전', '위험성', '평가', '정형외과', '부종', '호흡', '곤란', '변량', '양호', 'edema', '요독증', 'doe', 'known', 'htn', 'nstemi', 'lmc', 'cr', '교수', '투약', 'kanarb', 'lescol', '순환기', '모두', '투약', '단백뇨', '혈뇨', 'malignant', 'neoplasm', 'kidney', 'except', 'renal', 'pelvis', 'left', 'cr', '비뇨', '의학과', '교수', 'bun', 'cr', 'egfr', '소변', '부종', '호흡', '곤란', '오늘', '조영제', 'ct', '원', '전경', '혈뇨', 'ob', 'gross', 'hematuria', 'urinary', 'sx', '아드님', '대신', '오심', '혈액', '종양', '내과', '항', '암치료', 'bun', 'cr', '항', '암치료', '기력', '저하', '곽', '입원', '입원', '실', 'supportive', 'care', '보호자', '원', 'recurrent', 'uti', 'stone', '비뇨기', '신장', '내과', 'cr', '비뇨기', '퇴원', 'cr', '평가', '질환', '가족', '부모님', '일찍', 'active', 'ptb', 'dm', 'htn', 'ob', 'serum', 'cr', '한약', '제', '원', 'gross', 'hematuria', '혈뇨', 'ob', 'many', '원', '저하', '무릎', '술시', 'bun', 'cr', 'na', '암웨이', '양제', '비타민', '루텐', '간', '복용', '혈압', '복약', '옴', '비뇨기', '약제', '통풍', '오른쪽', '엄지', '옆', 'lmc', '비뇨기', '자의', '중단', 'cvat', 'rt', 'lt', 'angio', '시술', '응급실', 'lt', 'fermoal', 'punture', 'site', '부위', '윗쪽', 'rlq', 'pain', 'urinary', 'sx', 'gh', 'known', 'dm', 'htn', 'af', '순환기', 'lixiana', '투약', '혈뇨', '발생', '고환', '통증', '호소', '비뇨', '의학과', 'htn', 'type', 'dm', '부종', '발생', '커피', '잔', '마심', '율무', '차', '마시기', 'bp', 'bw', 'cystitis', 'lmc', '혈뇨', '항생제', '투여', '혈뇨', 'bp', 'angina', 'pci', 'with', 'stenting', 'drca', 'stemi', 'ant', 'vd', 'killip', 'cl', 'i', 'pci', 'with', 'stenting', 'plad', 'xience', 'drca', 'dl', 'dm', 'current', 'smoker', 'pack', 'cr', 'egfr', 'cr', 'egfr', '과초', '부종', 'hba', 'egfr', '서서', 'pitting', 'edema', '사구체', '염', '잠시', '조직검사', '단백뇨', '단백뇨', 'cr', 'egfr', 'bp', 'third', 'degree', 'uterine', 'prolapse', '교수', '마취', '수술', '술전', 'serum', 'dl', 'serum', 'dl', 'egfr', 'idms', 'ml', 'min', 'bsa', 'egfr', 'ml', 'min', 'bsa', 'azotemia', 'perioperative', 'risk', '평가', 'periop', 'management', 'obgy', 'prof', '내과', '신장', '초음파', '물혹', 'htn', '혈압', '투약', 'dl', 'bph', '식품', '비타민', '제', '유산균', '복용', '양파', '즙', '저하', 'na', 'cr', 'egfr', 'eskd', 'dm', '투석', 'renal', 'bx', '도', '박경', '내과', '혈액', '투석', 'avg', 'obstruction', '투석', '생각', '동생', '형', '음성', '형임', 'dw', 'bp', 'konos', 'hd', '내과', 'dwt', '미정', '투석', '간', '체중', 'residual', 'urine', 'volume', 'serum', 'k', 'serum', '조절', '인약', '칼륨', 'kidney', 'transplantation', 'hx', 'transfusion', 'hx', 'infection', 'hx', 'htn', 'dl', 'chf', 'cr', 'egfr', 'cr', 'egfr', 'ob', 'many', '고혈압', '순환기', '내과', 'lmc', '복부', '초음파', 'kidney', '이상', '원', 'abdomen', 'ct', 'lk', 'parapelvic', 'cyst', '고혈압', '무릎', '수술', '크레아티닌', '감소', '무릎', '통증', 'nsaids', '복용', '단백뇨', '거품뇨', 'cr', 'upcr', '식품', '간', '복용', '루테', '유산균', '오메가', '종합', '비타민', '간', '염소', '즙', '두통', '뇌', '복약', 'general', 'weakness', 'lmc', '내', '내', 'af', '엘리', '퀴스', 'bun', 'cr', 'k', 'hb', 'edema', 'transfusion', 'kalimate', '복약', 'lasix', '사용', 'edema', 'control', 'pitting', 'edema', 'lmc', 'medication', '카리', '메트산', 'p', '엘리', '퀴스', '식스', '바스', '티', '글립', '이드', '정', '삐콤정', '훼로바유', '렌벨', '크레메진', '이페', '질정', '리세', '틸', '넥사론정', '혈액', '투석', 'intradialytic', 'hypotension', 'djd', '슬', '관절', '통증', '전신', '마취', '수술', 'htn', 'dm', 'ckd', 'stage', 'asymptomatic', 'hyperuricemia', 'preop', 'lab', '수술', 'perioperative', 'evaluation', '수술', 'care', 'management', '수술', 'uterine', 'myoma', 'unspecified', '마취', '수술', '수술', 'serum', 'dl', 'serum', 'dl', 'egfr', 'idms', 'ml', 'min', 'bsa', 'egfr', 'ml', 'min', 'bsa', 'azotemia', 'perioperative', 'risk', '평가', '수술', '주의', '사항', '수술', '통풍', '통풍', '발목', 'creatinine', 'k', '고혈압', 'usg', 'kidney', 'rt', 'lt', 'slightly', 'increased', 'echo', '과장', '당뇨', '고혈압', 'tc', 'ua', 'prot', 'neg', 'rbc', 'hpf', 'creat', 'urinary', 'frequency', 'cystitis', 'hx', 'positive', 'toilet', 'habitus', 'back', 'to', 'forward', '코로나', 'aki', '투석', 'cr', 'egfr', 'cr', 'egfr', 'cr', 'egfr', '대학병원', '식이', '교육', '별', '얘기', '투석', 'bp', 'ulcerative', 'colitis', '혈뇨', 'bp', '신경', '교수', 'mca', 'occlusion', 'and', 'stenosis', 'hgb', 'creat', 'egfr', 'hypertension', 'dm', 'free', 'ct', 'contrast', '사용', '빈혈', '수혈', '파인트', '원인', '불확실', 'duodenal', 'ulcer', 'scar', '크레아티닌', '방광염', '요', '이상', 's', 'ob', 'eskd', 'dm', 'nephropathy', 'hd', '투석', 'bp', '내과', '단백뇨', '부종', 'cr', 'upcr', 'bp', 'lmc', 'hematuria', 'proteinuria', '신장', '관련', '소변', '볼때', '점', 'htn', 'hfref', 'mod', 'mr', 'tr', 'dl', 'cr', 'egfr', 'cr', 'egfr', 'prostate', 'carcinoma', '마취', '로봇', '이용', '전립선', '절제', '술', 'rft', 'elevation', '수술', '위험성', 'peri', 'op', 'evaluation', 'management', '구', '고자', '비뇨', '의학과', '교수', 'c', 'emr', '소화기', '내과', '입원', 'ckd', 'hyperk', '소변', '다른', '점', '매일', '과일', '마지막', '간', '양제', '홍삼', 'rbc', 'upcr', 'serum', 'cr', 'egfr', '정식', 'serum', 'cr', '한약', '식품', 'glottic', 'ca', '마취', 'lms', 'c', 'bx', 'prn', 'laser', 'cordectomy', '수술', 'preop', 'lab', 'serum', 'dl', 'egfr', 'idms', 'ml', 'min', 'bsa', 'egfr', 'ml', 'min', 'bsa', 'mmol', 'l', '처치', '신장기', '능이', '신장', '내과', '수술', '당뇨', '때문', '신기', '능이', '칼륨', '현미경', '혈뇨', '초음파', 'no', 'urinary', 'sx', 'no', 'gross', 'hematuria', '어머니', '여동생', '현미경', '혈뇨', '자제', '혈뇨', '형', '동생', 'kidney', 'donation', 'dxm', 'htn', 'lmc', '항고', '혈압', '제', '복용', '단백뇨', 'upcr', 'protein', 'ob', '조직검사', '독감', '소변', '거품', 'skin', 'purpuric', 'lesion', 'proteinuria', 'ob', 'microscopic', 'hematuria', 'no', 'urinary', 'sx', 'edema', '요독증', 'doe', 'known', 'htn', 'lmc', '혈압', '투약', 'cr', 'k', 'hb', 'adrenal', 'incidentaloma', 'cr', 'egfr', 'egfr', 'na', 'benign', 'neoplasm', 'parotid', 'gland', '교수', 'htn', 'gout', 'parotid', 'tumor', 'enhanced', 'neck', 'ct', 'ct', '혈액', 'cr', 'elevation', 'assessment', 'further', 'management', '이비인후과', 'prof', '통풍', '때문', '신장', 'apn', 'cr', 'egfr', '매년', '기억', '한약', '식품', 'bp', '현미경', '혈뇨', 'upcr', 'cr', 'egfr', 'upcr', 'cr', 'egfr', 'upcr', 'cr', 'egfr', 'upcr', 'cr', 'egfr', 'upcr', 'bp', '여동생', 'kidney', 'donation', 'eskd', 'dmn', 'hd', 'start', '순천향대', '부속', 'hd', 'dm', 'with', 'dmr', 'htn', '뇌사', '신장', '이식', '기자', '상담', 'gh', 'prev', 'healthy', 'known', 'graves', 'ds', 'lmc', '혈뇨', 'lmc', 'cr', 'egfr', 'prot', 'rbc', 'hpf', '원', '혈뇨', 'gross', 'hematuria', '콜라', '색', 'urinary', 'sx', 'htn', '이상', '사고', '년', '부터', '휠체어', 'ambulation', '경', 'lower', 'ext', 'edema', 'progression', 'no', 'urinary', 'sx', 'htn', '이상', '혈압', '약제', '중단', '혈압', 'bp', '이상', '약제', '복용', '간', 'lt', 'flank', 'discomfort', '요로', '감염', '신우', '염', '엊', 'lmc', 'kidney', 'size', '크기', '차이', 'lt', 'rt', 'emphysema', 'lul', 'cystic', 'lesion', 'osteoporosis', 'current', 'smoker', 'pack', '혈뇨', 'gross', 'hematuria', 'urinary', 'sx', 'psa', 'ng', 'ml', '범위', '당뇨', 'htn', '복약', '불규칙', 'hba', '건강검진', '혈뇨', '단백뇨', 'cr', 'egfr', 'tg', 'hematuria', 'rbc', 'proteinuria', '식품', 'cutaneous', 'small', 'vessel', 'vasculitis', 'o', 'hsp', '피부', 'ob', '생리', '직후', '요', '이상', '급성', '체신', '염', '몸', '고혈압', '항고', '혈압', '제', '복용', '저하', '혈압', '복용', '그', '동안', '입맛', '요', '거품', '점차', '악화', '코로나', '예방접종', '오심', 'nausea', '어지러움', 'lmc', 'cr', 'bun', 'lmc', 'ct', '조영제', '사용', 'no', 'urinary', 'sx', 'dark', 'urine', 'cola', 'colored', '통증', '브루', '펜', '울프', '셑', '복용', '본인', '사관학교', '생도', '육체', '활동', '교수', 'isomorphic', 'rbc', 'ua', 'rbc', 'many', 'hpf', 'creatinine', 'ct', '방광', '내시경', '당뇨', '당뇨', '복약', '혈뇨', '소변', '혈뇨', '경과', '혈뇨', 'r', 'o', 'cystitis', '복약', 'hematuria', 'further', 'evaluation', '양제', 'hba', 'kidney', 'donation', 'cr', 'egfr', 'cr', 'egfr', 'bp', 'exfoliative', 'cheilitis', 'cheilitis', 'exfoliativa', '통원', 'bun', 'cr', 'egfr', '감소', '골', '관절염', 'edema', 'dl', 'aortic', 'stenosis', 'severe', 'rft', '악화', 'bun', 'cr', 'egfr', 'doe', '순환기', '원', 'tavi', '상의', '보류', '상태', 'egfr', '감소', 'progressive', 'cc', 'elevation', 'creatinine', 'up', 'to', 'dl', 'knuh', 'stent', 'imsertion', '이장훈', '교수', '경과', '크레아티닌', '소변', '단백뇨', '혈뇨', '통풍', 'hand', 'foot', 'severe', 'deformity', '통풍', '결절', '혈뇨', '발생', 'h', 'pylori', 'medication', '식품', '보굥', 'cystis', 'like', 'symptom', '커피', '부정맥', '단계', '중단', '신장', 'ct', '촬영', 'ua', 'ob', 'rbc', 'hpf', '비장', '출혈', '교통사고', '혈관', '술', '장간', '막', '손상', '장손', '수술', '행', '결장', '에스', '결장', '절제', '회장', '루', '조성', 's', 'lt', 'laparoscopic', 'colostomy', 'reversal', '좌측', '대장', '절제', 's', '결장', '구간', '절제', 'o', 'lt', 'renal', 'atrophy', 'due', 'to', 'renal', 'infarction', 'a', 'renal', 'vessel', 'injury', 'hypertension', '크레아티닌', '전원', 'cc', 'nephrotic', 'range', 'proteinuria', '당뇨', '고혈압', '오래됨', 'peripheral', 'artery', 'disease', 'graft', '수술', '프레', '탈', '사용', 'hgb', 'hgba', 'k', 'creat', 'ua', 'prot', 'rbc', '장폐색', '스트레스', '단백뇨', '염소', '탕', '복용', '안과', '교수', 'dmr', '유무', 'hd', 'start', 'eskd', 'dm', 'hd', 'start', '연합', '내과', '투석', '형', '아들', 'o', '형', '신장', '기증', 'bp', 'ct', 'pckd', '군', 'bp', '현미경', '혈뇨', '단백뇨', '소아과', '조직검사', 'igan', 'hass', 'i', 'arb', 'lower', 'dose', '사용', 'upcr', '약제', '중단', 'no', 'urinary', 'sx', 'cr', 'cr', 'egfr', 'upcr', 'cozaar', 'start', 'bp', 'bw', 'cc', 'microscopic', 'hematuria', 'rbc', 'cr', 'prot', 'neg', 'urine', 'prot', 'rbc', 'cpk', 'usg', 'kidney', 'ur', 'prot', 'rbc', 'creat', 'no', 'purpura', 'oral', 'ulcer', 'cpk', 'edema', 'free', 'cr', 'elevation', 'r', 'o', 'ckd', '고려', 'cr', 'elevation', '재', 'r', 'o', 'ckd', '신경', 'bun', 'cr', 'egfr', 'bun', 'cr', 'egfr', 'bun', 'cr', 'egfr', 'bun', 'cr', 'egfr', '몸살', 'angina', 'pectoris', 'unspecified', 'angina', 'poba', 'mlad', 'cag', 'no', 'restenosis', 'dyslipidemia', '순환기', '내과', 'enaprin', '복용', '접수', '일자', 'bun', 'cr', 'egfr', 'azotemia', '악화', '순환기', '내과', 'bun', 'cr', 'bun', 'cr', 'bun', 'cr', 'bun', 'cr', 'bun', 'cr', 'cc', 'proteinuria', 'with', 'frothy', 'urine', 'hypertension', 'dm', 'neg', '소변', '거품', 'lmc', 'urine', 'prot', 'rbc', 'protein', 'rbc', 'hpf', 'esrd', 'dmn', 'hd', '여동생', '장공', '이식', 'covid', 'pn', 'pte', '연기', '생체', '이식', '얘기', 'hd', '투석', '합병증', 'aspirin', 'plavix', 'warfarin', 'dm', 'dl', 'angina', 'post', 'cag', 'pci', 'chc', 'cr', 'cr', 'egfr', 'na', '백내장', '외', 'dmr', '고혈압', '단백뇨', 'sbp', '고혈압약', '처방', '고혈압', '단백뇨', 'sbp', '고혈압약', '처방', 'intervertebral', 'disc', 'stenosis', 'neural', 'canal', 'lumbar', 'region', 'lumbosacral', '슬', '관절', '통증', '전신', '마취', '수술', 'bun', 'cr', 'egfr', '수술', 'perioperative', 'evaluation', '수술', 'care', 'management', '내과', '신장', 'fever', '혈뇨', '단백뇨', '현미경', '혈뇨', '현미경', '혈뇨', 'kidney', 'usg', 'no', 'urinary', 'sx', 'carcinoma', 'in', 'situ', 'bladder', '마취', '요도', '방광', '내', '종양', '제거', '술', '술전', 'serum', 'lab', 'rft', 'elevation', 'serum', 'dl', 'serum', 'dl', '수술', '위험성', 'peri', 'op', 'evaluation', 'management', '구', '고자', 'contrast', 'enhanced', 'abd', 'chest', 'ct', 'dm', 'lmc', 'abb', 'cozaar', '복용', 'cr', 'no', 'urinary', 'sx', 'dysuria', 'lmc', '방광염', '약제', '복용', 'microscopic', 'hematuria', '비뇨기', 'lmc', 'abdo', 'ct', 'cystoscopy', 'lmc', '내과', '요', '현미경', '혈뇨', '단백뇨', 'no', 'urinary', 'sx', 'present', 'gh', '빈혈', '철분', '제만', '복용', 'usg', '신비', '증', '얘기', 'cr', 'egfr', 'ml', 'min', 'hb', 'prot', 'rbc', 'wbc', 'breast', 'cancer', 'right', 'acinic', 'cell', 'carcinoma', 'rt', 'palatal', 'area', 'partial', 'maxillectomy', 'rt', 'sond', 'recon', 'with', 'lt', 'rfff', 'htn', 'dm', 'lmc', 'lt', 'nephrectomy', 'lmc', 'op', '병명', '전신', '마취', '수술', 'lmc', 'lt', 'nephrectomy', 'cr', 'elevation', '조영제', '사용', 'ct', '수술', 'abd', 'chest', 'ct', '유방', '갑상선', '외과', '배상', '혈뇨', '갈색', '소변', 'bph', 'psa', 'idiopathic', 'pulmonary', 'fibrosis', 'ipf', '투약', 'r', 'o', 'ckd', '귀', '호흡기', '내과', 'sbp', 'edema', '요독증', 'doe', 'known', 'hcmp', 'cva', '신경', 'cr', 'egfr', 'ml', 'min', '원', '단백뇨', '단백뇨', '혈뇨', 'hd', 'dwt', '투석', '간', '체중', 'residual', 'urine', 'volume', 'serum', 'k', 'serum', '조절', 'kidney', 'transplantation', 'hx', 'transfusion', 'hx', 'infection', 'hx', 'medication', 'cozaar', 'dilatrend', 'adalat', 'atozet', 'qdf', 'calcio', 'renvela', 'hemonia', 'nephvita', 'pantoloc', 'htn', '소변', 'cr', 'egfr', 'cr', 'egfr', 'bp', 'htn', 'ich', '혈뇨', 'gross', 'hematuria', 'urinary', 'sx', '직장', '단백뇨', '요단백', 'cr', 'abd', 'usg', 'bp', 'edema', 'known', 'dl', 'o', 'htn', 'lmc', 'cr', 'egfr', 'ckd', 'dm', '아메', '디', '휠체어', '거동', 'bun', 'cr', 'na', 'k', 'avf', '결정', '대화', 'ct', 'colitis', 'cystitis', '침대', 'hd', '내과', 'dwt', '투석', '간', '체중', 'residual', 'urine', 'volume', 'serum', 'k', 'serum', '조절', 'kidney', 'transplantation', 'hx', 'transfusion', 'hx', '라파엘', '단백뇨', '미세', '단백뇨', '전원', '언니', '신부전', '신장', '이식', 'cgn', '체중', '당뇨', '당뇨', '중단', 'birth', 'weight', 'kg', '근처', 'ckd', 'aki', 'aaa', 'intact', 'infrarenal', 'mm', 'aneurysm', 'cia', 'mm', 'stemi', 'inf', 'post', 'pci', 'state', 's', 'p', 'ami', 'pci', 'with', 'stent', 'mrca', 'promus', 'plad', 'stenosis', 'dyslipidemia', 'ldl', 'acos', 'imp', 'post', 'bd', 'fev', 'fvc', 'fev', 'fvc', 'bdr', 'rul', 'nodule', 'current', 'smoker', 'p', 'yrs', 'aaa', '내', 'azotemia', '귀', 'lvef', 'rwma', 'bun', 'cr', 'egfr', 'bun', 'cr', 'egfr', 'hematuria', 'abdominal', 'ct', 'both', 'kidney', 'hydronephrosis', 'bun', 'cr', 'r', 'o', 'post', 'renal', 'aki', '고려', 'hematoma', '제거', 'bun', 'cr', 'egfr', '상태', '퇴원', 'ascus', 'atypical', 'squamous', 'cells', 'undetermined', 'significance', '교수', 'serum', 'dl', 'serum', 'dl', 'egfr', 'idms', 'ml', 'min', 'bsa', 'egfr', 'ml', 'min', 'bsa', 'azotemia', 'further', 'evaluaton', 'management', 'obgy', 'prof', '혈압', '당뇨', '비타민', 'e', '칼슘', '칼슘', '마그네슘', '징', '양제', '복용', 'hsil', 'sle', 'with', 'hemolytic', 'anemima', 'and', 'thrombocytopenia', 'with', 'nephritis', 'r', 'o', 'type', 'with', 'pericardial', 'effusion', 'with', 'myocarditis', '교수', '국', '마취', '수술', 'im', 'rh', 'sle', 'with', 'nephritis', 'r', 'o', 'type', '이력', 'perioperative', 'risk', '평가', '수술', '주의', '사항', 'obgy', 'prof', '자궁', '부암', '수술', 'consult', '답변', '남동생', '신장', '기증', '뇌출혈', '수술', 'htn', 'amlodipine', '복용', 'bp', 'ua', 'prot', 'rbc', 'upcr', 'creat', 'egfr', '고혈압', '소양증', 'acute', 'cholecystitis', 'r', 'o', 'acute', 'chronic', 'calculous', 'cholecystitis', 'ptgbd', 'stemi', 'with', 'vf', 'p', 'pci', 'with', 'stenting', 'rrca', 'plad', 'ecmo', 'cag', 'no', 'ist', 'isr', 'om', 'ischemic', 'cmp', 'hf', 'icd', 'insertion', 'dm', 'left', 'common', 'peroneal', 'neuropathy', '질환', '수술', '수술', 'lab', 'cr', 'azotemia', '수술', '간담', '췌', '외과', 'medication', 'imc', 'med', 'torem', 'aspirin', 'protect', 'procoralan', 'atozet', 'lanston', 'dilatrend', 'entresto', 'ganakhan', 'warfarin', 'na', 'warfarin', 'na', 'ime', 'med', 'ryzodeg', 'flextouch', 'pen', 'diamicron', 'mr', 'forxiga', 'glucophage', 'alzheimer', 's', 'dementia', 'lab', 'serum', 'serum', '평가', '건강검진', '신장', '그냥', '소변', '단백뇨', 'anemia', 'aaa', '이식', '혈관', '외과', 'r', 'o', 'ckd', 'cr', 'egfr', 'cr', 'egfr', '이상', '내과', '고혈압', '신기', '능이', '그', '단백뇨', '혈뇨', '심방', '약제', '복용', '혈뇨', '심방', '약제', '복용', 'creat', 'upcr', 'ua', 'ob', '개월전', '단백뇨', 'htn', '오심', '구토', 'bp', 'ua', 'prot', 'rbc', 'creat', 'egfr', 'got', 'gtp', 'edema', 'free', 'usg', 'abdomen', 'normal', '나이', 'vur', 'implantation', '간', 'loss', 'cr', 'egfr', '아버지', 'dxm', '음성', '전원', 'bp', 'eskd', 'htn', 'hd', 'start', 'urogenital', 'tbc', 'with', 'kidney', 'involvement', '내과', 'hd', '투석', '저혈압', 'capd', 'bp', 'hd', '고려', '대련', '요양', 'dwt', '투석', '간', '체중', 'residual', 'urine', 'volume', 'anuria', 'serum', 'k', 'serum', '조절', 'kidney', 'transplantation', 'hx', 'transfusion', 'hx', 'infection', 'hx', 'medication', '항', '응고', '제', '항혈', '전제', 'viral', 'hepatitis', 'hbv', 'hcv', 'ra', 'class', 'i', 'screen', 'class', 'ii', 'screen', 'ht', 'bw', 'edema', '거품', '뇨', 'known', 'dm', 'htn', '내과', '단백뇨', '혈압', 'lmc', 'cr', 'egfr', 'prot', 'rbc', 'hpf', 'hb', 'hba', 'localization', 'related', 'focal', 'partial', 'symptomatic', 'epilepsy', 'and', 'epileptic', 'syndromes', 'with', 'complex', 'partial', 'seizures', 'without', 'intractable', 'epilepsy', 'rft', 'abnormality', '관련', '귀', '피부', '소변', '색', 'renal', 'cyst', '보', 'renal', 'cyst', 'both', 'rt', 'max', 'lt', 'max', 'bp', '고혈압', '당뇨', '부종', '양쪽', '내분비', '내과', '신경', '파킨슨', '뇌경색', '통원', 'cataract', 'glaucoma', 'op', 'nausea', 'gross', 'hematuria', 'nutcracker', 'syndrome', '에소', 'gross', 'hematuria', '간', '이사해', '운동', '관련성', 'bp', 'edema', 'known', 'single', 'kidney', 'dl', 'nb', '이해', 'htn', 'cva', 'ckd', 'htn', 'dementia', '수성', '중동', '입원', 'bun', 'cr', '투석', 'bp', 'eskd', 'hd', 'start', 'hd', 'dw', 'gain', 'pint', '수혈', 'k', '조절', 'bp', '오심', '구토', 'lmc', '가정의학', 'lmc', 'ct', 'o', 'adrenal', 'adenoma', 'o', 'retroperitoneal', 'fibrotic', 'mass', 'no', 'urinary', 'sx', 'abdo', 'pain', 'wt', 'loss', 'hd', 'dwt', '투석', '간', '체중', 'residual', 'urine', 'volume', 'serum', 'k', 'serum', '조절', 'kidney', 'transplantation', 'hx', 'transfusion', 'hx', 'infection', 'hx', 'aspirin', 'plavix', 'medication', 'viral', 'hepatitis', 'hbv', 'hcv', '현미경', '혈뇨', 'painless', 'gross', 'hematuria', '발생', '현미경', '혈뇨', 'no', 'urinary', 'sx', 'no', 'gross', 'hematuria', 'atrial', 'fibrillation', 'unspecified', 'af', 'htn', 'cva', 'bph', 'cr', '악화', '귀', 'cr', 'egfr', 'cr', 'egfr', 'cr', 'egfr', 'supraspinatus', 'tear', 'not', 'specified', 'as', 'traumatic', 'htn', 'ya', 'dm', 'ya', 'thyroid', 'disease', '전신', '마취', 'shoulder', 'scope', 'op', '니', 'pre', 'op', 'lab', 'bun', 'cr', 'electrolyte', 'imbalance', '보이지', 'perioperative', 'evaluation', 'management', 'cr', 'egfr', 'pu', 'hu', 'esrd', 'dmn', 'htn', 'cgn', 'hd', '뇌사', '신장', '이식', '장기이식', 'hd', '투석', '합병증', 'aspirin', 'plavix', 'warfarin', 'htn', 'caduet', 'cr', 'arb', 'atacand', 'lipitor', 'cr', '혈압', '저혈압', '어지러움', '회복', '단백뇨', 'hd', '내과', 'dwt', '투석', '간', '체중', 'residual', 'urine', 'volume', '컵', '이상', 'serum', 'k', 'serum', '조절', 'kidney', 'transplantation', 'hx', 'transfusion', 'hx', 'pregnancy', '여자', 'infection', 'hx', 'medication', 'aspirin', 'plavix', 'medication', 'viral', 'hepatitis', 'hbv', 'hcv', '한약', '식품', '복용', 'bun', 'cr', 'egfr', 'bun', 'cr', 'egfr', 'bun', 'cr', 'bp', 'htn', 'dm', '시기', 'cr', 'egfr', 'bp', 'kidney', 'cyst', 'simple', 'persistent', 'micoroscopic', 'hematuria', '비뇨', '의학과', '교수', '혈뇨', '양성', '혈뇨', '양성', 'htn', 'bph', 'uia', 'right', 'paraclinoid', 'ica', 'severe', 'atherosclerosis', 'as', 'aiod', 'wall', 'cal', 'colon', 'ca', 'op', '혈뇨', 'gross', 'hematuria', 'urinaryl', 'sx', 'apct', 'cystoscopy', 'effort', 'unrelated', 'chest', 'pain', 'ntemi', 'dm', 'lmc', '복부', 'ct', 'small', 'aneurysm', 'with', 'calcified', 'wall', 'rt', 'renal', 'artery', 'gh', '사구체', '여과', '율', '사구체', '여과', '율', 'cr', 'cr', 'bp', 'djd', '교수', '정형외과', '슬', '관절', '통증', '전신', '마취', '수술', 'preop', 'lab', 'bun', 'cr', 'egfr', '수술', 'perioperative', 'evaluation', '수술', 'care', 'management', '정형외과', '천식', '고혈압', '불규칙', '투약', '쇠약', 'egfr', 'hd', 'avf', 'op', 'done', '장', 'hd', '조직검사', 'malignant', 'nephrosclerosis', 'diffuse', 'foot', 'process', 'effacement', 'ifta', 'global', 'sclerosis', 'gain', 'bw', 'cr', 'egfr', 'upcr', 'g', 'bp', '후반', '임신', '중독증', '고혈압', '감소', 'bun', 'cr', 'egfr', 'cr', 'egfr', 'cr', 'egfr', 'bp', 'htn', 'dl', 'tt', 'both', 'diffuse', 'hyperplasia', 'grave', 's', 'disease', 'synthyroxine', 'calteo', 'synthyroxine', '디카', '맥스', '거품', '뇨', '간', 'egd', 'colonoscopy', '한약', '식품', 'nsaids', '기관지', '확장', '증', 'blood', 'tinged', 'sputum', 'creat', '전원', '고혈압', '당뇨', 'cataract', 'kg', 'egfr', 'htn', 'dm', '경', '붓기', 'pitting', 'edema', '허리', '통증', '정형외과', '봄', 'htn', '혈압', '복약', '대경', '가지', '건강검진', 'cr', 'egfr', 'further', 'evaluation', 'persistent', 'atrial', 'fibrillation', '부', 'heart', 'failure', '부', 'hypertension', 'arterial', 'essential', 'primary', 'systemic', 'lmc', 'lab', 'hb', 'bun', 'cr', 'ucg', 'ef', 'further', 'evaluation', '원', '이뇨제', '복약', 'dyspnea', 'pitting', 'edema', 'dm', '이상', 'htn', '이상', 'nstemi', '순환기', '내과', '저하', 'cr', 'cr', 'hb', 'no', 'urinary', 'sx', '모친', '기증', '청각장애', '급', '수화', '대화', 'bp', '소변', '단백뇨', '혈뇨', 'uri', 'gross', 'hematuria', '갈색', '색', 'ob', 'upcr', 'thyroid', 'cancer', 'thyroid', 'gland', 'total', 'thyroidectomy', 'right', 'papillary', 'carcinoma', 'extrathyroidal', 'left', 'papillary', 'microcarcinoma', 'intrathyroidal', 'lymph', 'node', 'neck', 'dissection', 'metastatic', 'carcinoma', 'primary', 'in', 'thyroid', '병명', '정기', 'cr', 'elevation', 'cr', 'cr', 'egfr', '홍조', '일반', '홍', '조약', '약인', '약도', '사이', 'cubital', 'tunnel', 'syndrome', 'far', 'lateral', 'stenosis', 'l', 's', 'rt', 'spondylosis', 'l', 's', 'bilateral', 'l', 'pedicle', 'fx', 'rt', 'acute', 'plif', 'l', 's', 'needle', 'bone', 'biopsy', 'rt', 'l', 'pedicle', 'htn', 'df', '해', 'lab', 'cr', 'elevation', '귀', 'cr', 'egfr', 'cr', 'egfr', 'oromandibular', 'dystonia', 'dystonia', 'lab', 'serum', 'serum', 'azotemia', '평가', 'cr', 'htn', 'dm', 'gout', 'cr', 'cr', 'egfr', 'ob', 'many', 'cr', 'ob', 'orthopnea', 'unstable', 'angina', 's', 'p', 'pci', 'aspirin', 'effient', 'adrenal', 'incidentaloma', 'htn', 'dm', 'dl', 'agc', 'biii', 'mb', 'antrum', 'lc', 'pcc', 'ct', 'nm', 'gastric', 'cancer', 'nos', 'advanced', '수술', 'creatinine', 'perioperative', 'management', 'ptn', 'rbc', '외과', '수술', '예약', 'dm', '뇌경색', '신경', '내분비', 'cr', 'proteinuria', 'trace', 'stemi', 'post', 'pci', 'htn', 'dm', 'chc', 'former', 'smoker', 'cr', 'egfr', 'cr', 'egfr', 'crrt', 'hd', 'hd', '중단', '상태', 'cr', 'egfr', 'na', 'k', 'aki', 'ckd', 'hd', '중단', '퇴원', 'dm', 'htn', 'dl', 'sbp', 'htn', 'dm', 'secondary', 'htn', 'ct', 'cr', 'hba', '음식', 'ht', 'bw', 'uri', 'sx', 'fever', '단백뇨', 'upcr', 'gcr', '거부', 'arb', '단백뇨', '당뇨', '직', '듀오', 'upcr', 'upcr', 'gcr', '상승', 'kidney', 'biopsy', 'edema', 'known', 'htn', 'dl', '아들', '복막', '투석', '장공', '세브란스', 'cr', 'egfr', 'prot', 'hd', 'hd', '요양', '화목', 'hd', '일본인', 'ckd', '일본', 'uo', 'ml', 'wt', '혈뇨', '혈뇨', 'bp', 'neck', 'mass', '좌측', '경부', '종물', '주소', '내', '조영제', 'ct', '계획', 'lab', 'cr', 'elevation', 'serum', 'egfr', 'idms', 'egfr', 'evaluation', 'ct', 'management', '관련', '이비인후과', '보훈', 'dm', 'for', '이상', 'htn', 'for', 'hf', 'pci', 'stent', '대략', 'fib', '부정맥', '자', '가약', '디', '아미', '크롱', '엔트레', '스토', '바스', '티', '자렐토', '코다', '론', '케이', '캡', '정', '테', '넬리', '엠', '방정', '정', '아젯', '듀오', '정', '기침약', '레미', '코트', '트라몰', '코', '리나', '치', 'edema', 'prot', 'prostate', 'carcinoma', 'azotemia', 'aggravation', '비뇨', '의학과', '교수', 'prostate', 'carcinoma', '마취', '로봇', '이용', '전립선', '수술', 'azotemia', '수술', '위험성', 'peri', 'op', 'evaluation', 'management', '구', '고자', '비뇨', '의학과', '교수', '비뇨기', '수술', 'dm', 'htn', 'ckd', 'dmn', 'egfr', '감소', '딸', '로부터', '장공', '이식', 'aspirin', 'plavix', 'warfarin', 'djd', '정형외과', '슬', '관절', '통증', '전신', '마취', '수술', 'pre', 'op', 'lab', 'bun', 'cr', 'k', '수술', 'perioperative', 'evaluation', '수술', 'care', 'management', '정형외과', 'esophageal', 'diverticulum', '촬영', 'ct', 'rt', 'kidney', 'atrophy', 'multiple', 'renal', 'cyst', 'bp', 'edema', '거품', '뇨', 'gh', 'prev', 'healthy', 'lmc', '현미경', '혈뇨', '단백뇨', 'trace', 'lmc', 'cr', 'prot', 'trace', 'rbc', 'hpf', 'hb', '군', 'renal', 'agenesis', 'rt', 'o', 'congenital', 'cr', 'egfr', 'ob', 'cr', 'egfr', 'kmi', '신장', '이상', '전원', '크레아티닌', '내분비', '순환기', '내과', '경과', '신장', '감소', '안정', 'ua', 'prot', 'rbc', 'many', 'dm', 'y', 'hypertension', 'y', 'hgba', 'dm', 'retinopathy', '불확실', '혈당', '응급실', 'hfmref', 'nonischemic', 'tte', 'lvef', 'global', 'hypokainesia', 'ccta', 'no', 'evidence', 'coronary', 'artery', 'stenosis', 'tte', 'lvef', 'lvv', 'lvd', 'rwma', 'mild', 'to', 'mod', 'ar', 'av', 'sclerosis', 'pv', 'mpg', 'ava', 'old', 'tbc', '완치', 'cr', 'egfr', 'cr', 'egfr', 'cr', 'egfr', 'cr', 'egfr', 'crohn', 's', 'disease', '건강검진', 'protein', 'rbc', '건강검진', 'protein', '원', '크론병', 'mezavant', '복약', 'bp', 'malignant', 'neoplasm', 'bronchus', 'lung', 'unspecified', 'unspecified', 'side', 'nstemi', 'medication', 'lung', 'cancer', 'stage', 'i', '수술', 'regular', 'r', 'o', 'ckd', '호흡기', '내과', 'bun', 'cr', 'egfr', 'lung', 'cancer', 'enhance', 'ct', '촬영', 'bun', 'cr', 'egfr', 'bun', 'cr', 'egfr', '펜', '장복', 'atopic', 'dermatitis', 'hematuria', '아산병원', '가량', '중단', 'protein', 'rbc', 'contamination', 'protein', 'rbc', 'protein', 'rbc', 'many', 'bun', 'cr', 'egfr', 'hematuria', 'proteinuria', 'pitting', 'edema', '저하', 'cr', '요', '이상', 'na', '거품', '뇨', '이동주', '아버지', '신장', '원', 'bp', 'htn', 'dyslipidemia', 'lmc', 'regular', 'lab', 'lft', 'abnormality', 'ua', 'blood', 'trace', 'lmc', 'ast', 'alt', 'rgtp', 'alp', 'tc', 'ldl', 'alcohol', 'bmi', '원', '저하', 'ckd', 'cgn', 'htn', 'lmc', 'cr', 'cr', 'upcr', 'breast', 'ca', 'rt', '유방', '부분', '절제', '술', '항', '암치료', 'ac', '종료', '방사선치료', '완료', '병명', '수술', '정기', 'cr', 'elevation', 'cr', 'egfr', 'bun', 'cr', 'egfr', 'ce', 'ct', '달동', '척추협착증', '진통', '소염제', '처방', '척추협착증', '수술', '이상', '진통제', '항', '암치료', '끝', 'eskd', 'dm', 'hd', 'start', '투석', 'dw', 'wt', 'gain', 'k', '조절', 'bp', 'dyspnea', 'r', 'o', 'cerebral', 'infraction', 'anca', 'vasculitis', 'dm', 'pulmonary', 'embolism', 'nm', 'imrh', 'medication', 'dyspnea', 'agg', 'refer', 'tte', 'hf', 'anca', 'vasculitis', 'medication', 'lab', 'cr', '상승', 'further', 'evaluation', '순환기', '내과', '전임', 'bp', 'ckd', '준', '식품', '숨', '차고', '붓기', 'dm', 'with', 'dmr', 'htn', '원', '단백뇨', '혈뇨', '원', '저하', 'cr', 'egfr', 'ob', '모친', '신장', '기증', '음성', 'bp', 'ht', 'bw', '병명', 'hernia', 'op', 'cr', 'pre', 'op', 'risk', '평가', 'perioperative', 'management', '대장', '항문', '소아', '외과', '교수', '독감', 'htn', 'dyslipidemia', 'cr', 'egfr', 'tchol', 'ldl', 'prot', 'bp', '아들', '음성', '신장', '기증', 'bp', 'ht', 'bw', 'type', 'ii', 'dm', 'with', 'unspecified', 'complications', '부종', 'albumin', 'cr', '귀', '내분비', '내과', '전임', '배상', '붓기', '소변', '거품', '몸', '부종', '귀', '정형외과', '교수', '전신', '부종', 'moon', 'face', 'r', 'o', 'cushing', 'synd', '변량', '물', '소변', '땀', '생쌀', '허리', '통증', '주사', '스테로이드', '주사', '추정', '오늘', 'lmc', '피', '신장', '이상', 'eskd', 'dm', 'nephropathy', 'hd', 'start', '강', '내과', '투석', 'k', 'dw', 'wt', 'gain', 'bp', '중학교', '혈뇨', 'gross', 'hematuria', 'urinary', 'sx', 'cr', 'egfr', 'hba', 'upcr', 'g', 'bp', 'bw', 'ht', 'bmi', 'hd', '내과', 'dwt', '투석', '간', '체중', 'residual', 'urine', 'volume', 'serum', 'k', 'serum', '조절', 'kidney', 'transplantation', 'hx', 'transfusion', 'hx', 'infection', 'hx', 'medication', 'aspirin', 'plavix', 'medication', 'viral', 'hepatitis', 'hbv', 'hcv', 'other', 'psoriatic', 'arthropathies', 'other', 'l', '병명', '통원', 'lab', 'cr', 'urine', 'glucose', 'cr', 'egfr', '수치', 'egfr', '수치', '감소', 'management', 'evaluation', 'derma', 'prof', '배상', '소변', '부종', '호흡', '곤란', 'atherosclerosis', 'arteries', 'extremities', 'with', 'gangrene', 'as', 'aiod', 'lt', 'leg', 'endarterectomy', 'with', 'bovine', 'patch', 'angioplasty', 'deia', 'psfa', 'lt', 'balloon', 'angioplasty', 'sfa', 'pap', 'dcb', 'mm', 'lt', 'as', 'aiod', 'gang', 'rt', 'r', 'o', 'ilio', 'femoral', 'steno', 'occlusion', 'abi', 'ppg', 'nearly', 'flat', 'lisfranc', 's', 'amputation', 'os', 'bk', 'amputation', 'rt', 'leg', 'os', 'adhf', 'pulmonary', 'edema', 'aspirin', 'plavix', 'lipitor', 'htn', 'dm', 'old', 'cva', '뇌출혈', '정확', '치', 'spinal', 'stenosis', 'lamino', 'plasty', 'ckd', 'gr', 'dm', 'htn', '수술', '경과', '양호', '퇴원', 'ckd', 'lmc', 'medication', 'lab', 'serum', 'bun', 'cr', 'elevation', '퇴원', 'medication', 'ckd', 'evaluation', 'management', '오늘', '피', '소변', '요독증', '부종', 'cr', 'egfr', 'cerebral', 'infarction', '단백뇨', '귀', 'dm', 'vt', 'ami', 'icd', 'vr', 'boston', 'ef', 'ef', 'ef', 'ihd', 'af', 'paroxysmal', 'chads', 'vasc', 'age', 'hf', 'mi', 'ccr', 'dyslipidemia', 'meningioma', '세브란스', 'cr', 'egfr', 'cr', 'egfr', 'ob', 'ckd', 'lmc', 'im', 'n', 'lmc', 'nect', 'sized', 'rt', 'complete', 'staghorn', 'stone', 'preop', 'manage', '원', 'cva', 'fib', 'dm', 'hypertg', 'current', 'smoker', 'py', 'hyperthyroidism', 'bladder', 'ca', 's', 'p', 'op', 'crcl', 'ml', 'min', 'cr', 'hba', 'tc', 'ldl', 'tg', 'tte', 'la', 'ef', 'rwma', 'lv', 'saline', 'bubble', '병명', '입원', '입원', 'cr', 'elevation', 'voiding', '문제', '고려', 'ckd', 'evaluation', 'management', '고혈압', '항고', '혈압', '제', '복용', '형', 'esrd', '투석', '이식', '이식', '기증', 'no', 'urinary', 'sx', '요', '대장', 'hd', '아메', '디', 'dwt', '투석', '간', '체중', 'residual', 'urine', 'volume', '컵', 'serum', 'k', 'serum', '조절', 'kidney', 'transplantation', 'hx', 'transfusion', 'hx', 'infection', 'hx', 'medication', '레날', '민정', '훼로바유', '아토', '정', '스타', '정', '제', '글', '정', '인', '벨라', '정', 'viral', 'hepatitis', 'hbv', 'hcv', 'hd', '당신', '내과', 'dwt', '투석', '간', '체중', 'residual', 'urine', 'volume', 'serum', 'k', 'serum', '조절', 'kidney', 'transplantation', 'hx', 'transfusion', 'hx', 'pregnancy', '여자', 'infection', 'hx', 'medication', '데', '정', '실로', '스탄', '알정', '토르', '바스타', '틴정', '레날', '민정', '훼로바유', '타스', '페', '브릭', '토렘', '세레', '브', '렉스', 'viral', 'hepatitis', 'hbv', 'hcv', 'esrd', '원인']\n",
            "               count\n",
            "words               \n",
            "cr               203\n",
            "egfr             145\n",
            "htn               72\n",
            "bp                62\n",
            "수술                61\n",
            "...              ...\n",
            "pms                1\n",
            "pn                 1\n",
            "poba               1\n",
            "podocytopathy      1\n",
            "spondylosis        1\n",
            "\n",
            "[1494 rows x 1 columns]\n"
          ]
        }
      ]
    },
    {
      "cell_type": "markdown",
      "source": [
        "\n",
        "\n",
        "---\n",
        "\n"
      ],
      "metadata": {
        "id": "IbtUqWprPXLm"
      }
    },
    {
      "cell_type": "markdown",
      "source": [
        "🧪 TF-IDF"
      ],
      "metadata": {
        "id": "A51YskofIb92"
      }
    },
    {
      "cell_type": "code",
      "source": [
        "import pandas as pd\n",
        "\n",
        "file_path = '/content/[샘플]외래초진_신장내과_20240101_20240110_자료검토.xlsx'\n",
        "selected_columns = ['DIAGCD', 'TERMHNGNM', 'PI']\n",
        "data = pd.read_excel(file_path, usecols=selected_columns)\n",
        "data.head()"
      ],
      "metadata": {
        "id": "d90opmas_cM3",
        "colab": {
          "base_uri": "https://localhost:8080/",
          "height": 206
        },
        "outputId": "13a4ea66-f3b6-4121-f72e-1c287a4a8699"
      },
      "execution_count": null,
      "outputs": [
        {
          "output_type": "execute_result",
          "data": {
            "text/plain": [
              "        DIAGCD      TERMHNGNM  \\\n",
              "0  R318.001.00  기타 및 상세불명의 혈뇨   \n",
              "1  R829.005.00       요 분석의 이상   \n",
              "2  N182.001.00    만성 신장질환(2기)   \n",
              "3  N183.001.00    만성 신장질환(3기)   \n",
              "4  N183.001.00    만성 신장질환(3기)   \n",
              "\n",
              "                                                  PI  \n",
              "0  상기 환자는 진단명[Sudden hearing loss NOS, Unilateral...  \n",
              "1  상기 환자는 진단명[Kidney, cyst, complicated](으)로 현재 치...  \n",
              "2  # HTN (2019.)_x000D_\\n# Ankylosing spondylitis...  \n",
              "3  140/93/77_x000D_\\n요증상(-), edema(-), 요독증상(-), D...  \n",
              "4  # HTN (약 5년 전부터 혈압 높은 경향)_x000D_\\n# TIA_x000D_...  "
            ],
            "text/html": [
              "\n",
              "  <div id=\"df-5e5b074e-59ec-4d81-93f3-9afcc85a0e24\" class=\"colab-df-container\">\n",
              "    <div>\n",
              "<style scoped>\n",
              "    .dataframe tbody tr th:only-of-type {\n",
              "        vertical-align: middle;\n",
              "    }\n",
              "\n",
              "    .dataframe tbody tr th {\n",
              "        vertical-align: top;\n",
              "    }\n",
              "\n",
              "    .dataframe thead th {\n",
              "        text-align: right;\n",
              "    }\n",
              "</style>\n",
              "<table border=\"1\" class=\"dataframe\">\n",
              "  <thead>\n",
              "    <tr style=\"text-align: right;\">\n",
              "      <th></th>\n",
              "      <th>DIAGCD</th>\n",
              "      <th>TERMHNGNM</th>\n",
              "      <th>PI</th>\n",
              "    </tr>\n",
              "  </thead>\n",
              "  <tbody>\n",
              "    <tr>\n",
              "      <th>0</th>\n",
              "      <td>R318.001.00</td>\n",
              "      <td>기타 및 상세불명의 혈뇨</td>\n",
              "      <td>상기 환자는 진단명[Sudden hearing loss NOS, Unilateral...</td>\n",
              "    </tr>\n",
              "    <tr>\n",
              "      <th>1</th>\n",
              "      <td>R829.005.00</td>\n",
              "      <td>요 분석의 이상</td>\n",
              "      <td>상기 환자는 진단명[Kidney, cyst, complicated](으)로 현재 치...</td>\n",
              "    </tr>\n",
              "    <tr>\n",
              "      <th>2</th>\n",
              "      <td>N182.001.00</td>\n",
              "      <td>만성 신장질환(2기)</td>\n",
              "      <td># HTN (2019.)_x000D_\\n# Ankylosing spondylitis...</td>\n",
              "    </tr>\n",
              "    <tr>\n",
              "      <th>3</th>\n",
              "      <td>N183.001.00</td>\n",
              "      <td>만성 신장질환(3기)</td>\n",
              "      <td>140/93/77_x000D_\\n요증상(-), edema(-), 요독증상(-), D...</td>\n",
              "    </tr>\n",
              "    <tr>\n",
              "      <th>4</th>\n",
              "      <td>N183.001.00</td>\n",
              "      <td>만성 신장질환(3기)</td>\n",
              "      <td># HTN (약 5년 전부터 혈압 높은 경향)_x000D_\\n# TIA_x000D_...</td>\n",
              "    </tr>\n",
              "  </tbody>\n",
              "</table>\n",
              "</div>\n",
              "    <div class=\"colab-df-buttons\">\n",
              "\n",
              "  <div class=\"colab-df-container\">\n",
              "    <button class=\"colab-df-convert\" onclick=\"convertToInteractive('df-5e5b074e-59ec-4d81-93f3-9afcc85a0e24')\"\n",
              "            title=\"Convert this dataframe to an interactive table.\"\n",
              "            style=\"display:none;\">\n",
              "\n",
              "  <svg xmlns=\"http://www.w3.org/2000/svg\" height=\"24px\" viewBox=\"0 -960 960 960\">\n",
              "    <path d=\"M120-120v-720h720v720H120Zm60-500h600v-160H180v160Zm220 220h160v-160H400v160Zm0 220h160v-160H400v160ZM180-400h160v-160H180v160Zm440 0h160v-160H620v160ZM180-180h160v-160H180v160Zm440 0h160v-160H620v160Z\"/>\n",
              "  </svg>\n",
              "    </button>\n",
              "\n",
              "  <style>\n",
              "    .colab-df-container {\n",
              "      display:flex;\n",
              "      gap: 12px;\n",
              "    }\n",
              "\n",
              "    .colab-df-convert {\n",
              "      background-color: #E8F0FE;\n",
              "      border: none;\n",
              "      border-radius: 50%;\n",
              "      cursor: pointer;\n",
              "      display: none;\n",
              "      fill: #1967D2;\n",
              "      height: 32px;\n",
              "      padding: 0 0 0 0;\n",
              "      width: 32px;\n",
              "    }\n",
              "\n",
              "    .colab-df-convert:hover {\n",
              "      background-color: #E2EBFA;\n",
              "      box-shadow: 0px 1px 2px rgba(60, 64, 67, 0.3), 0px 1px 3px 1px rgba(60, 64, 67, 0.15);\n",
              "      fill: #174EA6;\n",
              "    }\n",
              "\n",
              "    .colab-df-buttons div {\n",
              "      margin-bottom: 4px;\n",
              "    }\n",
              "\n",
              "    [theme=dark] .colab-df-convert {\n",
              "      background-color: #3B4455;\n",
              "      fill: #D2E3FC;\n",
              "    }\n",
              "\n",
              "    [theme=dark] .colab-df-convert:hover {\n",
              "      background-color: #434B5C;\n",
              "      box-shadow: 0px 1px 3px 1px rgba(0, 0, 0, 0.15);\n",
              "      filter: drop-shadow(0px 1px 2px rgba(0, 0, 0, 0.3));\n",
              "      fill: #FFFFFF;\n",
              "    }\n",
              "  </style>\n",
              "\n",
              "    <script>\n",
              "      const buttonEl =\n",
              "        document.querySelector('#df-5e5b074e-59ec-4d81-93f3-9afcc85a0e24 button.colab-df-convert');\n",
              "      buttonEl.style.display =\n",
              "        google.colab.kernel.accessAllowed ? 'block' : 'none';\n",
              "\n",
              "      async function convertToInteractive(key) {\n",
              "        const element = document.querySelector('#df-5e5b074e-59ec-4d81-93f3-9afcc85a0e24');\n",
              "        const dataTable =\n",
              "          await google.colab.kernel.invokeFunction('convertToInteractive',\n",
              "                                                    [key], {});\n",
              "        if (!dataTable) return;\n",
              "\n",
              "        const docLinkHtml = 'Like what you see? Visit the ' +\n",
              "          '<a target=\"_blank\" href=https://colab.research.google.com/notebooks/data_table.ipynb>data table notebook</a>'\n",
              "          + ' to learn more about interactive tables.';\n",
              "        element.innerHTML = '';\n",
              "        dataTable['output_type'] = 'display_data';\n",
              "        await google.colab.output.renderOutput(dataTable, element);\n",
              "        const docLink = document.createElement('div');\n",
              "        docLink.innerHTML = docLinkHtml;\n",
              "        element.appendChild(docLink);\n",
              "      }\n",
              "    </script>\n",
              "  </div>\n",
              "\n",
              "\n",
              "<div id=\"df-e82beebf-60d4-4b05-908f-90eb774822f4\">\n",
              "  <button class=\"colab-df-quickchart\" onclick=\"quickchart('df-e82beebf-60d4-4b05-908f-90eb774822f4')\"\n",
              "            title=\"Suggest charts\"\n",
              "            style=\"display:none;\">\n",
              "\n",
              "<svg xmlns=\"http://www.w3.org/2000/svg\" height=\"24px\"viewBox=\"0 0 24 24\"\n",
              "     width=\"24px\">\n",
              "    <g>\n",
              "        <path d=\"M19 3H5c-1.1 0-2 .9-2 2v14c0 1.1.9 2 2 2h14c1.1 0 2-.9 2-2V5c0-1.1-.9-2-2-2zM9 17H7v-7h2v7zm4 0h-2V7h2v10zm4 0h-2v-4h2v4z\"/>\n",
              "    </g>\n",
              "</svg>\n",
              "  </button>\n",
              "\n",
              "<style>\n",
              "  .colab-df-quickchart {\n",
              "      --bg-color: #E8F0FE;\n",
              "      --fill-color: #1967D2;\n",
              "      --hover-bg-color: #E2EBFA;\n",
              "      --hover-fill-color: #174EA6;\n",
              "      --disabled-fill-color: #AAA;\n",
              "      --disabled-bg-color: #DDD;\n",
              "  }\n",
              "\n",
              "  [theme=dark] .colab-df-quickchart {\n",
              "      --bg-color: #3B4455;\n",
              "      --fill-color: #D2E3FC;\n",
              "      --hover-bg-color: #434B5C;\n",
              "      --hover-fill-color: #FFFFFF;\n",
              "      --disabled-bg-color: #3B4455;\n",
              "      --disabled-fill-color: #666;\n",
              "  }\n",
              "\n",
              "  .colab-df-quickchart {\n",
              "    background-color: var(--bg-color);\n",
              "    border: none;\n",
              "    border-radius: 50%;\n",
              "    cursor: pointer;\n",
              "    display: none;\n",
              "    fill: var(--fill-color);\n",
              "    height: 32px;\n",
              "    padding: 0;\n",
              "    width: 32px;\n",
              "  }\n",
              "\n",
              "  .colab-df-quickchart:hover {\n",
              "    background-color: var(--hover-bg-color);\n",
              "    box-shadow: 0 1px 2px rgba(60, 64, 67, 0.3), 0 1px 3px 1px rgba(60, 64, 67, 0.15);\n",
              "    fill: var(--button-hover-fill-color);\n",
              "  }\n",
              "\n",
              "  .colab-df-quickchart-complete:disabled,\n",
              "  .colab-df-quickchart-complete:disabled:hover {\n",
              "    background-color: var(--disabled-bg-color);\n",
              "    fill: var(--disabled-fill-color);\n",
              "    box-shadow: none;\n",
              "  }\n",
              "\n",
              "  .colab-df-spinner {\n",
              "    border: 2px solid var(--fill-color);\n",
              "    border-color: transparent;\n",
              "    border-bottom-color: var(--fill-color);\n",
              "    animation:\n",
              "      spin 1s steps(1) infinite;\n",
              "  }\n",
              "\n",
              "  @keyframes spin {\n",
              "    0% {\n",
              "      border-color: transparent;\n",
              "      border-bottom-color: var(--fill-color);\n",
              "      border-left-color: var(--fill-color);\n",
              "    }\n",
              "    20% {\n",
              "      border-color: transparent;\n",
              "      border-left-color: var(--fill-color);\n",
              "      border-top-color: var(--fill-color);\n",
              "    }\n",
              "    30% {\n",
              "      border-color: transparent;\n",
              "      border-left-color: var(--fill-color);\n",
              "      border-top-color: var(--fill-color);\n",
              "      border-right-color: var(--fill-color);\n",
              "    }\n",
              "    40% {\n",
              "      border-color: transparent;\n",
              "      border-right-color: var(--fill-color);\n",
              "      border-top-color: var(--fill-color);\n",
              "    }\n",
              "    60% {\n",
              "      border-color: transparent;\n",
              "      border-right-color: var(--fill-color);\n",
              "    }\n",
              "    80% {\n",
              "      border-color: transparent;\n",
              "      border-right-color: var(--fill-color);\n",
              "      border-bottom-color: var(--fill-color);\n",
              "    }\n",
              "    90% {\n",
              "      border-color: transparent;\n",
              "      border-bottom-color: var(--fill-color);\n",
              "    }\n",
              "  }\n",
              "</style>\n",
              "\n",
              "  <script>\n",
              "    async function quickchart(key) {\n",
              "      const quickchartButtonEl =\n",
              "        document.querySelector('#' + key + ' button');\n",
              "      quickchartButtonEl.disabled = true;  // To prevent multiple clicks.\n",
              "      quickchartButtonEl.classList.add('colab-df-spinner');\n",
              "      try {\n",
              "        const charts = await google.colab.kernel.invokeFunction(\n",
              "            'suggestCharts', [key], {});\n",
              "      } catch (error) {\n",
              "        console.error('Error during call to suggestCharts:', error);\n",
              "      }\n",
              "      quickchartButtonEl.classList.remove('colab-df-spinner');\n",
              "      quickchartButtonEl.classList.add('colab-df-quickchart-complete');\n",
              "    }\n",
              "    (() => {\n",
              "      let quickchartButtonEl =\n",
              "        document.querySelector('#df-e82beebf-60d4-4b05-908f-90eb774822f4 button');\n",
              "      quickchartButtonEl.style.display =\n",
              "        google.colab.kernel.accessAllowed ? 'block' : 'none';\n",
              "    })();\n",
              "  </script>\n",
              "</div>\n",
              "\n",
              "    </div>\n",
              "  </div>\n"
            ],
            "application/vnd.google.colaboratory.intrinsic+json": {
              "type": "dataframe",
              "variable_name": "data",
              "summary": "{\n  \"name\": \"data\",\n  \"rows\": 297,\n  \"fields\": [\n    {\n      \"column\": \"DIAGCD\",\n      \"properties\": {\n        \"dtype\": \"category\",\n        \"num_unique_values\": 47,\n        \"samples\": [\n          \"N059.002.00\",\n          \"I871.007.00\",\n          \"N059.001.00\"\n        ],\n        \"semantic_type\": \"\",\n        \"description\": \"\"\n      }\n    },\n    {\n      \"column\": \"TERMHNGNM\",\n      \"properties\": {\n        \"dtype\": \"category\",\n        \"num_unique_values\": 46,\n        \"samples\": [\n          \"\\ub11b\\ud06c\\ub798\\ucee4 \\uc99d\\ud6c4\\uad70\",\n          \"\\ub9cc\\uc131 \\uc2e0\\uc7a5\\uc9c8\\ud658(5\\uae30)\",\n          \"\\uc0c1\\uc138\\ubd88\\uba85\\uc758 \\uc0ac\\uad6c\\uccb4\\ubcd1\"\n        ],\n        \"semantic_type\": \"\",\n        \"description\": \"\"\n      }\n    },\n    {\n      \"column\": \"PI\",\n      \"properties\": {\n        \"dtype\": \"string\",\n        \"num_unique_values\": 294,\n        \"samples\": [\n          \"left leg swelling\\uc73c\\ub85c \\uc2dc\\ud589\\ud55c _x000D_\\n5\\ub144 \\uc804\\ubd80\\ud130 \\uace0\\ud608\\uc555 \\uc57d \\ubcf5\\uc6a9 \\uc911\\uc784_x000D_\\n2023.12.29 Cr 0.63, eGFR 133_x000D_\\n_x000D_\\nBP 130/73/93\",\n          \"2013\\ub144 nephrotic syndrome MN \\uc73c\\ub85c \\uc9c4\\ub2e8\\ubc1b\\uace0 (\\ud3ec\\ud56d\\uc131\\ubaa8\\ubcd1\\uc6d0 \\uc2e0\\uc870\\uc9c1\\uac80\\uc0ac :  MGN II ~ III)_x000D_\\ncyclosporine \\ubcf5\\uc6a9 \\ud6c4 PR state \\ub85c \\uc57d\\uc81c \\ubcf5\\uc6a9 \\uc911\\ub2e8 \\ud6c4_x000D_\\n\\uc7ac\\ubc1c \\ub418\\uc5b4 \\uc758\\ub8b0\\ub428_x000D_\\n_x000D_\\n2018.~ 2019\\ub144 Cipol 1\\ucc28 \\uce58\\ub8cc_x000D_\\n2022/9 ~ 2023.5  cipol 2\\ucc28 \\uce58\\ub8cc_x000D_\\nantiPLAR-Ab (+)_x000D_\\n_x000D_\\n2023/11 \\uc774\\ud6c4 cipol \\uc4f0\\uba74\\uc11c 2023/120 uPCR 1.7 _x000D_\\n_x000D_\\n\\ubd80\\uc885 \\uc5c6\\uc74c_x000D_\\n\\uac00\\ub054 \\ud558\\uc9c0\\uc5d0 \\uadfc\\uc721\\uacbd\\ub828 \\uc788\\uc5c8\\uc73c\\ub098 \\ud604\\uc7ac \\ud638\\uc804\\ub428_x000D_\\n_x000D_\\n\",\n          \"Cutaneous small vessel vasculitis, R/O HSP\\ub85c \\ud53c\\ubd80\\uacfc \\uc9c4\\ub8cc_x000D_\\nU/A P 1+ OB 1+ R/W 11-20/6-10_\\uc0dd\\ub9ac \\uc9c1\\ud6c4 \\uac80\\uc0ac_x000D_\\n\\uc774\\uc804 \\uac80\\uc9c4\\uc5d0\\uc11c \\uc694 \\uac80\\uc0ac \\uc774\\uc0c1 \\ub4e4\\uc740 \\uc801 \\uc5c6\\uc74c.\"\n        ],\n        \"semantic_type\": \"\",\n        \"description\": \"\"\n      }\n    }\n  ]\n}"
            }
          },
          "metadata": {},
          "execution_count": 25
        }
      ]
    },
    {
      "cell_type": "code",
      "source": [
        "# 컬럼 확인\n",
        "data.columns"
      ],
      "metadata": {
        "id": "980_r3wc_cPW",
        "colab": {
          "base_uri": "https://localhost:8080/"
        },
        "outputId": "d0d50c70-6e52-4a17-ceed-8cfba43f810a"
      },
      "execution_count": null,
      "outputs": [
        {
          "output_type": "execute_result",
          "data": {
            "text/plain": [
              "Index(['DIAGCD', 'TERMHNGNM', 'PI'], dtype='object')"
            ]
          },
          "metadata": {},
          "execution_count": 26
        }
      ]
    },
    {
      "cell_type": "code",
      "source": [
        "# 전처리\n",
        "# PI의 결측치가 있는 항목은 모두 제거\n",
        "data = data[data['PI'].notnull()].reset_index(drop=True)\n",
        "data.shape"
      ],
      "metadata": {
        "id": "mREmmlw-_cSa",
        "colab": {
          "base_uri": "https://localhost:8080/"
        },
        "outputId": "b7a30192-610f-4597-df65-d5abce63e115"
      },
      "execution_count": null,
      "outputs": [
        {
          "output_type": "execute_result",
          "data": {
            "text/plain": [
              "(297, 3)"
            ]
          },
          "metadata": {},
          "execution_count": 27
        }
      ]
    },
    {
      "cell_type": "code",
      "source": [
        "!pip install konlpy"
      ],
      "metadata": {
        "id": "nTFP1h4r_cW_",
        "colab": {
          "base_uri": "https://localhost:8080/"
        },
        "outputId": "2771835c-fe41-4ab4-b21b-ec226f9f9f05"
      },
      "execution_count": null,
      "outputs": [
        {
          "output_type": "stream",
          "name": "stdout",
          "text": [
            "Requirement already satisfied: konlpy in /usr/local/lib/python3.10/dist-packages (0.6.0)\n",
            "Requirement already satisfied: JPype1>=0.7.0 in /usr/local/lib/python3.10/dist-packages (from konlpy) (1.5.0)\n",
            "Requirement already satisfied: lxml>=4.1.0 in /usr/local/lib/python3.10/dist-packages (from konlpy) (4.9.4)\n",
            "Requirement already satisfied: numpy>=1.6 in /usr/local/lib/python3.10/dist-packages (from konlpy) (1.25.2)\n",
            "Requirement already satisfied: packaging in /usr/local/lib/python3.10/dist-packages (from JPype1>=0.7.0->konlpy) (24.0)\n"
          ]
        }
      ]
    },
    {
      "cell_type": "code",
      "source": [
        "from konlpy.tag import Okt\n",
        "# konlpy의 Okt 클래스를 사용하여 토큰화하는 함수 정의\n",
        "def okt_tokenizer(text):\n",
        "  okt = Okt()\n",
        "  tokens = okt.pos(text)  # 품사 태깅 수행\n",
        "  # 명사(Noun) 및 영어 알파벳(Alpha)만 추출하여 리스트에 저장\n",
        "  selected_tokens = [word for word, pos in tokens if pos in ['Noun', 'Alpha']]\n",
        "  return selected_tokens"
      ],
      "metadata": {
        "id": "-QIPIk_m_cZG"
      },
      "execution_count": null,
      "outputs": []
    },
    {
      "cell_type": "code",
      "source": [
        "sw_path = '/content/project-emr2kcd-dataset/stopwords.xlsx'\n",
        "sw_df = pd.read_excel(sw_path)\n",
        "for i in range(len(sw_df)) :\n",
        "  stop_words = sw_df['stop words'].tolist()"
      ],
      "metadata": {
        "id": "vqSrbf--_cdu"
      },
      "execution_count": null,
      "outputs": []
    },
    {
      "cell_type": "code",
      "source": [
        "from sklearn.feature_extraction.text import TfidfVectorizer\n",
        "\n",
        "tfidf = TfidfVectorizer(tokenizer=okt_tokenizer, stop_words=stop_words, max_features=1000)\n",
        "\n",
        "# PI에 대해서 tf-idf 수행\n",
        "tfidf_matrix = tfidf.fit_transform(data['PI'])\n",
        "tfidf_matrix.shape"
      ],
      "metadata": {
        "id": "HQcGXkFn_cf9",
        "colab": {
          "base_uri": "https://localhost:8080/"
        },
        "outputId": "662f9a54-3681-4ab6-f0df-78bc31e1bd6c"
      },
      "execution_count": null,
      "outputs": [
        {
          "output_type": "stream",
          "name": "stderr",
          "text": [
            "/usr/local/lib/python3.10/dist-packages/sklearn/feature_extraction/text.py:528: UserWarning: The parameter 'token_pattern' will not be used since 'tokenizer' is not None'\n",
            "  warnings.warn(\n",
            "/usr/local/lib/python3.10/dist-packages/sklearn/feature_extraction/text.py:409: UserWarning: Your stop_words may be inconsistent with your preprocessing. Tokenizing the stop words generated tokens ['a', 'b', 'g', 'm', 'p', 'r', '곽', '박경', '성은', '실', '입원', '효'] not in stop_words.\n",
            "  warnings.warn(\n"
          ]
        },
        {
          "output_type": "execute_result",
          "data": {
            "text/plain": [
              "(297, 1000)"
            ]
          },
          "metadata": {},
          "execution_count": 41
        }
      ]
    },
    {
      "cell_type": "code",
      "source": [
        "from sklearn.metrics.pairwise import cosine_similarity\n",
        "cosine_matrix = cosine_similarity(tfidf_matrix, tfidf_matrix)\n",
        "\n",
        "# 만일 여기서 메모리 에러가 발생한다면, TF-IDF의 파라미터를 수정\n",
        "# tfidf = TfidfVectorizer(stop_words='english', max_features=10000)\n",
        "\n",
        "# 그래도, 안되는 경우에는 문서의 수를 조금 줄여서 실행\n",
        "# data = data.loc[0:10000].reset_index(drop=True)"
      ],
      "metadata": {
        "id": "D-s6H1jV_ciP"
      },
      "execution_count": null,
      "outputs": []
    },
    {
      "cell_type": "code",
      "source": [
        "import numpy as np\n",
        "np.round(cosine_matrix, 4)"
      ],
      "metadata": {
        "id": "3ZWWBqcd_ckY",
        "colab": {
          "base_uri": "https://localhost:8080/"
        },
        "outputId": "326be67e-1822-4a80-846f-ebff2c369262"
      },
      "execution_count": null,
      "outputs": [
        {
          "output_type": "execute_result",
          "data": {
            "text/plain": [
              "array([[1.    , 0.5862, 0.0098, ..., 0.    , 0.0116, 0.0268],\n",
              "       [0.5862, 1.    , 0.0461, ..., 0.    , 0.0248, 0.0258],\n",
              "       [0.0098, 0.0461, 1.    , ..., 0.0295, 0.0126, 0.0131],\n",
              "       ...,\n",
              "       [0.    , 0.    , 0.0295, ..., 1.    , 0.0492, 0.055 ],\n",
              "       [0.0116, 0.0248, 0.0126, ..., 0.0492, 1.    , 0.5727],\n",
              "       [0.0268, 0.0258, 0.0131, ..., 0.055 , 0.5727, 1.    ]])"
            ]
          },
          "metadata": {},
          "execution_count": 43
        }
      ]
    },
    {
      "cell_type": "code",
      "source": [
        "# id와 DIAGCD를 매핑할 dictionary를 생성\n",
        "id2diagcd = {}\n",
        "for i, c in enumerate(data['DIAGCD']):\n",
        "  id2diagcd[i] = c\n",
        "\n",
        "len(id2diagcd)"
      ],
      "metadata": {
        "id": "SOmGkC2X_clt",
        "colab": {
          "base_uri": "https://localhost:8080/"
        },
        "outputId": "072c8200-02cf-48cd-dab8-55c136e15e6f"
      },
      "execution_count": null,
      "outputs": [
        {
          "output_type": "execute_result",
          "data": {
            "text/plain": [
              "297"
            ]
          },
          "metadata": {},
          "execution_count": 44
        }
      ]
    },
    {
      "cell_type": "code",
      "source": [
        "# id2diagcd\n",
        "for i, (id, diagcd) in enumerate(id2diagcd.items()):\n",
        "  print(f\"id: {id}, diagcd: {diagcd}\")\n",
        "  # Break the loop after printing the first 11 items (0 to 10)\n",
        "  if i == 9:\n",
        "    break"
      ],
      "metadata": {
        "id": "dTOXUyyyB5Xc",
        "colab": {
          "base_uri": "https://localhost:8080/"
        },
        "outputId": "13c95a59-4fc5-4f07-e50f-859fce166785"
      },
      "execution_count": null,
      "outputs": [
        {
          "output_type": "stream",
          "name": "stdout",
          "text": [
            "id: 0, diagcd: R318.001.00\n",
            "id: 1, diagcd: R829.005.00\n",
            "id: 2, diagcd: N182.001.00\n",
            "id: 3, diagcd: N183.001.00\n",
            "id: 4, diagcd: N183.001.00\n",
            "id: 5, diagcd: N183.001.00\n",
            "id: 6, diagcd: Z524.000.01\n",
            "id: 7, diagcd: N391.000.01\n",
            "id: 8, diagcd: N391.000.01\n",
            "id: 9, diagcd: N049.000.00\n"
          ]
        }
      ]
    },
    {
      "cell_type": "code",
      "source": [
        "# DIAGCD와 id를 매핑할 dictionary를 생성\n",
        "diagcd2id= {}\n",
        "for i, c in id2diagcd.items(): diagcd2id[c] = i\n",
        "len(diagcd2id)"
      ],
      "metadata": {
        "id": "s65SrSdYB5Qk",
        "colab": {
          "base_uri": "https://localhost:8080/"
        },
        "outputId": "9c9940a3-2a3a-4377-bf9e-0d512ad06a30"
      },
      "execution_count": null,
      "outputs": [
        {
          "output_type": "execute_result",
          "data": {
            "text/plain": [
              "47"
            ]
          },
          "metadata": {},
          "execution_count": 46
        }
      ]
    },
    {
      "cell_type": "code",
      "source": [
        "# diagcd2id\n",
        "for i, (diagcd, id) in enumerate(diagcd2id.items()):\n",
        "  print(f\"diagcd: {diagcd}, id: {id}\")\n",
        "  # Break the loop after printing the first 10 items\n",
        "  if i == 9:\n",
        "      break"
      ],
      "metadata": {
        "id": "-EScEXneB5aU",
        "colab": {
          "base_uri": "https://localhost:8080/"
        },
        "outputId": "747d5350-4003-4972-b93e-1c7935e7ed0e"
      },
      "execution_count": null,
      "outputs": [
        {
          "output_type": "stream",
          "name": "stdout",
          "text": [
            "diagcd: R318.001.00, id: 0\n",
            "diagcd: R829.005.00, id: 147\n",
            "diagcd: N182.001.00, id: 259\n",
            "diagcd: N183.001.00, id: 292\n",
            "diagcd: Z524.000.01, id: 294\n",
            "diagcd: N391.000.01, id: 290\n",
            "diagcd: N049.000.00, id: 230\n",
            "diagcd: N185.007.00, id: 296\n",
            "diagcd: N178.011.00, id: 256\n",
            "diagcd: N029.000.01, id: 284\n"
          ]
        }
      ]
    },
    {
      "cell_type": "code",
      "source": [
        "# id와 PI를 매핑할 dictionary\n",
        "id2pi = {}\n",
        "for i, c in enumerate(data['PI']): id2pi[i] = c"
      ],
      "metadata": {
        "id": "eIXT3HMyN4PT"
      },
      "execution_count": null,
      "outputs": []
    },
    {
      "cell_type": "code",
      "source": [],
      "metadata": {
        "id": "pK4rMGgxMzSV"
      },
      "execution_count": null,
      "outputs": []
    },
    {
      "cell_type": "code",
      "source": [
        "def kcd_recommned(input) :\n",
        "  okt = Okt()\n",
        "  tokens = okt.pos(input)  # 품사 태깅 수행\n",
        "  # 명사(Noun) 및 영어 알파벳(Alpha)만 추출하여 리스트에 저장\n",
        "  input_data = [word for word, pos in tokens if pos in ['Noun', 'Alpha'] and word not in stop_words]\n",
        "\n",
        "  query_sm = tfidf.transform(input_data)\n",
        "  query_sm_arr = query_sm.toarray()\n",
        "\n",
        "  sim = cosine_similarity(query_sm_arr, tfidf_matrix.toarray())\n",
        "  sim = sim.reshape(297)\n",
        "\n",
        "  sim_idx = sim.argsort()[::-1]\n",
        "\n",
        "  for idx in sim_idx[:5] :\n",
        "    print(f'{id2diagcd[idx]} ({sim[idx]}) id:{idx}')\n",
        "\n",
        "kcd_recommned(input(\"search query input : \"))"
      ],
      "metadata": {
        "id": "YwhGwtDNMzHh"
      },
      "execution_count": null,
      "outputs": []
    },
    {
      "cell_type": "markdown",
      "source": [
        "\n",
        "\n",
        "---\n",
        "\n"
      ],
      "metadata": {
        "id": "hw7g8vI9PcJ9"
      }
    },
    {
      "cell_type": "markdown",
      "source": [
        "🧪 Doc2Vec"
      ],
      "metadata": {
        "id": "7MdUoYTVIN0X"
      }
    },
    {
      "cell_type": "code",
      "source": [
        "import warnings\n",
        "warnings.filterwarnings(action='ignore')"
      ],
      "metadata": {
        "id": "QD-bqcmICt02"
      },
      "execution_count": null,
      "outputs": []
    },
    {
      "cell_type": "code",
      "source": [
        "import pandas as pd\n",
        "from gensim.models.doc2vec import Doc2Vec, TaggedDocument\n",
        "from sklearn.metrics.pairwise import cosine_similarity"
      ],
      "metadata": {
        "id": "gITWYYTmCtzF"
      },
      "execution_count": null,
      "outputs": []
    },
    {
      "cell_type": "code",
      "source": [
        "!pip install konlpy"
      ],
      "metadata": {
        "id": "UKFGhJ73DhMe"
      },
      "execution_count": null,
      "outputs": []
    },
    {
      "cell_type": "code",
      "source": [
        "# stopwords 및 library에 추가할 단어 목록이 저장된 git storage 복사\n",
        "!git clone https://github.com/rkiee/project-emr2kcd-dataset.git"
      ],
      "metadata": {
        "id": "2fmGxxxqfKqa"
      },
      "execution_count": null,
      "outputs": []
    },
    {
      "cell_type": "code",
      "source": [
        "# okt library에 단어 추가\n",
        "# 패키지에 설치된 java 경로에 jar파일 압축 풀기\n",
        "import os\n",
        "\n",
        "# print(os.getcwd())\n",
        "os.chdir('/usr/local/lib/python3.10/dist-packages/konlpy/java')\n",
        "# extract file\n",
        "!jar xvf open-korean-text-2.1.0.jar"
      ],
      "metadata": {
        "id": "VF3aXREQItXr"
      },
      "execution_count": null,
      "outputs": []
    },
    {
      "cell_type": "code",
      "source": [
        "# nouns update\n",
        "# okt lib의 noun/nouns.txt의 단어 목록 로드\n",
        "nouns_path = '/usr/local/lib/python3.10/dist-packages/konlpy/java/org/openkoreantext/processor/util/noun/'\n",
        "nouns_df = []\n",
        "nouns_df = pd.read_csv(os.path.join(nouns_path, \"nouns.txt\"), names = [\"words\"], header = None)\n",
        "\n",
        "# 의약품 단어 목록 추가\n",
        "words_path = '/content/project-emr2kcd-dataset/dictionary_medication.xlsx'\n",
        "selected_columns = ['words']\n",
        "w_df = []\n",
        "w_df = pd.read_excel(words_path, usecols=selected_columns)\n",
        "nouns_df = pd.concat([nouns_df, w_df], ignore_index=True)\n",
        "\n",
        "# 일반 단어 목록 추가\n",
        "words_path = '/content/project-emr2kcd-dataset/dictionary.xlsx'\n",
        "selected_columns = ['words']\n",
        "w_df = []\n",
        "w_df = pd.read_excel(words_path, usecols=selected_columns)\n",
        "nouns_df = pd.concat([nouns_df, w_df], ignore_index=True)\n",
        "\n",
        "# 단어 목록 정렬\n",
        "nouns_df = nouns_df.sort_values(\"words\", ascending=True)\n",
        "\n",
        "# txt 파일 형태로 저장\n",
        "dictionary = ''\n",
        "for i, text in enumerate(nouns_df['words']):\n",
        "    dictionary += text + '\\n'\n",
        "\n",
        "with open(\"/usr/local/lib/python3.10/dist-packages/konlpy/java/org/openkoreantext/processor/util/noun/nouns.txt\", 'w', encoding='utf-8') as f:\n",
        "    f.write(dictionary)"
      ],
      "metadata": {
        "id": "plrCzaG4ItTb"
      },
      "execution_count": null,
      "outputs": []
    },
    {
      "cell_type": "code",
      "source": [
        "# 파일 묶기 : cvf\n",
        "!jar cvf open-korean-text-2.1.0.jar org\n",
        "# os.getcwd()\n",
        "# os.chdir('/usr/local/lib/python3.10/dist-packages/konlpy/java')\n",
        "# remove\n",
        "!rm -r org"
      ],
      "metadata": {
        "id": "Wu8ILn8-Is7Q"
      },
      "execution_count": null,
      "outputs": []
    },
    {
      "cell_type": "code",
      "source": [
        "# emr dataset 로드\n",
        "file_path = '/content/신장내과_본원_외래_20230701_20231231.xlsx'\n",
        "selected_columns = ['ICD10', 'PI']\n",
        "df = pd.read_excel(file_path, usecols=selected_columns)"
      ],
      "metadata": {
        "id": "JOfFdYPNCtxO"
      },
      "execution_count": null,
      "outputs": []
    },
    {
      "cell_type": "code",
      "source": [
        "# stopwords 로드\n",
        "stop_words = []\n",
        "sw_path = '/content/project-emr2kcd-dataset/stopwords.xlsx'\n",
        "sw_df = pd.read_excel(sw_path)\n",
        "for i in range(len(sw_df)):\n",
        "    stop_words = sw_df['stop words'].tolist()"
      ],
      "metadata": {
        "id": "0dxzuniOfR9x"
      },
      "execution_count": null,
      "outputs": []
    },
    {
      "cell_type": "code",
      "source": [
        "from sklearn.model_selection import train_test_split\n",
        "\n",
        "# 학습용, 테스트용, 검증용 데이터 분할\n",
        "X_train, X_test_val = train_test_split(df, test_size=0.3, random_state=42)\n",
        "X_test, X_val = train_test_split(X_test_val, test_size=0.3, random_state=42)\n",
        "\n",
        "# X_train : 학습 데이터 약 679 개 (이전 : 206개)\n",
        "# X_test : 평가 데이터 약 292 개\n",
        "# X_val : 검증(validatioin) 데이터 약 88 개\n",
        "\n",
        "# print(f\"학습용 데이터 갯수: {len(X_train)}\")\n",
        "# print(f\"평가용 데이터 갯수: {len(X_test_val)} (X_test : {len(X_test)} + X_val : {len(X_val)})\")"
      ],
      "metadata": {
        "id": "YAqpBBGWCtuV"
      },
      "execution_count": null,
      "outputs": []
    },
    {
      "cell_type": "code",
      "source": [
        "# print(X_train.PI)"
      ],
      "metadata": {
        "id": "e3unWZhFy1Vn"
      },
      "execution_count": null,
      "outputs": []
    },
    {
      "cell_type": "code",
      "source": [
        "# print(X_test_val.PI)"
      ],
      "metadata": {
        "id": "45wkapGhlTnE"
      },
      "execution_count": null,
      "outputs": []
    },
    {
      "cell_type": "code",
      "source": [
        "from konlpy.tag import Okt\n",
        "okt = Okt()\n",
        "\n",
        "# Doc2Vec 모델 학습을 위해 데이터 포맷 변환 (TaggedDocument 객체 생성)\n",
        "parts = ['Alpha', 'Noun']\n",
        "tagged_data = []\n",
        "\n",
        "for i, text in enumerate(df['PI']):\n",
        "    morphs = okt.pos(text)  # 형태소 분석 결과를 가져옴\n",
        "    filtered_word = []\n",
        "    for morph, part in morphs:\n",
        "        if part in parts and morph not in stop_words:\n",
        "            filtered_word.append(morph)  # 선택한 품사에 해당하면서 불용어가 아닌 단어를 추가\n",
        "    tagged_data.append(TaggedDocument(words=filtered_word, tags=[df.loc[i, 'ICD10']]))\n",
        "\n",
        "# 현병력 형태소 분석 결과 출력\n",
        "# print(tagged_data)"
      ],
      "metadata": {
        "id": "_OVN9rcKQKnM"
      },
      "execution_count": null,
      "outputs": []
    },
    {
      "cell_type": "code",
      "source": [
        "# Doc2Vec 모델 생성 및 학습\n",
        "model = Doc2Vec(vector_size=20, window = 1, min_count=1, epochs=50)\n",
        "# 모델에 문서 집합을 토큰화하여 단어장을 생성\n",
        "model.build_vocab(tagged_data)\n",
        "# 학습\n",
        "model.train(tagged_data, total_examples=model.corpus_count, epochs=model.epochs)"
      ],
      "metadata": {
        "id": "fbNcSyOhCtlm"
      },
      "execution_count": null,
      "outputs": []
    },
    {
      "cell_type": "code",
      "source": [
        "import numpy as np\n",
        "\n",
        "# 각 제목 별 문서 벡터의 평균을 계산\n",
        "title_vectors = {}\n",
        "# 전체 목록을 돌면서\n",
        "# ICD10 값 기준으로 나눔\n",
        "for index, row in df.iterrows():\n",
        "    vector = model.infer_vector(row['PI'].split())\n",
        "    if row['ICD10'] not in title_vectors:\n",
        "        title_vectors[row['ICD10']] = [vector]\n",
        "    else:\n",
        "        title_vectors[row['ICD10']].append(vector)\n",
        "# print(title_vectors)\n",
        "\n",
        "averaged_documents = []\n",
        "for title, vectors in title_vectors.items():\n",
        "    averaged_vector = np.mean(vectors, axis=0)\n",
        "    averaged_documents.append((title, averaged_vector))\n",
        "# print(averaged_documents)\n",
        "\n",
        "# print(len(averaged_documents))\n",
        "\n",
        "# 평균화된 벡터를 사용하여 모델 재학습\n",
        "for title, vector in averaged_documents:\n",
        "    # print(title)\n",
        "    model.dv[title] = vector\n",
        "\n",
        "# 모델 저장\n",
        "model.save(\"/content/d2v.model\")"
      ],
      "metadata": {
        "id": "qAp_CRHUWnNH"
      },
      "execution_count": null,
      "outputs": []
    },
    {
      "cell_type": "code",
      "source": [
        "# 입력된 내용과 유사한 문서 검색\n",
        "input_text = input(\"현병력 입력하세요: \")\n",
        "\n",
        "morphs = okt.pos(input_text)\n",
        "input_tokens = []\n",
        "for morph, pos in morphs:\n",
        "    if pos in parts and morph not in stop_words:\n",
        "        input_tokens.append(morph)\n",
        "\n",
        "print(input_tokens)\n",
        "input_vector = model.infer_vector(input_tokens)\n",
        "\n",
        "similar_documents = model.dv.most_similar([input_vector], topn=5)\n",
        "\n",
        "for title, score in similar_documents:\n",
        "    print(f\"{title} similarity: {score:.3f}\")\n",
        "\n",
        "# for i in range(len(similar_documents)) :\n",
        "#     print(similar_documents[i])"
      ],
      "metadata": {
        "colab": {
          "base_uri": "https://localhost:8080/"
        },
        "id": "EnUQQHoDCth1",
        "outputId": "5165db4e-218d-4fa2-ae1e-a4556d967fd3"
      },
      "execution_count": null,
      "outputs": [
        {
          "output_type": "stream",
          "name": "stdout",
          "text": [
            "현병력 입력하세요: 상기 환자는 진단명[DJD](으)로 현재 치료중인 84세(F)의 환자입니다. 상기 병력 있는 환자로 Rt knee DJD 진단하 Rt TKRA 진행 계획중에 있습니다. 귀과적 병력 없는 분으로, 금번 시행한 pre op lab 상 BUN/Cr/eGFR 38.5/1.84/26 확인되어, 상기 소견 하 본과적 수술시행 전 Perioperative evaluation 및 수술 전후 환자 care & management 위한 귀과적 고견을 여쭙고자 의뢰드리오니 부디 고진선처 부탁드립니다. 감사합니다. =================================== 30년 전부터 CKD 알고 있음. 1/8 수술 예정\n",
            "['DJD', 'Rt', 'knee', 'DJD', 'Rt', 'TKRA', '진행', '계획', '시행', 'pre', 'op', 'lab', 'BUN', 'Cr', 'eGFR', '수술', '시행', 'Perioperative', 'evaluation', '수술', 'care', 'management', 'CKD', '수술', '예정']\n",
            "N184 similarity: 0.973\n",
            "N183 similarity: 0.950\n",
            "E118 similarity: 0.945\n",
            "Q964 similarity: 0.931\n",
            "J358 similarity: 0.930\n"
          ]
        }
      ]
    },
    {
      "cell_type": "code",
      "source": [
        "# input_vector = model.infer_vector(input_tokens)\n",
        "\n",
        "# similar_documents = model.dv.most_similar([input_vector], topn=5)\n",
        "\n",
        "# for title, score in similar_documents:\n",
        "#     print(f\"{title} similarity: {score:.3f}\")"
      ],
      "metadata": {
        "colab": {
          "base_uri": "https://localhost:8080/"
        },
        "id": "q_KazrgfULRk",
        "outputId": "25190241-1a3f-4867-ad49-36f1de8882f6"
      },
      "execution_count": null,
      "outputs": [
        {
          "output_type": "stream",
          "name": "stdout",
          "text": [
            "N184 similarity: 0.971\n",
            "E118 similarity: 0.951\n",
            "N183 similarity: 0.949\n",
            "J358 similarity: 0.934\n",
            "J342 similarity: 0.932\n"
          ]
        }
      ]
    },
    {
      "cell_type": "code",
      "source": [],
      "metadata": {
        "id": "fe2jUTd5UJJC"
      },
      "execution_count": null,
      "outputs": []
    },
    {
      "cell_type": "code",
      "source": [
        "# X_train : 학습 데이터 206\n",
        "# X_test : 평가 데이터 89\n",
        "# X_val : 검증(validatioin) 데이터 27\n",
        "\n",
        "# 검증용 데이터를 사용하여 정확도 측정\n",
        "y_true = [] # 실제값\n",
        "y_pred = [] # 예측값\n",
        "\n",
        "for i, row in X_val.iterrows():\n",
        "    text = row['PI']\n",
        "    morphs = okt.pos(text)\n",
        "    input_tokens = []\n",
        "    for morph, part in morphs:\n",
        "        if part in parts and morph not in stop_words:\n",
        "            input_tokens.append(morph)\n",
        "    # print(input_tokens)\n",
        "\n",
        "    input_vector = model.infer_vector(input_tokens) # 모델에 입력되는 벡터를 추론\n",
        "\n",
        "    # X_train의 각 문서에 대해 입력벡터와의 유사도를 계산\n",
        "    similarities = []\n",
        "    for j, row_train  in X_train.iterrows():\n",
        "        # j번째 문서에 대한 docment vector\n",
        "        document_vector = model.dv[row_train['ICD10']]\n",
        "        # input_vector와 document_vector 사이의 유사도 계산\n",
        "        similarity = cosine_similarity([input_vector], [document_vector])[0][0]\n",
        "        # # 계산된 유사도를 리스트에 추가\n",
        "        similarities.append(similarity)\n",
        "\n",
        "    # 가장 높은 유사도를 가진 doc의 인덱스를 가져온다\n",
        "    predicted_index = np.argmax(similarities)\n",
        "    # print(predicted_index)\n",
        "    # 실제값을 y_true 리스트에 추가하고, 예측값을  y_pred 리스트에 추가\n",
        "    y_true.append(row['ICD10'])\n",
        "    y_pred.append(X_train.iloc[predicted_index]['ICD10'])\n",
        "\n",
        "print(f\"예측값 : {y_pred}\")\n",
        "print(f\"실제값 : {y_true}\\n\")\n",
        "\n",
        "from sklearn.metrics import accuracy_score, precision_score, recall_score, f1_score\n",
        "\n",
        "accuracy = accuracy_score(y_true, y_pred)\n",
        "precision = precision_score(y_true, y_pred, average='weighted', zero_division='warn')\n",
        "f1 = f1_score(y_true, y_pred, average='weighted', zero_division='warn')\n",
        "recall = recall_score(y_true, y_pred, average='weighted', zero_division='warn')\n",
        "\n",
        "print(f\"Accuracy: {accuracy:.3f}\")\n",
        "print(f\"Precision: {precision:.3f}\")\n",
        "print(f\"Recall: {recall:.3f}\")\n",
        "print(f\"F1 Score: {f1:.3f}\")\n",
        "\n",
        "# 측정 결과 범위\n",
        "# Accuracy: 0.593 ~ 0.667\n",
        "# Precision: 0.556 ~ 0.667\n",
        "# Recall: 0.593 ~ 0.667\n",
        "# F1 Score: 0.568 ~ 0.654\n",
        "\n",
        "# Accuracy: 0.705 ~ 0.761\n",
        "# Precision: 0.864 ~ 0.912\n",
        "# Recall: 0.705 ~ 0.761\n",
        "# F1 Score: 0.765 ~ 0.810"
      ],
      "metadata": {
        "colab": {
          "base_uri": "https://localhost:8080/"
        },
        "id": "ag-B5puyZmoA",
        "outputId": "889c0bfb-b905-42e5-b9d1-b7f253fae9a1"
      },
      "execution_count": null,
      "outputs": [
        {
          "output_type": "stream",
          "name": "stdout",
          "text": [
            "예측값 : ['C640', 'N182', 'N391', 'R311', 'C679', 'R310', 'C640', 'R798', 'N185', 'N391', 'N028', 'N185', 'N178', 'N059', 'J3809', 'N183', 'N181', 'N391', 'N183', 'Z524', 'N185', 'M3529', 'N184', 'N059', 'N184', 'N182', 'N391', 'N185', 'N184', 'N178', 'N183', 'N183', 'N184', 'N178', 'N182', 'N178', 'R311', 'N178', 'N183', 'N185', 'N183', 'N183', 'N183', 'N185', 'N391', 'N391', 'N184', 'N183', 'N183', 'N184', 'E118', 'N178', 'N183', 'Q612', 'N185', 'N183', 'N185', 'N178', 'R808', 'C900', 'N281', 'Z940', 'N183', 'N183', 'N391', 'Z940', 'R829', 'N183', 'N042', 'Z524', 'N182', 'R311', 'N281', 'N183', 'Z940', 'R609', 'N185', 'N281', 'N391', 'N183', 'N178', 'N391', 'N281', 'N178', 'N185', 'C679', 'R609', 'N185']\n",
            "실제값 : ['C641', 'N182', 'N391', 'R311', 'N183', 'R310', 'N183', 'R798', 'N185', 'N391', 'N028', 'N185', 'N178', 'N391', 'N183', 'N183', 'N059', 'N391', 'N183', 'Z524', 'N185', 'N281', 'N184', 'N183', 'N184', 'N182', 'N391', 'N185', 'N184', 'N178', 'N183', 'N183', 'N184', 'N178', 'N183', 'N178', 'R311', 'N178', 'N183', 'N185', 'N183', 'N183', 'N183', 'N185', 'N391', 'N182', 'N183', 'N183', 'N183', 'N184', 'N183', 'N178', 'N183', 'Q612', 'N185', 'N183', 'N185', 'N178', 'R808', 'B349', 'N183', 'N185', 'N183', 'N183', 'N183', 'Z940', 'R829', 'N183', 'N042', 'Z524', 'N182', 'R311', 'N183', 'N183', 'Z940', 'R609', 'N185', 'N391', 'N391', 'N183', 'N178', 'N391', 'N183', 'N178', 'N185', 'N26', 'R601', 'N185']\n",
            "\n",
            "Accuracy: 0.761\n",
            "Precision: 0.875\n",
            "Recall: 0.761\n",
            "F1 Score: 0.801\n"
          ]
        }
      ]
    },
    {
      "cell_type": "markdown",
      "source": [
        "<성능 평가 방법>\n",
        "\n",
        "*   정확도 (Accuracy) [sklearn.metrics.accuracy_score](https://scikit-learn.org/0.15/modules/generated/sklearn.metrics.accuracy_score.html#sklearn.metrics.accuracy_score)\n",
        "*   정밀도 (Precision) [sklearn.metrics.precision_score](https://scikit-learn.org/0.15/modules/generated/sklearn.metrics.precision_score.html)\n",
        "*   재현율 (Recall) [sklearn.metrics.recall_score](https://scikit-learn.org/0.15/modules/generated/sklearn.metrics.recall_score.html#sklearn.metrics.recall_score)\n",
        "*   F1 score [sklearn.metrics.f1_score](https://scikit-learn.org/0.15/modules/generated/sklearn.metrics.f1_score.html#sklearn.metrics.f1_score)\n",
        "\n",
        "---\n",
        "\n",
        "*   정밀도, 재현율 : 불균형 데이터(클래스별 데이터 분포가 고르지 않은 경우)에서의 성능 측정을 위해 사용되는 지표\n",
        "*   정밀도 : 긍정으로 예측한 대상 중에서 실제로 긍정인 데이터의 비율. 예) 스팸 메일 판단(음성을 양성으로 판정하면 업무 메일을 못 받음)의 경우 정밀도가 중요\n",
        "*   재현율 : 실제 긍정인 데이터 중에서 긍정으로 예측한 대상의 비율. 예) 암 진단(양성을 음성으로 판정하면 큰 문제)과 같은 경우 재현율이 중요\n",
        "*   F1 score : 정밀도와 재현율을 결합한 지표. 정밀도와 재현율 중 어느 한쪽으로 치우치지 않을수록 높은 값\n",
        "\n",
        "\n",
        "\n",
        "\n",
        "\n",
        "\n",
        "\n"
      ],
      "metadata": {
        "id": "ObkCuK-_IU-A"
      }
    }
  ]
}